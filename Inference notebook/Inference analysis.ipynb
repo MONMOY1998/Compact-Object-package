{
 "cells": [
  {
   "cell_type": "code",
   "execution_count": 1,
   "id": "e3803bf8-eca4-459c-b15d-6a3751d1eca5",
   "metadata": {},
   "outputs": [
    {
     "name": "stdout",
     "output_type": "stream",
     "text": [
      "Collecting ultranestNote: you may need to restart the kernel to use updated packages.\n",
      "\n",
      "  Using cached ultranest-4.4.0.tar.gz (2.7 MB)\n",
      "  Installing build dependencies: started\n",
      "  Installing build dependencies: still running...\n",
      "  Installing build dependencies: finished with status 'done'\n",
      "  Getting requirements to build wheel: started\n",
      "  Getting requirements to build wheel: finished with status 'done'\n",
      "  Installing backend dependencies: started\n",
      "  Installing backend dependencies: finished with status 'done'\n",
      "  Preparing metadata (pyproject.toml): started\n",
      "  Preparing metadata (pyproject.toml): finished with status 'done'\n",
      "Requirement already satisfied: numpy in c:\\users\\user\\anaconda3\\lib\\site-packages (from ultranest) (1.26.4)\n",
      "Collecting cython (from ultranest)\n",
      "  Using cached Cython-3.0.12-cp312-cp312-win_amd64.whl.metadata (3.6 kB)\n",
      "Requirement already satisfied: matplotlib in c:\\users\\user\\anaconda3\\lib\\site-packages (from ultranest) (3.8.4)\n",
      "Requirement already satisfied: corner in c:\\users\\user\\anaconda3\\lib\\site-packages (from ultranest) (2.2.3)\n",
      "Requirement already satisfied: contourpy>=1.0.1 in c:\\users\\user\\anaconda3\\lib\\site-packages (from matplotlib->ultranest) (1.2.0)\n",
      "Requirement already satisfied: cycler>=0.10 in c:\\users\\user\\anaconda3\\lib\\site-packages (from matplotlib->ultranest) (0.11.0)\n",
      "Requirement already satisfied: fonttools>=4.22.0 in c:\\users\\user\\anaconda3\\lib\\site-packages (from matplotlib->ultranest) (4.51.0)\n",
      "Requirement already satisfied: kiwisolver>=1.3.1 in c:\\users\\user\\anaconda3\\lib\\site-packages (from matplotlib->ultranest) (1.4.4)\n",
      "Requirement already satisfied: packaging>=20.0 in c:\\users\\user\\anaconda3\\lib\\site-packages (from matplotlib->ultranest) (23.2)\n",
      "Requirement already satisfied: pillow>=8 in c:\\users\\user\\anaconda3\\lib\\site-packages (from matplotlib->ultranest) (10.3.0)\n",
      "Requirement already satisfied: pyparsing>=2.3.1 in c:\\users\\user\\anaconda3\\lib\\site-packages (from matplotlib->ultranest) (3.0.9)\n",
      "Requirement already satisfied: python-dateutil>=2.7 in c:\\users\\user\\anaconda3\\lib\\site-packages (from matplotlib->ultranest) (2.9.0.post0)\n",
      "Requirement already satisfied: six>=1.5 in c:\\users\\user\\anaconda3\\lib\\site-packages (from python-dateutil>=2.7->matplotlib->ultranest) (1.16.0)\n",
      "Using cached Cython-3.0.12-cp312-cp312-win_amd64.whl (2.8 MB)\n",
      "Building wheels for collected packages: ultranest\n",
      "  Building wheel for ultranest (pyproject.toml): started\n",
      "  Building wheel for ultranest (pyproject.toml): finished with status 'error'\n",
      "Failed to build ultranest\n"
     ]
    },
    {
     "name": "stderr",
     "output_type": "stream",
     "text": [
      "  error: subprocess-exited-with-error\n",
      "  \n",
      "  Building wheel for ultranest (pyproject.toml) did not run successfully.\n",
      "  exit code: 1\n",
      "  \n",
      "  [55 lines of output]\n",
      "  C:\\Users\\User\\AppData\\Local\\Temp\\pip-build-env-qkyyy2b7\\overlay\\Lib\\site-packages\\setuptools\\_distutils\\dist.py:270: UserWarning: Unknown distribution option: 'test_suite'\n",
      "    warnings.warn(msg)\n",
      "  C:\\Users\\User\\AppData\\Local\\Temp\\pip-build-env-qkyyy2b7\\overlay\\Lib\\site-packages\\setuptools\\_distutils\\dist.py:270: UserWarning: Unknown distribution option: 'tests_require'\n",
      "    warnings.warn(msg)\n",
      "  running bdist_wheel\n",
      "  running build\n",
      "  running build_py\n",
      "  creating build\\lib.win-amd64-cpython-312\\ultranest\n",
      "  copying ultranest\\calibrator.py -> build\\lib.win-amd64-cpython-312\\ultranest\n",
      "  copying ultranest\\dychmc.py -> build\\lib.win-amd64-cpython-312\\ultranest\n",
      "  copying ultranest\\dyhmc.py -> build\\lib.win-amd64-cpython-312\\ultranest\n",
      "  copying ultranest\\flatnuts.py -> build\\lib.win-amd64-cpython-312\\ultranest\n",
      "  copying ultranest\\hotstart.py -> build\\lib.win-amd64-cpython-312\\ultranest\n",
      "  copying ultranest\\integrator.py -> build\\lib.win-amd64-cpython-312\\ultranest\n",
      "  copying ultranest\\netiter.py -> build\\lib.win-amd64-cpython-312\\ultranest\n",
      "  copying ultranest\\ordertest.py -> build\\lib.win-amd64-cpython-312\\ultranest\n",
      "  copying ultranest\\pathsampler.py -> build\\lib.win-amd64-cpython-312\\ultranest\n",
      "  copying ultranest\\plot.py -> build\\lib.win-amd64-cpython-312\\ultranest\n",
      "  copying ultranest\\popstepsampler.py -> build\\lib.win-amd64-cpython-312\\ultranest\n",
      "  copying ultranest\\samplingpath.py -> build\\lib.win-amd64-cpython-312\\ultranest\n",
      "  copying ultranest\\solvecompat.py -> build\\lib.win-amd64-cpython-312\\ultranest\n",
      "  copying ultranest\\stepsampler.py -> build\\lib.win-amd64-cpython-312\\ultranest\n",
      "  copying ultranest\\store.py -> build\\lib.win-amd64-cpython-312\\ultranest\n",
      "  copying ultranest\\utils.py -> build\\lib.win-amd64-cpython-312\\ultranest\n",
      "  copying ultranest\\viz.py -> build\\lib.win-amd64-cpython-312\\ultranest\n",
      "  copying ultranest\\__init__.py -> build\\lib.win-amd64-cpython-312\\ultranest\n",
      "  running egg_info\n",
      "  writing ultranest.egg-info\\PKG-INFO\n",
      "  writing dependency_links to ultranest.egg-info\\dependency_links.txt\n",
      "  writing requirements to ultranest.egg-info\\requires.txt\n",
      "  writing top-level names to ultranest.egg-info\\top_level.txt\n",
      "  reading manifest file 'ultranest.egg-info\\SOURCES.txt'\n",
      "  reading manifest template 'MANIFEST.in'\n",
      "  warning: no files found matching '*.pxd' under directory '*'\n",
      "  warning: no previously-included files matching '__pycache__' found under directory '*'\n",
      "  warning: no previously-included files matching '*.py[co]' found under directory '*'\n",
      "  warning: no previously-included files matching '*.c' found under directory '*'\n",
      "  warning: no previously-included files matching '*.orig' found under directory '*'\n",
      "  warning: no previously-included files matching '*.pdf' found under directory '*'\n",
      "  warning: no files found matching '*.png' under directory 'docs'\n",
      "  warning: no files found matching '*.gif' under directory 'docs'\n",
      "  no previously-included directories found matching 'docs\\static\\mcmc-demo'\n",
      "  no previously-included directories found matching 'tests\\reports'\n",
      "  no previously-included directories found matching 'tests\\.pytype'\n",
      "  warning: no previously-included files matching 'conetestdata.npz' found under directory 'tests'\n",
      "  warning: no previously-included files matching 'region-stuck*.npz' found under directory 'tests'\n",
      "  adding license file 'LICENSE'\n",
      "  writing manifest file 'ultranest.egg-info\\SOURCES.txt'\n",
      "  copying ultranest\\mlfriends.c -> build\\lib.win-amd64-cpython-312\\ultranest\n",
      "  copying ultranest\\mlfriends.pyx -> build\\lib.win-amd64-cpython-312\\ultranest\n",
      "  copying ultranest\\stepfuncs.c -> build\\lib.win-amd64-cpython-312\\ultranest\n",
      "  copying ultranest\\stepfuncs.pyx -> build\\lib.win-amd64-cpython-312\\ultranest\n",
      "  running build_ext\n",
      "  building 'ultranest.mlfriends' extension\n",
      "  error: Microsoft Visual C++ 14.0 or greater is required. Get it with \"Microsoft C++ Build Tools\": https://visualstudio.microsoft.com/visual-cpp-build-tools/\n",
      "  [end of output]\n",
      "  \n",
      "  note: This error originates from a subprocess, and is likely not a problem with pip.\n",
      "  ERROR: Failed building wheel for ultranest\n",
      "ERROR: Could not build wheels for ultranest, which is required to install pyproject.toml-based projects\n"
     ]
    }
   ],
   "source": [
    "pip install ultranest"
   ]
  },
  {
   "cell_type": "code",
   "execution_count": 4,
   "id": "712f263a-c851-48cb-9c5a-3f0cc1c259ff",
   "metadata": {},
   "outputs": [
    {
     "ename": "ModuleNotFoundError",
     "evalue": "No module named 'ultranest'",
     "output_type": "error",
     "traceback": [
      "\u001b[1;31m---------------------------------------------------------------------------\u001b[0m",
      "\u001b[1;31mModuleNotFoundError\u001b[0m                       Traceback (most recent call last)",
      "Cell \u001b[1;32mIn[4], line 1\u001b[0m\n\u001b[1;32m----> 1\u001b[0m \u001b[38;5;28;01mimport\u001b[39;00m \u001b[38;5;21;01multranest\u001b[39;00m\n\u001b[0;32m      2\u001b[0m \u001b[38;5;28;01mimport\u001b[39;00m \u001b[38;5;21;01multranest\u001b[39;00m\u001b[38;5;21;01m.\u001b[39;00m\u001b[38;5;21;01mstepsampler\u001b[39;00m\n\u001b[0;32m      3\u001b[0m \u001b[38;5;28;01mimport\u001b[39;00m \u001b[38;5;21;01mInferenceWorkflow\u001b[39;00m\u001b[38;5;21;01m.\u001b[39;00m\u001b[38;5;21;01mBayesianSampler\u001b[39;00m \u001b[38;5;28;01mas\u001b[39;00m \u001b[38;5;21;01msampler\u001b[39;00m\n",
      "\u001b[1;31mModuleNotFoundError\u001b[0m: No module named 'ultranest'"
     ]
    }
   ],
   "source": [
    "import ultranest\n",
    "import ultranest.stepsampler\n",
    "import InferenceWorkflow.BayesianSampler as sampler\n",
    "import InferenceWorkflow.Likelihood as likelihood\n",
    "import InferenceWorkflow.prior as prior\n",
    "import numpy as np\n",
    "import math\n",
    "\n",
    "from TOVsolver.constant import oneoverfm_MeV , m_rho , m_w , G , c\n",
    "import TOVsolver.main as main\n",
    "import EOSgenerators.crust_EOS as crust\n",
    "import EOSgenerators.fastRMF_EoS as RMF\n"
   ]
  },
  {
   "cell_type": "code",
   "execution_count": null,
   "id": "e604de14-aa8c-405b-b24b-63591be037ad",
   "metadata": {},
   "outputs": [],
   "source": []
  }
 ],
 "metadata": {
  "kernelspec": {
   "display_name": "Python 3 (ipykernel)",
   "language": "python",
   "name": "python3"
  },
  "language_info": {
   "codemirror_mode": {
    "name": "ipython",
    "version": 3
   },
   "file_extension": ".py",
   "mimetype": "text/x-python",
   "name": "python",
   "nbconvert_exporter": "python",
   "pygments_lexer": "ipython3",
   "version": "3.12.4"
  }
 },
 "nbformat": 4,
 "nbformat_minor": 5
}

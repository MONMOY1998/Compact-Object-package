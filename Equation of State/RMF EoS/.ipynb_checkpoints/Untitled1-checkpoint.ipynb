{
 "cells": [
  {
   "cell_type": "code",
   "execution_count": 2,
   "id": "aa70dd24-a949-4879-87f0-36d64df4351d",
   "metadata": {},
   "outputs": [],
   "source": [
    "import numpy as np\n",
    "from scipy.integrate import quad\n",
    "import matplotlib.pyplot as plt\n"
   ]
  },
  {
   "cell_type": "code",
   "execution_count": 4,
   "id": "c9346d9a-bd32-4b14-aa97-82e26f04d189",
   "metadata": {},
   "outputs": [],
   "source": [
    "# Constants\n",
    "mu_1 = 938  # MeV\n",
    "P_1 = 2.08  # MeV/fm³ (assumed energy density)\n",
    "n_0 = 0.16  # fm⁻³ (number density corresponding to 2.68e14 g/cm³)\n",
    "n_1 = 1.1 * n_0  # fm⁻³\n",
    "\n"
   ]
  },
  {
   "cell_type": "code",
   "execution_count": 6,
   "id": "1b54ee97-581a-4c92-8b69-09892816ab03",
   "metadata": {},
   "outputs": [],
   "source": [
    "def generate_points(N, mu_1=938, mu_N1=2600):\n",
    "    \"\"\"\n",
    "    Generate random mu_points and cs2_points for piecewise linear c_s^2(mu).\n",
    "    \n",
    "    Parameters:\n",
    "    N (int): Number of segments (e.g., 3, 4, 5, 7).\n",
    "    mu_1 (float): Starting mu value in MeV.\n",
    "    mu_N1 (float): Ending mu value in MeV.\n",
    "    \n",
    "    Returns:\n",
    "    mu_points (list): List of mu values in increasing order.\n",
    "    cs2_points (list): List of c_s^2 values corresponding to mu_points.\n",
    "    \"\"\"\n",
    "    # Sample maximum sound speed squared from [0,1]\n",
    "\n",
    "    c_s_max2 = np.random.uniform(0, 1)\n",
    "    \n",
    "    # Sample N-1 intermediate mu points in [mu_1, mu_N1] and sort them\n",
    "\n",
    "    if N > 1:\n",
    "        intermediate_mus = np.random.uniform(mu_1, mu_N1, N-1)\n",
    "        intermediate_mus.sort()\n",
    "    else:\n",
    "        intermediate_mus = []\n",
    "    \n",
    "    # Construct mu_points with fixed endpoints\n",
    "    mu_points = [mu_1] + list(intermediate_mus) + [mu_N1]\n",
    "    \n",
    "    # Sample c_s^2 values for all N+1 points from [0, c_s_max2]\n",
    "    cs2_points = np.random.uniform( 0, c_s_max2, N+1).tolist()\n",
    "    cs2_points.sort()\n",
    "    return mu_points, cs2_points"
   ]
  },
  {
   "cell_type": "code",
   "execution_count": 8,
   "id": "a74048ba-ad6e-4f2e-842b-521d524a848f",
   "metadata": {},
   "outputs": [],
   "source": [
    "# Generate piecewise linear c_s²(μ) parameters\n",
    "N = 3  # Number of segments, can be 3, 4, 5, or 7\n",
    "mu_points, cs2_points = generate_points(N, mu_1=938, mu_N1=2600)\n"
   ]
  },
  {
   "cell_type": "code",
   "execution_count": 10,
   "id": "52fea071-2536-402e-834f-59fb136fa597",
   "metadata": {},
   "outputs": [
    {
     "name": "stdout",
     "output_type": "stream",
     "text": [
      "[938, 1494.3807572824778, 1626.3439464537496, 2600]\n"
     ]
    }
   ],
   "source": [
    "print(mu_points)"
   ]
  },
  {
   "cell_type": "code",
   "execution_count": 12,
   "id": "b96655bb-6fe5-4925-8b6f-31d5a783da4f",
   "metadata": {},
   "outputs": [
    {
     "name": "stdout",
     "output_type": "stream",
     "text": [
      "[0.006631039613492709, 0.01754798929601122, 0.02630778999708581, 0.08124828917408655]\n"
     ]
    }
   ],
   "source": [
    "print(cs2_points)"
   ]
  },
  {
   "cell_type": "code",
   "execution_count": 14,
   "id": "97265a48-7147-402d-9aab-252874a7c3ef",
   "metadata": {},
   "outputs": [
    {
     "name": "stdout",
     "output_type": "stream",
     "text": [
      "mu_points: [938, 1494.3807572824778, 1626.3439464537496, 2600]\n",
      "cs2_points: [0.006631039613492709, 0.01754798929601122, 0.02630778999708581, 0.08124828917408655]\n"
     ]
    }
   ],
   "source": [
    "# Example output (values will vary due to randomness)\n",
    "print(\"mu_points:\", mu_points)\n",
    "print(\"cs2_points:\", cs2_points)"
   ]
  },
  {
   "cell_type": "code",
   "execution_count": 16,
   "id": "84e35259-09e3-4349-a440-9fe13f81c488",
   "metadata": {},
   "outputs": [],
   "source": [
    "# Define c_s²(μ) with standard linear interpolation\n",
    "def c_s2(mu):\n",
    "    if mu <= mu_points[0]:\n",
    "        return cs2_points[0]\n",
    "    elif mu >= mu_points[-1]:\n",
    "        return cs2_points[-1]\n",
    "    for i in range(len(mu_points) - 1):\n",
    "        if mu_points[i] <= mu <= mu_points[i + 1]:\n",
    "            return ( cs2_points[i]*(mu_points[i + 1] - mu)  +  cs2_points[i + 1] * (mu - mu_points[i]) ) / (mu_points[i + 1] - mu_points[i])\n"
   ]
  },
  {
   "cell_type": "code",
   "execution_count": 18,
   "id": "e06675eb-1cf9-4934-9656-795f2b19330d",
   "metadata": {},
   "outputs": [],
   "source": [
    "# Integrand for equation (2)\n",
    "def integrand_eq2(mu_prime):\n",
    "    cs2 = c_s2(mu_prime)\n",
    "    if cs2 == 0:  # Avoid division by zero\n",
    "        return 0\n",
    "    return 1 / (mu_prime * cs2)\n",
    "\n",
    "\n",
    "# n(μ) from equation (2)\n",
    "def n_mu(mu):\n",
    "    if mu == mu_1:\n",
    "        return n_1\n",
    "    integral, _ = quad(integrand_eq2, mu_1, mu)\n",
    "    return n_1 * np.exp(integral)\n",
    "\n"
   ]
  },
  {
   "cell_type": "code",
   "execution_count": 20,
   "id": "5ee7b7ab-eccc-4be4-802c-0bb7f26859d5",
   "metadata": {},
   "outputs": [],
   "source": [
    "# Integrand for equation (3)\n",
    "def integrand_eq3(mu_prime):\n",
    "    return n_mu(mu_prime)\n",
    "\n",
    "# P(μ) from equation (3)\n",
    "def P_mu(mu):\n",
    "    if mu == mu_1:\n",
    "        return P_1\n",
    "    integral, _ = quad(integrand_eq3, mu_1, mu)\n",
    "    return P_1 + integral\n"
   ]
  },
  {
   "cell_type": "code",
   "execution_count": 22,
   "id": "69f8e7fc-e7af-4bac-a1da-7a9c0dc747be",
   "metadata": {},
   "outputs": [
    {
     "name": "stderr",
     "output_type": "stream",
     "text": [
      "C:\\Users\\User\\AppData\\Local\\Temp\\ipykernel_12732\\1762087462.py:9: IntegrationWarning: The occurrence of roundoff error is detected, which prevents \n",
      "  the requested tolerance from being achieved.  The error may be \n",
      "  underestimated.\n",
      "  integral, _ = quad(integrand_eq3, mu_1, mu)\n",
      "C:\\Users\\User\\AppData\\Local\\Temp\\ipykernel_12732\\1196872055.py:13: IntegrationWarning: The occurrence of roundoff error is detected, which prevents \n",
      "  the requested tolerance from being achieved.  The error may be \n",
      "  underestimated.\n",
      "  integral, _ = quad(integrand_eq2, mu_1, mu)\n"
     ]
    }
   ],
   "source": [
    "# Generate μ grid and compute n and P\n",
    "mu_grid = np.linspace(mu_1, 2600, 100)  # MeV, adjusted to reach n = 40 n_0\n",
    "n_grid = np.array([n_mu(mu) for mu in mu_grid])\n",
    "P_grid = np.array([P_mu(mu) for mu in mu_grid])\n",
    "cs2_grid = np.array([c_s2(mu) for mu in mu_grid])\n",
    "\n"
   ]
  },
  {
   "cell_type": "code",
   "execution_count": 23,
   "id": "40ca1d34-0ad5-4880-9449-415427a90a38",
   "metadata": {},
   "outputs": [],
   "source": [
    "# Convert n to n/n_0\n",
    "n_over_n0 = n_grid / n_0\n"
   ]
  },
  {
   "cell_type": "code",
   "execution_count": 26,
   "id": "14ebb350-b03d-40ec-9188-595ffabc77e3",
   "metadata": {},
   "outputs": [
    {
     "name": "stdout",
     "output_type": "stream",
     "text": [
      "[ 938.          954.78787879  971.57575758  988.36363636 1005.15151515\n",
      " 1021.93939394 1038.72727273 1055.51515152 1072.3030303  1089.09090909\n",
      " 1105.87878788 1122.66666667 1139.45454545 1156.24242424 1173.03030303\n",
      " 1189.81818182 1206.60606061 1223.39393939 1240.18181818 1256.96969697\n",
      " 1273.75757576 1290.54545455 1307.33333333 1324.12121212 1340.90909091\n",
      " 1357.6969697  1374.48484848 1391.27272727 1408.06060606 1424.84848485\n",
      " 1441.63636364 1458.42424242 1475.21212121 1492.         1508.78787879\n",
      " 1525.57575758 1542.36363636 1559.15151515 1575.93939394 1592.72727273\n",
      " 1609.51515152 1626.3030303  1643.09090909 1659.87878788 1676.66666667\n",
      " 1693.45454545 1710.24242424 1727.03030303 1743.81818182 1760.60606061\n",
      " 1777.39393939 1794.18181818 1810.96969697 1827.75757576 1844.54545455\n",
      " 1861.33333333 1878.12121212 1894.90909091 1911.6969697  1928.48484848\n",
      " 1945.27272727 1962.06060606 1978.84848485 1995.63636364 2012.42424242\n",
      " 2029.21212121 2046.         2062.78787879 2079.57575758 2096.36363636\n",
      " 2113.15151515 2129.93939394 2146.72727273 2163.51515152 2180.3030303\n",
      " 2197.09090909 2213.87878788 2230.66666667 2247.45454545 2264.24242424\n",
      " 2281.03030303 2297.81818182 2314.60606061 2331.39393939 2348.18181818\n",
      " 2364.96969697 2381.75757576 2398.54545455 2415.33333333 2432.12121212\n",
      " 2448.90909091 2465.6969697  2482.48484848 2499.27272727 2516.06060606\n",
      " 2532.84848485 2549.63636364 2566.42424242 2583.21212121 2600.        ]\n"
     ]
    }
   ],
   "source": [
    "print(mu_grid)"
   ]
  },
  {
   "cell_type": "code",
   "execution_count": 32,
   "id": "5f487c68-d000-4b61-b38b-61acde4568ce",
   "metadata": {},
   "outputs": [
    {
     "name": "stdout",
     "output_type": "stream",
     "text": [
      "[2.94800000e+14 4.01319948e+15 4.63611941e+16 4.61786396e+17\n",
      " 4.02126898e+18 3.09865928e+19 2.13543921e+20 1.32854282e+21\n",
      " 7.52400742e+21 3.90771036e+22 1.87355987e+23 8.34183041e+23\n",
      " 3.46754793e+24 1.35221047e+25 4.96846580e+25 1.72694126e+26\n",
      " 5.69871413e+26 1.79122481e+27 5.37904531e+27 1.54753790e+28\n",
      " 4.27621932e+28 1.13756253e+29 2.91959378e+29 7.24378415e+29\n",
      " 1.74062096e+30 4.05769983e+30 9.19138553e+30 2.02603759e+31\n",
      " 4.35186623e+31 9.12054822e+31 1.86725115e+32 3.73857554e+32\n",
      " 7.32799976e+32 1.40755797e+33 2.62544196e+33 4.69242444e+33\n",
      " 8.07321979e+33 1.34257250e+34 2.16565164e+34 3.39860058e+34\n",
      " 5.20229743e+34 7.78483379e+34 1.14241511e+35 1.64843039e+35\n",
      " 2.34156137e+35 3.27789011e+35 4.52646064e+35 6.17136729e+35\n",
      " 8.31400691e+35 1.10755230e+36 1.45993654e+36 1.90540216e+36\n",
      " 2.46358671e+36 3.15721272e+36 4.01239327e+36 5.05894628e+36\n",
      " 6.33071319e+36 7.86588296e+36 9.70731304e+36 1.19028618e+37\n",
      " 1.45057015e+37 1.75746437e+37 2.11744428e+37 2.53761094e+37\n",
      " 3.02571935e+37 3.59021261e+37 4.24022239e+37 4.98564632e+37\n",
      " 5.83711930e+37 6.80606495e+37 7.90470398e+37 9.14607905e+37\n",
      " 1.05440685e+38 1.21134006e+38 1.38696666e+38 1.58293301e+38\n",
      " 1.80097395e+38 2.04291157e+38 2.31066053e+38 2.60622023e+38\n",
      " 2.93168213e+38 3.28920464e+38 3.68111955e+38 4.10971982e+38\n",
      " 4.57746940e+38 5.08688764e+38 5.64061826e+38 6.24132872e+38\n",
      " 6.89180866e+38 7.59491649e+38 8.35359144e+38 9.17084684e+38\n",
      " 1.00497717e+39 1.09935252e+39 1.20053427e+39 1.30885088e+39\n",
      " 1.42463983e+39 1.54824302e+39 1.68000896e+39 1.82029151e+39]\n"
     ]
    }
   ],
   "source": [
    "print(n_grid/0.16 * 2.68e14)"
   ]
  },
  {
   "cell_type": "code",
   "execution_count": 34,
   "id": "1ea089b1-5963-435b-8047-ff6d26d8f733",
   "metadata": {},
   "outputs": [
    {
     "name": "stdout",
     "output_type": "stream",
     "text": [
      "[3.33257600e+33 2.64995394e+34 3.07723084e+35 3.24139467e+36\n",
      " 2.99147024e+37 2.43911298e+38 1.77539459e+39 1.16462293e+40\n",
      " 6.94322770e+40 3.79037093e+41 1.90747614e+42 8.90239120e+42\n",
      " 3.87414972e+43 1.57976319e+44 6.06284791e+44 2.19875575e+45\n",
      " 7.56280939e+45 2.47540727e+46 7.73384490e+46 2.31284836e+47\n",
      " 6.63774490e+47 1.83250723e+48 4.87722398e+48 1.25394812e+49\n",
      " 3.12017563e+49 7.52704797e+49 1.76325980e+50 4.01702707e+50\n",
      " 8.91243224e+50 1.92821803e+51 4.07298183e+51 8.40928354e+51\n",
      " 1.69886152e+52 3.36157446e+52 6.51028323e+52 1.22453009e+53\n",
      " 2.22805219e+53 3.92246177e+53 6.69342948e+53 1.10964712e+54\n",
      " 1.79131995e+54 2.82202976e+54 4.34792626e+54 6.56695107e+54\n",
      " 9.74206346e+54 1.42171651e+55 2.04363546e+55 2.89663950e+55\n",
      " 4.05226708e+55 5.59989157e+55 7.65009434e+55 1.03384663e+56\n",
      " 1.38298533e+56 1.83230737e+56 2.40561139e+56 3.13118280e+56\n",
      " 4.04241351e+56 5.17847503e+56 6.58504139e+56 8.31506619e+56\n",
      " 1.04296098e+57 1.29987238e+57 1.61023693e+57 1.98314113e+57\n",
      " 2.42886332e+57 2.95898233e+57 3.58648803e+57 4.32590003e+57\n",
      " 5.19337640e+57 6.20686099e+57 7.38618461e+57 8.75321089e+57\n",
      " 1.03319645e+58 1.21487629e+58 1.42323651e+58 1.66140955e+58\n",
      " 1.93280022e+58 2.24109774e+58 2.59029264e+58 2.98468877e+58\n",
      " 3.42891879e+58 3.92795849e+58 4.48714063e+58 5.11217022e+58\n",
      " 5.80913244e+58 6.58452121e+58 7.44523502e+58 8.39860323e+58\n",
      " 9.45239562e+58 1.06148252e+59 1.18945860e+59 1.33008388e+59\n",
      " 1.48432390e+59 1.65319402e+59 1.83776141e+59 2.03914497e+59\n",
      " 2.25851791e+59 2.49710708e+59 2.75619579e+59 3.03712264e+59]\n"
     ]
    }
   ],
   "source": [
    "print(P_grid * 1.6022e33)"
   ]
  },
  {
   "cell_type": "code",
   "execution_count": 36,
   "id": "e90fd7ef-0269-4b19-a157-25fe9167a801",
   "metadata": {},
   "outputs": [
    {
     "name": "stdout",
     "output_type": "stream",
     "text": [
      "[0.00663104 0.00696044 0.00728984 0.00761924 0.00794864 0.00827805\n",
      " 0.00860745 0.00893685 0.00926625 0.00959565 0.00992505 0.01025445\n",
      " 0.01058385 0.01091325 0.01124265 0.01157206 0.01190146 0.01223086\n",
      " 0.01256026 0.01288966 0.01321906 0.01354846 0.01387786 0.01420726\n",
      " 0.01453667 0.01486607 0.01519547 0.01552487 0.01585427 0.01618367\n",
      " 0.01651307 0.01684247 0.01717187 0.01750128 0.01850434 0.01961873\n",
      " 0.02073312 0.02184751 0.0229619  0.02407629 0.02519068 0.02630507\n",
      " 0.02725277 0.02820006 0.02914735 0.03009464 0.03104193 0.03198922\n",
      " 0.03293651 0.0338838  0.03483109 0.03577838 0.03672567 0.03767296\n",
      " 0.03862025 0.03956754 0.04051483 0.04146212 0.04240941 0.0433567\n",
      " 0.04430399 0.04525128 0.04619857 0.04714586 0.04809315 0.04904044\n",
      " 0.04998773 0.05093502 0.05188231 0.0528296  0.05377689 0.05472417\n",
      " 0.05567146 0.05661875 0.05756604 0.05851333 0.05946062 0.06040791\n",
      " 0.0613552  0.06230249 0.06324978 0.06419707 0.06514436 0.06609165\n",
      " 0.06703894 0.06798623 0.06893352 0.06988081 0.0708281  0.07177539\n",
      " 0.07272268 0.07366997 0.07461726 0.07556455 0.07651184 0.07745913\n",
      " 0.07840642 0.07935371 0.080301   0.08124829]\n"
     ]
    }
   ],
   "source": [
    "print(cs2_grid)"
   ]
  },
  {
   "cell_type": "code",
   "execution_count": 38,
   "id": "d8856760-1e53-4b49-805d-9208a35de8c2",
   "metadata": {},
   "outputs": [],
   "source": [
    "# Filter for the desired range: 1.1 n_0 to 40 n_0\n",
    "mask = (n_over_n0 >= 1.1) & (n_over_n0 <= 40)\n",
    "n_plot = n_over_n0[mask]\n",
    "P_plot = P_grid[mask]\n",
    "cs2_plot = cs2_grid[mask]\n"
   ]
  },
  {
   "cell_type": "code",
   "execution_count": 40,
   "id": "d7b08ad6-d28a-43d5-b379-8e1d025c9bfa",
   "metadata": {},
   "outputs": [
    {
     "name": "stdout",
     "output_type": "stream",
     "text": [
      "[2.94800000e+14 4.01319948e+15]\n"
     ]
    }
   ],
   "source": [
    "print(n_plot * 2.68e14)"
   ]
  },
  {
   "cell_type": "code",
   "execution_count": 42,
   "id": "625401b4-b56d-497b-9165-216699dab275",
   "metadata": {},
   "outputs": [
    {
     "name": "stdout",
     "output_type": "stream",
     "text": [
      "[3.33257600e+33 2.64995394e+34]\n"
     ]
    }
   ],
   "source": [
    "print(P_plot * 1.6022e33)"
   ]
  },
  {
   "cell_type": "code",
   "execution_count": 44,
   "id": "9fc127cf-1454-4d3e-8809-7816f9731bba",
   "metadata": {},
   "outputs": [
    {
     "name": "stdout",
     "output_type": "stream",
     "text": [
      "[0.00663104 0.00696044]\n"
     ]
    }
   ],
   "source": [
    "print(cs2_plot)"
   ]
  },
  {
   "cell_type": "code",
   "execution_count": 46,
   "id": "0d7127fe-cf15-44f8-95dc-0d057b97c71b",
   "metadata": {},
   "outputs": [],
   "source": [
    "sound_speed_squared = np.column_stack(( cs2_plot  ))\n",
    "np.savetxt(\"sound_speed_squared\", sound_speed_squared,  fmt=\"%.6e\")"
   ]
  },
  {
   "cell_type": "code",
   "execution_count": 48,
   "id": "904e0303-610f-40e1-8b1c-a1b1ade7ad72",
   "metadata": {},
   "outputs": [
    {
     "data": {
      "image/png": "[encoded data removed]",
      "text/plain": [
       "<Figure size 640x480 with 1 Axes>"
      ]
     },
     "metadata": {},
     "output_type": "display_data"
    }
   ],
   "source": [
    "# Plotting\n",
    "plt.plot( (n_plot*2.68e14)/ 1.7827e12, P_plot, label='Pressure vs Density')\n",
    "plt.xlabel('Density (MeV/fm³)')\n",
    "plt.ylabel('Pressure (MeV/fm³)')\n",
    "plt.title('Pressure vs Density from 1.1 n₀ to 40 n₀')\n",
    "plt.xscale(\"log\")\n",
    "plt.yscale(\"log\")\n",
    "plt.grid(True)\n",
    "plt.legend()\n",
    "plt.show()"
   ]
  },
  {
   "cell_type": "code",
   "execution_count": 50,
   "id": "591fbdc0-93a6-4879-a7c8-dc87f114f8f0",
   "metadata": {},
   "outputs": [
    {
     "data": {
      "image/png": "[encoded data removed]",
      "text/plain": [
       "<Figure size 640x480 with 1 Axes>"
      ]
     },
     "metadata": {},
     "output_type": "display_data"
    }
   ],
   "source": [
    "# Plotting\n",
    "plt.plot( (n_plot*2.68e14)/ 1.7827e12 , cs2_plot)\n",
    "plt.xlabel('Density (MeV/fm³)')\n",
    "plt.ylabel(r'$c_{s}^2$')\n",
    "#plt.title('Pressure vs Density from 1.1 n₀ to 40 n₀')\n",
    "plt.xscale(\"log\")\n",
    "#plt.yscale(\"log\")\n",
    "plt.grid(True)\n",
    "#plt.legend()\n",
    "plt.show()"
   ]
  },
  {
   "cell_type": "code",
   "execution_count": 52,
   "id": "10252a9b-f1ec-45af-865d-6955d85c0e47",
   "metadata": {},
   "outputs": [],
   "source": [
    "data_speed_of_sound = np.column_stack(( P_plot * 1.6022e33 , n_plot * 2.68e14 ))\n",
    "np.savetxt(\"data_speed_of_sound\", data_speed_of_sound,  fmt=\"%.6e\")"
   ]
  },
  {
   "cell_type": "code",
   "execution_count": null,
   "id": "7af06eac-c2e6-4ff5-86e8-b126ab009d21",
   "metadata": {},
   "outputs": [],
   "source": [
    "data_1 = np.loadtxt(\"data_polytropic\")\n",
    "data_2 = np.loadtxt(\"data_speed_of_sound\")"
   ]
  },
  {
   "cell_type": "code",
   "execution_count": null,
   "id": "632dbc61-afbc-4721-aceb-aea68872c434",
   "metadata": {},
   "outputs": [],
   "source": [
    "data_1_pres = data_1[:,0]\n",
    "data_1_density = data_1[:,1]\n",
    "\n",
    "data_2_pres = data_2[:,0]\n",
    "data_2_density = data_2[:,1]\n",
    "\n"
   ]
  },
  {
   "cell_type": "code",
   "execution_count": null,
   "id": "4af7140d-e867-4d91-83dc-6bf5e20b98b5",
   "metadata": {},
   "outputs": [],
   "source": [
    "eps_total = np.array([*data_1_density,*data_2_density])\n",
    "pres_total = np.array([*data_1_pres,*data_2_pres])"
   ]
  },
  {
   "cell_type": "code",
   "execution_count": null,
   "id": "e0039410-afaa-437f-8bd5-6c29118c73ef",
   "metadata": {},
   "outputs": [],
   "source": [
    "print(eps_total)"
   ]
  },
  {
   "cell_type": "code",
   "execution_count": null,
   "id": "d457adf9-0512-45c3-8867-1515f5688593",
   "metadata": {},
   "outputs": [],
   "source": [
    "print(pres_total)"
   ]
  },
  {
   "cell_type": "code",
   "execution_count": null,
   "id": "22820ea1-5259-4fbe-aa21-7c7c3ce2190f",
   "metadata": {},
   "outputs": [],
   "source": [
    "plt.plot(eps_total, pres_total)\n",
    "plt.show()"
   ]
  },
  {
   "cell_type": "code",
   "execution_count": 54,
   "id": "f413f485-2256-41b2-8b66-67494c28bb78",
   "metadata": {},
   "outputs": [
    {
     "ename": "NameError",
     "evalue": "name 'eps_total' is not defined",
     "output_type": "error",
     "traceback": [
      "\u001b[1;31m---------------------------------------------------------------------------\u001b[0m",
      "\u001b[1;31mNameError\u001b[0m                                 Traceback (most recent call last)",
      "Cell \u001b[1;32mIn[54], line 2\u001b[0m\n\u001b[0;32m      1\u001b[0m \u001b[38;5;66;03m# Plotting\u001b[39;00m\n\u001b[1;32m----> 2\u001b[0m plt\u001b[38;5;241m.\u001b[39mplot( eps_total\u001b[38;5;241m/\u001b[39m(\u001b[38;5;241m1.7827e12\u001b[39m), pres_total\u001b[38;5;241m/\u001b[39m(\u001b[38;5;241m1.6022e33\u001b[39m))\n\u001b[0;32m      3\u001b[0m plt\u001b[38;5;241m.\u001b[39mxlabel(\u001b[38;5;124m'\u001b[39m\u001b[38;5;124mDensity (MeV/fm³)\u001b[39m\u001b[38;5;124m'\u001b[39m)\n\u001b[0;32m      4\u001b[0m plt\u001b[38;5;241m.\u001b[39mylabel(\u001b[38;5;124m'\u001b[39m\u001b[38;5;124mPressure (MeV/fm³)\u001b[39m\u001b[38;5;124m'\u001b[39m)\n",
      "\u001b[1;31mNameError\u001b[0m: name 'eps_total' is not defined"
     ]
    }
   ],
   "source": [
    "# Plotting\n",
    "plt.plot( eps_total/(1.7827e12), pres_total/(1.6022e33))\n",
    "plt.xlabel('Density (MeV/fm³)')\n",
    "plt.ylabel('Pressure (MeV/fm³)')\n",
    "plt.title('Pressure vs Density')\n",
    "plt.xscale(\"log\")\n",
    "plt.yscale(\"log\")\n",
    "plt.xlim([10**2,10**4])\n",
    "plt.ylim([10**0,10**4])\n",
    "plt.grid(True)\n",
    "#plt.legend()\n",
    "plt.show()"
   ]
  },
  {
   "cell_type": "code",
   "execution_count": null,
   "id": "74928eb1-6a48-49e8-8a2f-5a51ad616b27",
   "metadata": {},
   "outputs": [],
   "source": [
    "full_EOS = np.column_stack(( pres_total,eps_total  ))\n",
    "np.savetxt(\"Full_EOS\", full_EOS,  fmt=\"%.6e\")"
   ]
  },
  {
   "cell_type": "code",
   "execution_count": 60,
   "id": "16da372a-d844-41a6-85da-b793e4cb1da8",
   "metadata": {},
   "outputs": [
    {
     "name": "stdout",
     "output_type": "stream",
     "text": [
      "EOS data shape: (1173, 2)\n",
      "cs2 data length: 88\n"
     ]
    }
   ],
   "source": [
    "import numpy as np\n",
    "\n",
    "# Load the EOS data\n",
    "eos_data = np.loadtxt('Full_EOS', dtype=float)\n",
    "\n",
    "# Load the sound speed squared data\n",
    "cs2_data = np.loadtxt('sound_speed_squared', dtype=float)\n",
    "\n",
    "# Verify the data shapes\n",
    "print(f\"EOS data shape: {eos_data.shape}\")  # Should be (614, 2)\n",
    "print(f\"cs2 data length: {len(cs2_data)}\")  # Should be 88\n",
    "\n",
    "# Ensure the cs2 data matches the last 88 rows\n",
    "if len(cs2_data) != 88:\n",
    "    raise ValueError(\"Expected 88 cs2 values, but got {}\".format(len(cs2_data)))\n",
    "\n",
    "# Create an output array with three columns, initialized with NaN for cs2\n",
    "output_data = np.full((eos_data.shape[0], 3), np.nan)\n",
    "# Copy n and P to the first two columns\n",
    "output_data[:, :2] = eos_data\n",
    "# Add cs2 values to the last 88 rows of the third column\n",
    "output_data[-88:, 2] = cs2_data\n",
    "\n",
    "# Save to a new file, handling NaN as empty strings for the first 526 rows\n",
    "np.savetxt('Full_EOS_with_cs2.txt', output_data, fmt=['%.6e', '%.6e', '%s'],\n",
    "           delimiter=' ', encoding='utf-8',\n",
    "           comments='', header='n P cs2')\n",
    "# Note: Using '%s' for the third column to write empty strings for NaN values"
   ]
  },
  {
   "cell_type": "code",
   "execution_count": null,
   "id": "9c9318ca-3e35-4b4b-903b-915d343782dd",
   "metadata": {},
   "outputs": [],
   "source": []
  }
 ],
 "metadata": {
  "kernelspec": {
   "display_name": "Python 3 (ipykernel)",
   "language": "python",
   "name": "python3"
  },
  "language_info": {
   "codemirror_mode": {
    "name": "ipython",
    "version": 3
   },
   "file_extension": ".py",
   "mimetype": "text/x-python",
   "name": "python",
   "nbconvert_exporter": "python",
   "pygments_lexer": "ipython3",
   "version": "3.12.4"
  }
 },
 "nbformat": 4,
 "nbformat_minor": 5
}

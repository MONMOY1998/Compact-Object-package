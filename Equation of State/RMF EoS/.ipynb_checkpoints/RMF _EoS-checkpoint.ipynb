{
 "cells": [
  {
   "cell_type": "code",
   "execution_count": 1,
   "id": "670cfff0-a8c6-4d76-822f-d2a390dd282c",
   "metadata": {},
   "outputs": [
    {
     "name": "stdout",
     "output_type": "stream",
     "text": [
      "Requirement already satisfied: CompactObject-TOV in c:\\users\\user\\anaconda3\\lib\\site-packages (2.0.0)Note: you may need to restart the kernel to use updated packages.\n",
      "\n",
      "Requirement already satisfied: contourpy in c:\\users\\user\\anaconda3\\lib\\site-packages (from CompactObject-TOV) (1.2.0)\n",
      "Requirement already satisfied: corner in c:\\users\\user\\anaconda3\\lib\\site-packages (from CompactObject-TOV) (2.2.3)\n",
      "Requirement already satisfied: cycler in c:\\users\\user\\anaconda3\\lib\\site-packages (from CompactObject-TOV) (0.11.0)\n",
      "Requirement already satisfied: fonttools in c:\\users\\user\\anaconda3\\lib\\site-packages (from CompactObject-TOV) (4.51.0)\n",
      "Requirement already satisfied: kiwisolver in c:\\users\\user\\anaconda3\\lib\\site-packages (from CompactObject-TOV) (1.4.4)\n",
      "Requirement already satisfied: matplotlib in c:\\users\\user\\anaconda3\\lib\\site-packages (from CompactObject-TOV) (3.8.4)\n",
      "Requirement already satisfied: numpy in c:\\users\\user\\anaconda3\\lib\\site-packages (from CompactObject-TOV) (1.26.4)\n",
      "Requirement already satisfied: packaging in c:\\users\\user\\anaconda3\\lib\\site-packages (from CompactObject-TOV) (23.2)\n",
      "Requirement already satisfied: pillow in c:\\users\\user\\anaconda3\\lib\\site-packages (from CompactObject-TOV) (10.3.0)\n",
      "Requirement already satisfied: pyparsing in c:\\users\\user\\anaconda3\\lib\\site-packages (from CompactObject-TOV) (3.0.9)\n",
      "Requirement already satisfied: python-dateutil in c:\\users\\user\\anaconda3\\lib\\site-packages (from CompactObject-TOV) (2.9.0.post0)\n",
      "Requirement already satisfied: six in c:\\users\\user\\anaconda3\\lib\\site-packages (from CompactObject-TOV) (1.16.0)\n",
      "Requirement already satisfied: scipy in c:\\users\\user\\anaconda3\\lib\\site-packages (from CompactObject-TOV) (1.13.1)\n"
     ]
    }
   ],
   "source": [
    "pip install CompactObject-TOV"
   ]
  },
  {
   "cell_type": "markdown",
   "id": "d5ce3033-bf17-4000-aa23-dd30e5d84213",
   "metadata": {},
   "source": [
    "# import all the packages used here"
   ]
  },
  {
   "cell_type": "code",
   "execution_count": 4,
   "id": "dee73c6f-95be-4332-bfe2-98be2d648e20",
   "metadata": {},
   "outputs": [],
   "source": [
    "import EOSgenerators.crust_EOS as crust\n",
    "import EOSgenerators.RMF_EOS as RMF\n",
    "import EOSgenerators.Polytrope_EOS as Polytrope\n",
    "import EOSgenerators.Strangeon_EOS as Strangeon\n",
    "import TOVsolver.main as main\n",
    "import matplotlib.pyplot as plt\n",
    "import numpy as np\n",
    "import math\n",
    "from TOVsolver.unit import g_cm_3,dyn_cm_2,km,Msun,MeV,fm\n",
    "#from TOVsolver.maximum_central_density import maximum_central_density"
   ]
  },
  {
   "cell_type": "code",
   "execution_count": 6,
   "id": "b3361f78-a632-4345-a4fd-494532d9ae49",
   "metadata": {},
   "outputs": [],
   "source": [
    "Tolos_crust_out=np.loadtxt(\"Tolos_crust_out.txt\")\n",
    "eps_crust_T_out=Tolos_crust_out[:,3] * g_cm_3\n",
    "pres_crust_T_out=Tolos_crust_out[:,4] * dyn_cm_2\n",
    "eps_com,pres_com=crust.PolyInterpolate(eps_crust_T_out,pres_crust_T_out)"
   ]
  },
  {
   "cell_type": "code",
   "execution_count": 8,
   "id": "e900bfa0-044a-432b-a43b-b00a72742780",
   "metadata": {},
   "outputs": [
    {
     "name": "stdout",
     "output_type": "stream",
     "text": [
      "3.167330533234082e-36\n",
      "2.850597479910674e-15\n"
     ]
    }
   ],
   "source": [
    "print(dyn_cm_2)\n",
    "print(g_cm_3)"
   ]
  },
  {
   "cell_type": "code",
   "execution_count": 10,
   "id": "1362c07e-d22e-40da-a2af-f144368ec7bb",
   "metadata": {},
   "outputs": [
    {
     "name": "stdout",
     "output_type": "stream",
     "text": [
      "[1.0317e+04 1.0471e+05 1.0457e+06 8.2138e+06 1.0462e+07 4.1659e+07\n",
      " 1.3176e+08 2.6269e+08 2.7220e+08 2.9508e+08 5.2496e+08 8.3212e+08\n",
      " 1.3191e+09 1.4132e+09 1.5319e+09 1.6609e+09 2.0908e+09 2.6324e+09\n",
      " 3.0881e+09 3.3151e+09 5.2552e+09 8.3320e+09 1.1285e+10 1.2615e+10\n",
      " 1.6635e+10 2.0947e+10 2.7622e+10 3.1718e+10 4.1828e+10 5.2673e+10\n",
      " 6.3269e+10 6.9462e+10 9.7955e+10 1.0520e+11 1.2711e+11 1.4035e+11\n",
      " 1.8299e+11 2.0067e+11 2.3584e+11 2.6163e+11 2.8364e+11 3.4112e+11\n",
      " 4.0556e+11 4.3721e+11]\n"
     ]
    }
   ],
   "source": [
    "print(Tolos_crust_out[:,3])"
   ]
  },
  {
   "cell_type": "code",
   "execution_count": 12,
   "id": "5e40233d-1dee-4215-89a0-c392b2904b6f",
   "metadata": {},
   "outputs": [
    {
     "name": "stdout",
     "output_type": "stream",
     "text": [
      "[3.02141162e-17 1.69068937e-15 7.36119289e-14 1.71526785e-12\n",
      " 2.34091065e-12 1.68226427e-11 8.27053349e-11 2.11764552e-10\n",
      " 2.20477878e-10 2.37480109e-10 5.17541809e-10 9.62551749e-10\n",
      " 1.78741964e-09 1.88117262e-09 2.09617102e-09 2.27598037e-09\n",
      " 3.09856779e-09 4.21825080e-09 5.22356152e-09 5.50133640e-09\n",
      " 1.01864517e-08 1.88538517e-08 2.82655744e-08 3.12979767e-08\n",
      " 4.52706553e-08 6.15634036e-08 8.90241593e-08 1.01706151e-07\n",
      " 1.47068659e-07 1.99959911e-07 2.55274172e-07 2.73293115e-07\n",
      " 4.31992211e-07 4.70887030e-07 6.05751964e-07 6.36665110e-07\n",
      " 9.06363305e-07 9.83139398e-07 1.21894716e-06 1.39954834e-06\n",
      " 1.49060910e-06 1.90559274e-06 2.39912619e-06 2.45727837e-06]\n"
     ]
    }
   ],
   "source": [
    "print(pres_crust_T_out)"
   ]
  },
  {
   "cell_type": "code",
   "execution_count": 14,
   "id": "bfbc6d46-7710-456a-8bb1-cfd76371fe0a",
   "metadata": {},
   "outputs": [],
   "source": [
    "m_sig = 495.0/197.33\n",
    "m_w = 3.96544\n",
    "m_rho = 3.86662\n",
    "\n",
    "g_sigma = math.sqrt(107.5751)\n",
    "g_omega = math.sqrt(182.3949)\n",
    "g_rho = math.sqrt(206.4260)\n",
    "\n",
    "kappa = 3.091114168/197.33\n",
    "lambda_0 = -0.00168015405\n",
    "zeta = 0.024\n",
    "Lambda_w = 0.045\n",
    "theta = np.array([m_sig,m_w,m_rho,g_sigma,g_omega,g_rho,kappa,lambda_0,zeta,Lambda_w])\n",
    "eps,pres = RMF.compute_EOS(eps_com,pres_com,theta,return_tag=False)\n",
    "#EOS = RMF.compute_EOS(eps_com,pres_com,theta,return_tag=True)"
   ]
  },
  {
   "cell_type": "code",
   "execution_count": 16,
   "id": "651022a1-f9a1-46f7-b271-c356556d1b90",
   "metadata": {},
   "outputs": [],
   "source": [
    "# eps_total = np.array([*eps_com,*EOS[1]])\n",
    "# pres_total = np.array([*pres_com,*EOS[2]])"
   ]
  },
  {
   "cell_type": "code",
   "execution_count": 26,
   "id": "1d32512d-7349-401e-8e41-b16b7039ba11",
   "metadata": {},
   "outputs": [],
   "source": [
    "eps_total = np.array([*eps_com,*eps])\n",
    "pres_total = np.array([*pres_com,*pres])"
   ]
  },
  {
   "cell_type": "code",
   "execution_count": 28,
   "id": "f160d26d-9a3d-4303-91e1-594ddd0d5992",
   "metadata": {},
   "outputs": [
    {
     "name": "stdout",
     "output_type": "stream",
     "text": [
      "[2.94096142e-11 2.98486062e-10 2.98086978e-09 ... 5.59845851e+00\n",
      " 5.65838152e+00 5.71850103e+00]\n"
     ]
    }
   ],
   "source": [
    "print(eps_total)\n",
    "# print(len(eps_total/g_cm_3))\n",
    "# print(len(EOS[0]* fm**(-3)/g_cm_3))"
   ]
  },
  {
   "cell_type": "code",
   "execution_count": 30,
   "id": "a008fbd1-56b9-4280-9a5e-3bd116b65229",
   "metadata": {},
   "outputs": [],
   "source": [
    "# datanan = np.zeros(1147-103)\n",
    "# EOS0 = EOS[0]* fm**(-3)/g_cm_3\n",
    "# dataconc = np.concatenate((datanan, EOS0))\n",
    "# dataconc"
   ]
  },
  {
   "cell_type": "code",
   "execution_count": 32,
   "id": "cd0ea5bd-baa8-48da-9760-69b89e7ec797",
   "metadata": {},
   "outputs": [],
   "source": [
    "# len(dataconc)"
   ]
  },
  {
   "cell_type": "code",
   "execution_count": 40,
   "id": "bafb81fc-98ba-4d39-821a-9f1f038af14e",
   "metadata": {},
   "outputs": [],
   "source": [
    "# Stack them as two columns\n",
    "#data = np.column_stack((eps_total/g_cm_3, pres_total/dyn_cm_2))\n",
    "data_1 = np.column_stack((eps_total/g_cm_3, pres_total/g_cm_3))\n"
   ]
  },
  {
   "cell_type": "code",
   "execution_count": 42,
   "id": "a1760be9-0cdc-4f16-87f1-edf783f6653f",
   "metadata": {},
   "outputs": [
    {
     "data": {
      "text/plain": [
       "array([[1.03170000e+04, 1.05992222e-02],\n",
       "       [1.04710000e+05, 5.93100000e-01],\n",
       "       [1.04570000e+06, 2.58233333e+01],\n",
       "       ...,\n",
       "       [1.96395968e+15, 5.74618761e+14],\n",
       "       [1.98498089e+15, 5.83006779e+14],\n",
       "       [2.00607103e+15, 5.91421787e+14]])"
      ]
     },
     "execution_count": 42,
     "metadata": {},
     "output_type": "execute_result"
    }
   ],
   "source": [
    "data_1"
   ]
  },
  {
   "cell_type": "code",
   "execution_count": 44,
   "id": "ab4aece3-424a-4dde-84e2-6b3e435efc5a",
   "metadata": {},
   "outputs": [],
   "source": [
    "# Save the data to a file named \"total_eos.txt\"\n",
    "np.savetxt(\"RMF_PWP_1.dat\", data_1,  fmt=\"%.6e\")"
   ]
  },
  {
   "cell_type": "code",
   "execution_count": null,
   "id": "e3d23dc7-b268-4171-bbe2-4d48fdb14e67",
   "metadata": {},
   "outputs": [],
   "source": [
    "MR = main.OutputMR(\"\",eps_total,pres_total).T\n",
    "\n",
    "fig,ax = plt.subplots(1,1,figsize=(9,6))\n",
    "ax.plot(MR[1]/km,MR[0]/Msun,lw=2)\n",
    "ax.set_ylabel(r\"M[$M_{\\odot}$]\", fontsize=16)\n",
    "ax.set_xlabel(\"R[km]\", fontsize=16)\n",
    "ax.set_ylim(0,3)\n",
    "ax.set_xlim(8.0,20.0)\n",
    "ax.tick_params(top=1,right=1,which=\"both\",direction=\"in\",labelsize=14)\n",
    "ax.tick_params(top=1,right=1,which=\"both\",direction=\"in\",labelsize=14)\n",
    "fig.tight_layout()\n",
    "plt.show()\n"
   ]
  },
  {
   "cell_type": "code",
   "execution_count": null,
   "id": "8d235c1b-e2f4-41df-a609-be9f4c4dcabc",
   "metadata": {},
   "outputs": [],
   "source": [
    "EoS_composition=RMF.compute_EOS(eps_com,pres_com,theta,return_tag=True)\n",
    "\n",
    "rho=EoS_composition[0]\n",
    "e=EoS_composition[1]/(MeV * fm**(-3))\n",
    "p=EoS_composition[2]/(MeV*fm**(-3))\n",
    "\n",
    "mu_p=EoS_composition[3]/MeV\n",
    "mu_n=EoS_composition[4]/MeV\n",
    "mu_e=EoS_composition[5]/MeV\n",
    "mu_mu=EoS_composition[6]/MeV\n",
    "\n",
    "xp=EoS_composition[7]\n",
    "\n",
    "fig,axs=plt.subplots(2,2,figsize=(12,12))\n",
    "fig.suptitle(\"Equation of State Analysis\",fontsize=22)\n",
    "\n",
    "axs[0,0].plot(e,p,color=\"blue\",label=\"Energy vs Pressure\")\n",
    "axs[0,0].set_xlabel(\"Energy Density ($MeV.fm^{-3}$)\",fontsize=15)\n",
    "axs[0,0].set_ylabel(\"Pressure ($MeV.fm^{-3}$)\",fontsize=15)\n",
    "axs[0,0].legend(fontsize=15)\n",
    "axs[0,0].grid(True)\n",
    "\n",
    "axs[0,1].plot(rho,xp,color=\"green\",label=\"Density vs $x_p$\")\n",
    "axs[0,1].set_xlabel(\"Number Density ($fm^{-3}$)\",fontsize=15)\n",
    "axs[0,1].set_ylabel(\"Proton fraction\",fontsize=15)\n",
    "axs[0,1].legend(fontsize=15)\n",
    "axs[0,1].grid(True)\n",
    "\n",
    "axs[1,0].plot(mu_n,p,color=\"red\",label=\"Neutron Chemical Potential vs Pressure\")\n",
    "axs[1,0].set_xlabel(\"Neutron Chemical Potential(MeV)\",fontsize=15)\n",
    "axs[1,0].set_ylabel(\"Pressure ($MeV.fm^{-3}$)\",fontsize=15)\n",
    "axs[1,0].legend(fontsize=15)\n",
    "axs[1,0].grid(True)\n",
    "\n",
    "axs[1,1].plot(rho,mu_n,color=\"red\",label=\"Neutron\")\n",
    "axs[1,1].plot(rho,mu_p,color=\"blue\",label=\"Proton\")\n",
    "axs[1,1].plot(rho,mu_e,color=\"green\",label=\"Electron\")\n",
    "axs[1,1].set_xlabel(\"Number Density ($fm^{-3}$)\",fontsize=15)\n",
    "axs[1,1].set_ylabel(\"Chemical Potential(MeV)\",fontsize=15)\n",
    "axs[1,1].legend(fontsize=15)\n",
    "axs[1,1].grid(True)\n",
    "\n",
    "plt.tight_layout(rect=[0,0,1,0.96])\n",
    "#plt.tight_layout()\n",
    "plt.show()"
   ]
  },
  {
   "cell_type": "code",
   "execution_count": null,
   "id": "a57e0fc0-43fb-444b-9ab2-4d8bbe242986",
   "metadata": {},
   "outputs": [],
   "source": []
  }
 ],
 "metadata": {
  "kernelspec": {
   "display_name": "Python 3 (ipykernel)",
   "language": "python",
   "name": "python3"
  },
  "language_info": {
   "codemirror_mode": {
    "name": "ipython",
    "version": 3
   },
   "file_extension": ".py",
   "mimetype": "text/x-python",
   "name": "python",
   "nbconvert_exporter": "python",
   "pygments_lexer": "ipython3",
   "version": "3.12.4"
  }
 },
 "nbformat": 4,
 "nbformat_minor": 5
}

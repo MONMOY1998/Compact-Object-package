{
 "cells": [
  {
   "cell_type": "code",
   "execution_count": 9,
   "id": "fec54620-0e8d-475c-947e-be1b9cca37e1",
   "metadata": {},
   "outputs": [],
   "source": [
    "import EOSgenerators.crust_EOS as crust\n",
    "import EOSgenerators.RMF_EOS as RMF\n",
    "import EOSgenerators.Polytrope_EOS as Polytrope\n",
    "import EOSgenerators.Strangeon_EOS as Strangeon\n",
    "from scipy.interpolate import interp1d\n",
    "import TOVsolver.main as main\n",
    "import matplotlib.pyplot as plt\n",
    "import numpy as np\n",
    "import math\n",
    "from TOVsolver.unit import g_cm_3,dyn_cm_2,km,Msun,MeV,fm"
   ]
  },
  {
   "cell_type": "code",
   "execution_count": 3,
   "id": "0d8bd509-c5e7-4080-aadc-94a6dfa6d727",
   "metadata": {},
   "outputs": [],
   "source": [
    "data_BPS = np.loadtxt(\"data_k\")"
   ]
  },
  {
   "cell_type": "code",
   "execution_count": 5,
   "id": "196efa70-d4b9-474b-9125-cdfa2035ee9e",
   "metadata": {},
   "outputs": [],
   "source": [
    "Pressure_BPS = data_BPS[:,0]\n",
    "Density_BPS = data_BPS[:,1]"
   ]
  },
  {
   "cell_type": "code",
   "execution_count": 7,
   "id": "13900ff8-6bb8-4b15-b554-7e8527fe3278",
   "metadata": {},
   "outputs": [
    {
     "name": "stdout",
     "output_type": "stream",
     "text": [
      "[[9.539300e+18 1.031700e+04]\n",
      " [5.337900e+20 1.047100e+05]\n",
      " [2.324100e+22 1.045700e+06]\n",
      " ...\n",
      " [6.117452e+32 1.325753e+14]\n",
      " [6.166111e+32 1.333660e+14]\n",
      " [6.215158e+32 1.341614e+14]]\n"
     ]
    }
   ],
   "source": [
    "print(data_BPS)"
   ]
  },
  {
   "cell_type": "code",
   "execution_count": 11,
   "id": "9dfb31bc-2a4c-48c6-89af-250859d5ff55",
   "metadata": {},
   "outputs": [],
   "source": [
    "# Constants\n",
    "n0 = 2.68e14  # g/cm^3\n",
    "rho_min = 0.5 * n0  # 1.34e14 g/cm^3\n",
    "rho_max = 1.1 * n0  # 2.948e14 g/cm^3\n",
    "c_squared = 9e20  # cm^2/s^2 (c^2 in cgs units)"
   ]
  },
  {
   "cell_type": "code",
   "execution_count": 13,
   "id": "97198e6e-a716-434b-9e5b-3abb04d40e65",
   "metadata": {},
   "outputs": [
    {
     "name": "stdout",
     "output_type": "stream",
     "text": [
      "Maximum rho in data: 1.34e+14 g/cm^3 (vs 0.5 n0 = 1.34e+14 g/cm^3)\n"
     ]
    }
   ],
   "source": [
    "# Check maximum density in data\n",
    "max_rho_data = np.max(Density_BPS)\n",
    "print(f\"Maximum rho in data: {max_rho_data:.2e} g/cm^3 (vs 0.5 n0 = {rho_min:.2e} g/cm^3)\")"
   ]
  },
  {
   "cell_type": "code",
   "execution_count": 15,
   "id": "548a4191-93ea-485a-9157-ce69a0b0ac2e",
   "metadata": {},
   "outputs": [],
   "source": [
    "# Interpolate BPS data (and extrapolate since data < 0.5 n0)\n",
    "interp_BPS = interp1d(Density_BPS, Pressure_BPS, kind='linear', fill_value=\"extrapolate\")"
   ]
  },
  {
   "cell_type": "code",
   "execution_count": 17,
   "id": "3ead8988-7154-4488-8cc2-f168fee7c701",
   "metadata": {},
   "outputs": [],
   "source": [
    "# Get pressure at rho_min from BPS (extrapolated)\n",
    "p_at_rho_min = interp_BPS(rho_min)"
   ]
  },
  {
   "cell_type": "code",
   "execution_count": 19,
   "id": "dfa03f3a-8746-45e9-9980-fd33ac95cdbf",
   "metadata": {},
   "outputs": [],
   "source": [
    "# Choose polytropic index Gamma (midpoint of [1.77, 3.23] for demonstration)\n",
    "Gamma = np.random.uniform(1.77,3.23)"
   ]
  },
  {
   "cell_type": "code",
   "execution_count": 23,
   "id": "32fd3af8-23ca-43e3-84fe-fb0b55a0af5c",
   "metadata": {},
   "outputs": [
    {
     "name": "stdout",
     "output_type": "stream",
     "text": [
      "2.0561947307933393\n"
     ]
    }
   ],
   "source": [
    "print(Gamma)"
   ]
  },
  {
   "cell_type": "code",
   "execution_count": 25,
   "id": "ad70ce95-b1d7-40d3-a2dd-6e650941a630",
   "metadata": {},
   "outputs": [],
   "source": [
    "# Calculate K by matching at rho_min: p = K * rho^Gamma\n",
    "K = p_at_rho_min / (rho_min ** Gamma)"
   ]
  },
  {
   "cell_type": "code",
   "execution_count": 27,
   "id": "6b683800-4ed3-4ea9-b770-fb8e83cc8be1",
   "metadata": {},
   "outputs": [],
   "source": [
    "# Define the EOS function\n",
    "def EOS(rho):\n",
    "    \"\"\"\n",
    "    Equation of State: returns pressure p (dyn/cm^2) for a given mass density rho (g/cm^3).\n",
    "    \"\"\"\n",
    "    if rho < rho_min:\n",
    "        return interp_BPS(rho)\n",
    "    elif rho_min <= rho <= rho_max:\n",
    "        return K * (rho ** Gamma)\n",
    "    else:\n",
    "        return np.nan  # Beyond 1.1 n0 is not specified"
   ]
  },
  {
   "cell_type": "code",
   "execution_count": 37,
   "id": "7c1eeed7-c0e4-4aa2-ba77-665c6d704b60",
   "metadata": {},
   "outputs": [],
   "source": [
    "# Generate EOS in the requested range\n",
    "rho_range = np.linspace(rho_min, rho_max, 100)\n",
    "p_range =np.array( [EOS(rho) for rho in rho_range])"
   ]
  },
  {
   "cell_type": "code",
   "execution_count": 39,
   "id": "043f0b57-c318-44e5-9df5-70f96f512327",
   "metadata": {},
   "outputs": [
    {
     "name": "stdout",
     "output_type": "stream",
     "text": [
      "[1.34000000e+14 1.35624242e+14 1.37248485e+14 1.38872727e+14\n",
      " 1.40496970e+14 1.42121212e+14 1.43745455e+14 1.45369697e+14\n",
      " 1.46993939e+14 1.48618182e+14 1.50242424e+14 1.51866667e+14\n",
      " 1.53490909e+14 1.55115152e+14 1.56739394e+14 1.58363636e+14\n",
      " 1.59987879e+14 1.61612121e+14 1.63236364e+14 1.64860606e+14\n",
      " 1.66484848e+14 1.68109091e+14 1.69733333e+14 1.71357576e+14\n",
      " 1.72981818e+14 1.74606061e+14 1.76230303e+14 1.77854545e+14\n",
      " 1.79478788e+14 1.81103030e+14 1.82727273e+14 1.84351515e+14\n",
      " 1.85975758e+14 1.87600000e+14 1.89224242e+14 1.90848485e+14\n",
      " 1.92472727e+14 1.94096970e+14 1.95721212e+14 1.97345455e+14\n",
      " 1.98969697e+14 2.00593939e+14 2.02218182e+14 2.03842424e+14\n",
      " 2.05466667e+14 2.07090909e+14 2.08715152e+14 2.10339394e+14\n",
      " 2.11963636e+14 2.13587879e+14 2.15212121e+14 2.16836364e+14\n",
      " 2.18460606e+14 2.20084848e+14 2.21709091e+14 2.23333333e+14\n",
      " 2.24957576e+14 2.26581818e+14 2.28206061e+14 2.29830303e+14\n",
      " 2.31454545e+14 2.33078788e+14 2.34703030e+14 2.36327273e+14\n",
      " 2.37951515e+14 2.39575758e+14 2.41200000e+14 2.42824242e+14\n",
      " 2.44448485e+14 2.46072727e+14 2.47696970e+14 2.49321212e+14\n",
      " 2.50945455e+14 2.52569697e+14 2.54193939e+14 2.55818182e+14\n",
      " 2.57442424e+14 2.59066667e+14 2.60690909e+14 2.62315152e+14\n",
      " 2.63939394e+14 2.65563636e+14 2.67187879e+14 2.68812121e+14\n",
      " 2.70436364e+14 2.72060606e+14 2.73684848e+14 2.75309091e+14\n",
      " 2.76933333e+14 2.78557576e+14 2.80181818e+14 2.81806061e+14\n",
      " 2.83430303e+14 2.85054545e+14 2.86678788e+14 2.88303030e+14\n",
      " 2.89927273e+14 2.91551515e+14 2.93175758e+14 2.94800000e+14]\n"
     ]
    }
   ],
   "source": [
    "print(rho_range)"
   ]
  },
  {
   "cell_type": "code",
   "execution_count": 41,
   "id": "da8da84a-349b-4dcd-b223-eb751b30bad0",
   "metadata": {},
   "outputs": [
    {
     "name": "stdout",
     "output_type": "stream",
     "text": [
      "[6.20520554e+32 6.36085164e+32 6.51847903e+32 6.67808905e+32\n",
      " 6.83968301e+32 7.00326220e+32 7.16882791e+32 7.33638141e+32\n",
      " 7.50592394e+32 7.67745676e+32 7.85098110e+32 8.02649816e+32\n",
      " 8.20400916e+32 8.38351528e+32 8.56501772e+32 8.74851763e+32\n",
      " 8.93401617e+32 9.12151449e+32 9.31101373e+32 9.50251501e+32\n",
      " 9.69601945e+32 9.89152814e+32 1.00890422e+33 1.02885627e+33\n",
      " 1.04900907e+33 1.06936272e+33 1.08991734e+33 1.11067303e+33\n",
      " 1.13162989e+33 1.15278802e+33 1.17414753e+33 1.19570852e+33\n",
      " 1.21747108e+33 1.23943532e+33 1.26160134e+33 1.28396923e+33\n",
      " 1.30653908e+33 1.32931101e+33 1.35228510e+33 1.37546144e+33\n",
      " 1.39884013e+33 1.42242127e+33 1.44620494e+33 1.47019124e+33\n",
      " 1.49438026e+33 1.51877209e+33 1.54336682e+33 1.56816454e+33\n",
      " 1.59316533e+33 1.61836929e+33 1.64377650e+33 1.66938705e+33\n",
      " 1.69520102e+33 1.72121850e+33 1.74743958e+33 1.77386433e+33\n",
      " 1.80049285e+33 1.82732521e+33 1.85436150e+33 1.88160180e+33\n",
      " 1.90904619e+33 1.93669475e+33 1.96454756e+33 1.99260470e+33\n",
      " 2.02086626e+33 2.04933230e+33 2.07800291e+33 2.10687817e+33\n",
      " 2.13595814e+33 2.16524292e+33 2.19473257e+33 2.22442718e+33\n",
      " 2.25432681e+33 2.28443154e+33 2.31474144e+33 2.34525660e+33\n",
      " 2.37597708e+33 2.40690295e+33 2.43803429e+33 2.46937118e+33\n",
      " 2.50091367e+33 2.53266185e+33 2.56461579e+33 2.59677555e+33\n",
      " 2.62914120e+33 2.66171282e+33 2.69449048e+33 2.72747424e+33\n",
      " 2.76066417e+33 2.79406034e+33 2.82766282e+33 2.86147167e+33\n",
      " 2.89548697e+33 2.92970877e+33 2.96413715e+33 2.99877217e+33\n",
      " 3.03361390e+33 3.06866240e+33 3.10391774e+33 3.13937997e+33]\n"
     ]
    }
   ],
   "source": [
    "print(p_range)"
   ]
  },
  {
   "cell_type": "code",
   "execution_count": 43,
   "id": "e71cfc9b-164b-4620-adb9-ad79672fd963",
   "metadata": {},
   "outputs": [
    {
     "name": "stdout",
     "output_type": "stream",
     "text": [
      "Gamma = 2.0561947307933393\n",
      "K = 5.55e+03 (in cgs units)\n",
      "Pressure at rho = 0.7 n0 (1.88e+14 g/cm^3): 1.24e+33 dyn/cm^2\n"
     ]
    }
   ],
   "source": [
    "# Example output\n",
    "print(f\"Gamma = {Gamma}\")\n",
    "print(f\"K = {K:.2e} (in cgs units)\")\n",
    "print(f\"Pressure at rho = 0.7 n0 ({0.7 * n0:.2e} g/cm^3): {EOS(0.7 * n0):.2e} dyn/cm^2\")"
   ]
  },
  {
   "cell_type": "code",
   "execution_count": 45,
   "id": "032890d4-4fe3-4b9f-a10f-5318e152e9f1",
   "metadata": {},
   "outputs": [],
   "source": [
    "data_speed_of_sound = np.loadtxt(\"data_speed_of_sound\")\n",
    "pressure_speed_of_sound = data_speed_of_sound[:,0]\n",
    "density_speed_of_sound = data_speed_of_sound[:,1]"
   ]
  },
  {
   "cell_type": "code",
   "execution_count": 47,
   "id": "35e904b2-47e7-4f90-bdda-137dd03e4afc",
   "metadata": {},
   "outputs": [],
   "source": [
    "eps_total = np.hstack((Density_BPS,rho_range,density_speed_of_sound))\n",
    "pres_total = np.hstack((Pressure_BPS, p_range,pressure_speed_of_sound))"
   ]
  },
  {
   "cell_type": "code",
   "execution_count": 57,
   "id": "45003398-2291-4dd4-aab9-2982988d76fd",
   "metadata": {},
   "outputs": [
    {
     "name": "stdout",
     "output_type": "stream",
     "text": [
      "[1.031700e+04 1.047100e+05 1.045700e+06 ... 1.043933e+16 1.057761e+16\n",
      " 1.071548e+16]\n",
      "1173\n"
     ]
    }
   ],
   "source": [
    "print(eps_total)\n",
    "print(len(eps_total))"
   ]
  },
  {
   "cell_type": "code",
   "execution_count": 51,
   "id": "aed44bf9-93ae-4ffb-904a-76435ab16c7e",
   "metadata": {},
   "outputs": [
    {
     "name": "stdout",
     "output_type": "stream",
     "text": [
      "[9.539300e+18 5.337900e+20 2.324100e+22 ... 6.720997e+36 6.889745e+36\n",
      " 7.060710e+36]\n"
     ]
    }
   ],
   "source": [
    "print(pres_total)"
   ]
  },
  {
   "cell_type": "code",
   "execution_count": 55,
   "id": "ca0e4713-0497-4f55-931d-5b0cb51c60a0",
   "metadata": {},
   "outputs": [
    {
     "data": {
      "image/png": "[encoded data removed]",
      "text/plain": [
       "<Figure size 640x480 with 1 Axes>"
      ]
     },
     "metadata": {},
     "output_type": "display_data"
    }
   ],
   "source": [
    "import matplotlib.pyplot as plt\n",
    "# Plotting\n",
    "plt.plot( eps_total/(1.7827e12), pres_total/(1.6022e33))\n",
    "plt.xlabel('Density (MeV/fm³)')\n",
    "plt.ylabel('Pressure (MeV/fm³)')\n",
    "plt.title('Pressure vs Density')\n",
    "plt.xscale(\"log\")\n",
    "plt.yscale(\"log\")\n",
    "plt.xlim([10**2,10**4])\n",
    "plt.ylim([10**0,10**4])\n",
    "plt.grid(True)\n",
    "#plt.legend()\n",
    "plt.show()"
   ]
  },
  {
   "cell_type": "code",
   "execution_count": 61,
   "id": "0cd0ea07-ca27-4190-82d7-198eb8f24d0e",
   "metadata": {},
   "outputs": [],
   "source": [
    "EOS_FULL_GROK = np.column_stack((pres_total, eps_total))\n",
    "np.savetxt(\"EOS_FULL_GROK\", EOS_FULL_GROK,  fmt=\"%.6e\")"
   ]
  },
  {
   "cell_type": "code",
   "execution_count": 63,
   "id": "bf51bccf-a5eb-4d40-a053-8d8437223fb3",
   "metadata": {},
   "outputs": [],
   "source": [
    "Full_EOS = np.loadtxt(\"EOS_FULL_GROK\")\n",
    "P = Full_EOS[:,0]*dyn_cm_2\n",
    "D = Full_EOS[:,1]*g_cm_3"
   ]
  },
  {
   "cell_type": "code",
   "execution_count": 65,
   "id": "db4b640b-002b-401b-ac84-1c952754bbb8",
   "metadata": {},
   "outputs": [],
   "source": [
    "MR_EOS = main.OutputMR(\"\",D,P).T\n",
    "MRT_EOS = main.OutputMRT(\"\",D,P).T"
   ]
  },
  {
   "cell_type": "code",
   "execution_count": 67,
   "id": "c493e61a-1fa0-4a53-a34f-5418105729b1",
   "metadata": {},
   "outputs": [
    {
     "data": {
      "image/png": "[encoded data removed]",
      "text/plain": [
       "<Figure size 640x480 with 1 Axes>"
      ]
     },
     "metadata": {},
     "output_type": "display_data"
    }
   ],
   "source": [
    "plt.plot(MR_EOS[1]/km,MR_EOS[0]/Msun)\n",
    "plt.show()"
   ]
  },
  {
   "cell_type": "code",
   "execution_count": 69,
   "id": "e52bc179-9416-429f-9554-a4e92a28d2fa",
   "metadata": {},
   "outputs": [
    {
     "data": {
      "image/png": "[encoded data removed]",
      "text/plain": [
       "<Figure size 640x480 with 1 Axes>"
      ]
     },
     "metadata": {},
     "output_type": "display_data"
    }
   ],
   "source": [
    "plt.plot(MRT_EOS[1]/Msun, MRT_EOS[2] ,'g-', lw=2,label =\"MS1\")\n",
    "plt.ylim([0,3000])\n",
    "plt.xlim([0.8,2])\n",
    "plt.show()"
   ]
  },
  {
   "cell_type": "code",
   "execution_count": 71,
   "id": "171bb900-7824-4f54-8e43-fab780862065",
   "metadata": {},
   "outputs": [
    {
     "name": "stdout",
     "output_type": "stream",
     "text": [
      "[39.65966545 37.50831764 33.12023423 29.50312034 26.49119412 23.86812604\n",
      " 22.52020203 16.10310422 13.96338821 13.37888089 12.8581902  12.57371588\n",
      " 12.45094682 12.34234531 12.34432811 12.29575787 12.28436263 12.29845804\n",
      " 12.26917769 12.24771293 12.22689696 12.2172554  12.17146666 12.12249136\n",
      " 12.06983784 12.01139937 11.9475812  11.8933906  11.81462555 11.72859946\n",
      " 11.63812042 11.54270604 11.44241784 11.33753919 11.22999487 11.11780832\n",
      " 11.0021694  10.8828387  10.75926295 10.63358009 10.50473876 10.37294549\n",
      " 10.23800967 10.10244262  9.97162666  9.83075715  9.68711191  9.54420005\n",
      "  9.39872495  9.25191607]\n"
     ]
    }
   ],
   "source": [
    "print(MR_EOS[1]/km)"
   ]
  },
  {
   "cell_type": "code",
   "execution_count": 73,
   "id": "0a63b828-12c5-4bf6-8a2f-1874d9345c0a",
   "metadata": {},
   "outputs": [
    {
     "name": "stdout",
     "output_type": "stream",
     "text": [
      "[0.11978834 0.12189322 0.1247078  0.1283527  0.13277258 0.13792816\n",
      " 0.14381112 0.19287061 0.25340508 0.29781619 0.35027689 0.41387352\n",
      " 0.48180656 0.54691379 0.60912223 0.67015293 0.72993777 0.7876997\n",
      " 0.84311368 0.89618792 0.94697098 0.99532102 1.04124976 1.08474494\n",
      " 1.12588865 1.16462485 1.20103085 1.23513023 1.2670099  1.29666874\n",
      " 1.32420038 1.34963749 1.37301977 1.39441706 1.41392438 1.43154362\n",
      " 1.44736148 1.46141347 1.47373617 1.48442653 1.49351659 1.50105776\n",
      " 1.50709408 1.51171589 1.51492903 1.51679403 1.51734381 1.51667402\n",
      " 1.51478185 1.5117268 ]\n"
     ]
    }
   ],
   "source": [
    "print(MR_EOS[0]/Msun)"
   ]
  },
  {
   "cell_type": "code",
   "execution_count": null,
   "id": "7a9d1fa6-0f8d-42e0-b91c-636c0294eeaa",
   "metadata": {},
   "outputs": [],
   "source": []
  }
 ],
 "metadata": {
  "kernelspec": {
   "display_name": "Python 3 (ipykernel)",
   "language": "python",
   "name": "python3"
  },
  "language_info": {
   "codemirror_mode": {
    "name": "ipython",
    "version": 3
   },
   "file_extension": ".py",
   "mimetype": "text/x-python",
   "name": "python",
   "nbconvert_exporter": "python",
   "pygments_lexer": "ipython3",
   "version": "3.12.4"
  }
 },
 "nbformat": 4,
 "nbformat_minor": 5
}

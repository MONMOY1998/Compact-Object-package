{
 "cells": [
  {
   "cell_type": "code",
   "execution_count": 1,
   "id": "aa70dd24-a949-4879-87f0-36d64df4351d",
   "metadata": {},
   "outputs": [],
   "source": [
    "import numpy as np\n",
    "from scipy.integrate import quad\n",
    "import matplotlib.pyplot as plt\n"
   ]
  },
  {
   "cell_type": "code",
   "execution_count": 3,
   "id": "c9346d9a-bd32-4b14-aa97-82e26f04d189",
   "metadata": {},
   "outputs": [],
   "source": [
    "# Constants\n",
    "mu_1 = 939 # MeV\n",
    "P_1 = 2.0877  # MeV/fm³ (assumed energy density)\n",
    "n_0 = 0.16  # fm⁻³ (number density corresponding to 2.68e14 g/cm³)\n",
    "n_1 = 1.1 * n_0  # fm⁻³\n",
    "epsilon_1 = 165.47\n",
    "\n"
   ]
  },
  {
   "cell_type": "code",
   "execution_count": 5,
   "id": "1b54ee97-581a-4c92-8b69-09892816ab03",
   "metadata": {},
   "outputs": [],
   "source": [
    "def generate_points(N, mu_1=939, mu_N1=2600):\n",
    "    \"\"\"\n",
    "    Generate random mu_points and cs2_points for piecewise linear c_s^2(mu).\n",
    "    \n",
    "    Parameters:\n",
    "    N (int): Number of segments (e.g., 3, 4, 5, 7).\n",
    "    mu_1 (float): Starting mu value in MeV.\n",
    "    mu_N1 (float): Ending mu value in MeV.\n",
    "    \n",
    "    Returns:\n",
    "    mu_points (list): List of mu values in increasing order.\n",
    "    cs2_points (list): List of c_s^2 values corresponding to mu_points.\n",
    "    \"\"\"\n",
    "    # Sample maximum sound speed squared from [0,1]\n",
    "\n",
    "    c_s_max2 = np.random.uniform(0, 1)\n",
    "    \n",
    "    # Sample N-1 intermediate mu points in [mu_1, mu_N1] and sort them\n",
    "\n",
    "    if N > 1:\n",
    "        intermediate_mus = np.random.uniform(mu_1, mu_N1, N-1)\n",
    "        intermediate_mus.sort()\n",
    "    else:\n",
    "        intermediate_mus = []\n",
    "    \n",
    "    # Construct mu_points with fixed endpoints\n",
    "    mu_points = [mu_1] + list(intermediate_mus) + [mu_N1]\n",
    "    \n",
    "    # Sample c_s^2 values for all N+1 points from [0, c_s_max2]\n",
    "    cs2_points = np.random.uniform( 0, c_s_max2, N+1).tolist()\n",
    "    cs2_points.sort()\n",
    "    return mu_points, cs2_points"
   ]
  },
  {
   "cell_type": "code",
   "execution_count": 7,
   "id": "a74048ba-ad6e-4f2e-842b-521d524a848f",
   "metadata": {},
   "outputs": [],
   "source": [
    "# Generate piecewise linear c_s²(μ) parameters\n",
    "N = 3  # Number of segments, can be 3, 4, 5, or 7\n",
    "mu_points, cs2_points = generate_points(N, mu_1=939, mu_N1=2600)\n"
   ]
  },
  {
   "cell_type": "code",
   "execution_count": 9,
   "id": "52fea071-2536-402e-834f-59fb136fa597",
   "metadata": {},
   "outputs": [
    {
     "name": "stdout",
     "output_type": "stream",
     "text": [
      "[939, 1055.3959106811478, 2267.964012690134, 2600]\n"
     ]
    }
   ],
   "source": [
    "print(mu_points)"
   ]
  },
  {
   "cell_type": "code",
   "execution_count": 11,
   "id": "b96655bb-6fe5-4925-8b6f-31d5a783da4f",
   "metadata": {},
   "outputs": [
    {
     "name": "stdout",
     "output_type": "stream",
     "text": [
      "[0.09142637357435614, 0.26971735110607337, 0.5829930482112787, 0.6864650330183344]\n"
     ]
    }
   ],
   "source": [
    "print(cs2_points)"
   ]
  },
  {
   "cell_type": "code",
   "execution_count": 13,
   "id": "97265a48-7147-402d-9aab-252874a7c3ef",
   "metadata": {},
   "outputs": [
    {
     "name": "stdout",
     "output_type": "stream",
     "text": [
      "mu_points: [939, 1055.3959106811478, 2267.964012690134, 2600]\n",
      "cs2_points: [0.09142637357435614, 0.26971735110607337, 0.5829930482112787, 0.6864650330183344]\n"
     ]
    }
   ],
   "source": [
    "# Example output (values will vary due to randomness)\n",
    "print(\"mu_points:\", mu_points)\n",
    "print(\"cs2_points:\", cs2_points)"
   ]
  },
  {
   "cell_type": "code",
   "execution_count": 15,
   "id": "84e35259-09e3-4349-a440-9fe13f81c488",
   "metadata": {},
   "outputs": [],
   "source": [
    "# Define c_s²(μ) with standard linear interpolation\n",
    "def c_s2(mu):\n",
    "    if mu <= mu_points[0]:\n",
    "        return cs2_points[0]\n",
    "    elif mu >= mu_points[-1]:\n",
    "        return cs2_points[-1]\n",
    "    for i in range(len(mu_points) - 1):\n",
    "        if mu_points[i] <= mu <= mu_points[i + 1]:\n",
    "            return ( cs2_points[i]*(mu_points[i + 1] - mu)  +  cs2_points[i + 1] * (mu - mu_points[i]) ) / (mu_points[i + 1] - mu_points[i])\n"
   ]
  },
  {
   "cell_type": "code",
   "execution_count": 17,
   "id": "e06675eb-1cf9-4934-9656-795f2b19330d",
   "metadata": {},
   "outputs": [],
   "source": [
    "# Integrand for equation (2)\n",
    "def integrand_eq2(mu_prime):\n",
    "    cs2 = c_s2(mu_prime)\n",
    "    if cs2 == 0:  # Avoid division by zero\n",
    "        return 0\n",
    "    return 1 / (mu_prime * cs2)\n",
    "\n",
    "\n",
    "# n(μ) from equation (2)\n",
    "def n_mu(mu):\n",
    "    if mu == mu_1:\n",
    "        return n_1\n",
    "    integral1, _ = quad(integrand_eq2, mu_1, mu)\n",
    "    return n_1 * np.exp(integral1)\n",
    "\n"
   ]
  },
  {
   "cell_type": "code",
   "execution_count": 19,
   "id": "5ee7b7ab-eccc-4be4-802c-0bb7f26859d5",
   "metadata": {},
   "outputs": [],
   "source": [
    "# Integrand for equation (3)\n",
    "def integrand_eq3(mu_prime):\n",
    "    return n_mu(mu_prime)\n",
    "\n",
    "# P(μ) from equation (3)\n",
    "def P_mu(mu):\n",
    "    if mu == mu_1:\n",
    "        return P_1\n",
    "    integral2, _ = quad(integrand_eq3, mu_1, mu)\n",
    "    return P_1 + integral2\n"
   ]
  },
  {
   "cell_type": "code",
   "execution_count": 21,
   "id": "14ad418f-4e18-412b-8239-0199d5337dca",
   "metadata": {},
   "outputs": [],
   "source": [
    "def integrand_eq4(mu_prime):\n",
    "    cs2 = c_s2(mu_prime)\n",
    "    if cs2 == 0:  # Avoid division by zero\n",
    "        return 0\n",
    "    return n_mu(mu_prime)/cs2\n",
    "\n",
    "def epsilon_mu(mu):\n",
    "    if mu == mu_1:\n",
    "        return epsilon_1\n",
    "    integral4, _ = quad(integrand_eq4,mu_1,mu)\n",
    "    return epsilon_1 + integral4\n",
    "    "
   ]
  },
  {
   "cell_type": "code",
   "execution_count": 23,
   "id": "69f8e7fc-e7af-4bac-a1da-7a9c0dc747be",
   "metadata": {},
   "outputs": [],
   "source": [
    "# Generate μ grid and compute n and P\n",
    "mu_grid = np.linspace(mu_1, 2600, 100)  # MeV, adjusted to reach n = 40 n_0\n",
    "n_grid = np.array([n_mu(mu) for mu in mu_grid])\n",
    "P_grid = np.array([P_mu(mu) for mu in mu_grid])\n",
    "cs2_grid = np.array([c_s2(mu) for mu in mu_grid])\n",
    "epsilon_grid = np.array([epsilon_mu(mu) for mu in mu_grid])\n",
    "\n"
   ]
  },
  {
   "cell_type": "code",
   "execution_count": 25,
   "id": "40ca1d34-0ad5-4880-9449-415427a90a38",
   "metadata": {},
   "outputs": [],
   "source": [
    "# Convert n to n/n_0\n",
    "n_over_n0 = n_grid / n_0\n"
   ]
  },
  {
   "cell_type": "code",
   "execution_count": 27,
   "id": "14ebb350-b03d-40ec-9188-595ffabc77e3",
   "metadata": {},
   "outputs": [
    {
     "name": "stdout",
     "output_type": "stream",
     "text": [
      "[ 939.          955.77777778  972.55555556  989.33333333 1006.11111111\n",
      " 1022.88888889 1039.66666667 1056.44444444 1073.22222222 1090.\n",
      " 1106.77777778 1123.55555556 1140.33333333 1157.11111111 1173.88888889\n",
      " 1190.66666667 1207.44444444 1224.22222222 1241.         1257.77777778\n",
      " 1274.55555556 1291.33333333 1308.11111111 1324.88888889 1341.66666667\n",
      " 1358.44444444 1375.22222222 1392.         1408.77777778 1425.55555556\n",
      " 1442.33333333 1459.11111111 1475.88888889 1492.66666667 1509.44444444\n",
      " 1526.22222222 1543.         1559.77777778 1576.55555556 1593.33333333\n",
      " 1610.11111111 1626.88888889 1643.66666667 1660.44444444 1677.22222222\n",
      " 1694.         1710.77777778 1727.55555556 1744.33333333 1761.11111111\n",
      " 1777.88888889 1794.66666667 1811.44444444 1828.22222222 1845.\n",
      " 1861.77777778 1878.55555556 1895.33333333 1912.11111111 1928.88888889\n",
      " 1945.66666667 1962.44444444 1979.22222222 1996.         2012.77777778\n",
      " 2029.55555556 2046.33333333 2063.11111111 2079.88888889 2096.66666667\n",
      " 2113.44444444 2130.22222222 2147.         2163.77777778 2180.55555556\n",
      " 2197.33333333 2214.11111111 2230.88888889 2247.66666667 2264.44444444\n",
      " 2281.22222222 2298.         2314.77777778 2331.55555556 2348.33333333\n",
      " 2365.11111111 2381.88888889 2398.66666667 2415.44444444 2432.22222222\n",
      " 2449.         2465.77777778 2482.55555556 2499.33333333 2516.11111111\n",
      " 2532.88888889 2549.66666667 2566.44444444 2583.22222222 2600.        ]\n"
     ]
    }
   ],
   "source": [
    "print(mu_grid)"
   ]
  },
  {
   "cell_type": "code",
   "execution_count": 29,
   "id": "5f487c68-d000-4b61-b38b-61acde4568ce",
   "metadata": {},
   "outputs": [],
   "source": [
    "#print(n_grid/0.16 * 2.68e14)"
   ]
  },
  {
   "cell_type": "code",
   "execution_count": 31,
   "id": "1ea089b1-5963-435b-8047-ff6d26d8f733",
   "metadata": {},
   "outputs": [
    {
     "name": "stdout",
     "output_type": "stream",
     "text": [
      "[3.34491294e+33 8.52347529e+33 1.45445992e+34 2.13420223e+34\n",
      " 2.88613026e+34 3.70563047e+34 4.58870715e+34 5.53184356e+34\n",
      " 6.53279096e+34 7.59243536e+34 8.71225768e+34 9.89370027e+34\n",
      " 1.11381658e+35 1.24470198e+35 1.38215844e+35 1.52631440e+35\n",
      " 1.67729424e+35 1.83521834e+35 2.00020307e+35 2.17236085e+35\n",
      " 2.35180012e+35 2.53862545e+35 2.73293751e+35 2.93483316e+35\n",
      " 3.14440544e+35 3.36174381e+35 3.58693389e+35 3.82005777e+35\n",
      " 4.06119409e+35 4.31041787e+35 4.56780084e+35 4.83341144e+35\n",
      " 5.10731448e+35 5.38957214e+35 5.68024316e+35 5.97938325e+35\n",
      " 6.28704522e+35 6.60327889e+35 6.92813136e+35 7.26164686e+35\n",
      " 7.60386712e+35 7.95483103e+35 8.31457515e+35 8.68313340e+35\n",
      " 9.06053742e+35 9.44681648e+35 9.84199754e+35 1.02461055e+36\n",
      " 1.06591629e+36 1.10811904e+36 1.15122067e+36 1.19522283e+36\n",
      " 1.24012701e+36 1.28593449e+36 1.33264641e+36 1.38026368e+36\n",
      " 1.42878711e+36 1.47821732e+36 1.52855477e+36 1.57979977e+36\n",
      " 1.63195250e+36 1.68501298e+36 1.73898114e+36 1.79385668e+36\n",
      " 1.84963930e+36 1.90632849e+36 1.96392365e+36 2.02242410e+36\n",
      " 2.08182895e+36 2.14213734e+36 2.20334821e+36 2.26546045e+36\n",
      " 2.32847282e+36 2.39238402e+36 2.45719265e+36 2.52289725e+36\n",
      " 2.58949621e+36 2.65698793e+36 2.72537068e+36 2.79464270e+36\n",
      " 2.86480199e+36 2.93584569e+36 3.00777045e+36 3.08057295e+36\n",
      " 3.15424970e+36 3.22879732e+36 3.30421227e+36 3.38049102e+36\n",
      " 3.45763002e+36 3.53562565e+36 3.61447430e+36 3.69417233e+36\n",
      " 3.77471603e+36 3.85610179e+36 3.93832577e+36 4.02138429e+36\n",
      " 4.10527361e+36 4.18998995e+36 4.27552952e+36 4.36188855e+36]\n"
     ]
    }
   ],
   "source": [
    "print(P_grid * 1.6022e33)"
   ]
  },
  {
   "cell_type": "code",
   "execution_count": 33,
   "id": "e90fd7ef-0269-4b19-a157-25fe9167a801",
   "metadata": {},
   "outputs": [
    {
     "name": "stdout",
     "output_type": "stream",
     "text": [
      "[0.09142637 0.11712596 0.14282554 0.16852512 0.19422471 0.21992429\n",
      " 0.24562387 0.26998825 0.27432291 0.27865757 0.28299223 0.28732689\n",
      " 0.29166155 0.29599621 0.30033086 0.30466552 0.30900018 0.31333484\n",
      " 0.3176695  0.32200416 0.32633882 0.33067348 0.33500814 0.3393428\n",
      " 0.34367746 0.34801212 0.35234678 0.35668144 0.3610161  0.36535076\n",
      " 0.36968542 0.37402008 0.37835474 0.3826894  0.38702406 0.39135872\n",
      " 0.39569338 0.40002804 0.4043627  0.40869736 0.41303202 0.41736668\n",
      " 0.42170134 0.42603599 0.43037065 0.43470531 0.43903997 0.44337463\n",
      " 0.44770929 0.45204395 0.45637861 0.46071327 0.46504793 0.46938259\n",
      " 0.47371725 0.47805191 0.48238657 0.48672123 0.49105589 0.49539055\n",
      " 0.49972521 0.50405987 0.50839453 0.51272919 0.51706385 0.52139851\n",
      " 0.52573317 0.53006783 0.53440249 0.53873715 0.54307181 0.54740647\n",
      " 0.55174112 0.55607578 0.56041044 0.5647451  0.56907976 0.57341442\n",
      " 0.57774908 0.58208374 0.58712469 0.59235313 0.59758157 0.60281001\n",
      " 0.60803845 0.61326688 0.61849532 0.62372376 0.6289522  0.63418064\n",
      " 0.63940908 0.64463752 0.64986596 0.6550944  0.66032284 0.66555128\n",
      " 0.67077972 0.67600815 0.68123659 0.68646503]\n"
     ]
    }
   ],
   "source": [
    "print(cs2_grid)"
   ]
  },
  {
   "cell_type": "code",
   "execution_count": 35,
   "id": "dcb7c4dd-cd0b-42a0-bd4a-aa615aac11ff",
   "metadata": {},
   "outputs": [
    {
     "name": "stdout",
     "output_type": "stream",
     "text": [
      "[2.94983369e+14 3.50327519e+14 4.01925740e+14 4.50545910e+14\n",
      " 4.96700198e+14 5.40753948e+14 5.82980666e+14 6.23598867e+14\n",
      " 6.64518466e+14 7.07158638e+14 7.51524946e+14 7.97621193e+14\n",
      " 8.45449509e+14 8.95010435e+14 9.46302998e+14 9.99324797e+14\n",
      " 1.05407208e+15 1.11053981e+15 1.16872177e+15 1.22861059e+15\n",
      " 1.29019785e+15 1.35347415e+15 1.41842915e+15 1.48505165e+15\n",
      " 1.55332965e+15 1.62325039e+15 1.69480044e+15 1.76796573e+15\n",
      " 1.84273159e+15 1.91908283e+15 1.99700375e+15 2.07647821e+15\n",
      " 2.15748966e+15 2.24002118e+15 2.32405556e+15 2.40957522e+15\n",
      " 2.49656238e+15 2.58499901e+15 2.67486688e+15 2.76614759e+15\n",
      " 2.85882262e+15 2.95287328e+15 3.04828084e+15 3.14502645e+15\n",
      " 3.24309126e+15 3.34245632e+15 3.44310273e+15 3.54501156e+15\n",
      " 3.64816394e+15 3.75254093e+15 3.85812377e+15 3.96489369e+15\n",
      " 4.07283201e+15 4.18192012e+15 4.29213957e+15 4.40347185e+15\n",
      " 4.51589878e+15 4.62940218e+15 4.74396399e+15 4.85956635e+15\n",
      " 4.97619151e+15 5.09382184e+15 5.21243995e+15 5.33202850e+15\n",
      " 5.45257043e+15 5.57404873e+15 5.69644663e+15 5.81974762e+15\n",
      " 5.94393509e+15 6.06899295e+15 6.19490509e+15 6.32165561e+15\n",
      " 6.44922884e+15 6.57760925e+15 6.70678153e+15 6.83673057e+15\n",
      " 6.96744135e+15 7.09889919e+15 7.23108949e+15 7.36399791e+15\n",
      " 7.49754604e+15 7.63158375e+15 7.76609104e+15 7.90105373e+15\n",
      " 8.03645767e+15 8.17228902e+15 8.30853420e+15 8.44517990e+15\n",
      " 8.58221316e+15 8.71962116e+15 8.85739142e+15 8.99551176e+15\n",
      " 9.13397010e+15 9.27275491e+15 9.41185448e+15 9.55125774e+15\n",
      " 9.69095362e+15 9.83093136e+15 9.97118040e+15 1.01116905e+16]\n"
     ]
    }
   ],
   "source": [
    "print(epsilon_grid*(1.7827e12))"
   ]
  },
  {
   "cell_type": "code",
   "execution_count": 37,
   "id": "d8856760-1e53-4b49-805d-9208a35de8c2",
   "metadata": {},
   "outputs": [],
   "source": [
    "# Filter for the desired range: 1.1 n_0 to 40 n_0\n",
    "mask = (n_over_n0 > 1.1) & (n_over_n0 < 40)\n",
    "n_plot = n_over_n0[mask]\n",
    "P_plot = P_grid[mask]\n",
    "cs2_plot = cs2_grid[mask]\n",
    "epsilon_plot = epsilon_grid[mask]"
   ]
  },
  {
   "cell_type": "code",
   "execution_count": 39,
   "id": "d7b08ad6-d28a-43d5-b379-8e1d025c9bfa",
   "metadata": {},
   "outputs": [
    {
     "name": "stdout",
     "output_type": "stream",
     "text": [
      "[ 1.30483577  1.49248017  1.66626771  1.82846524  1.98071934  2.12428377\n",
      "  2.26016787  2.39488925  2.53309802  2.67470537  2.81962102  2.96775349\n",
      "  3.11901045  3.27329903  3.43052607  3.59059836  3.75342287  3.91890694\n",
      "  4.08695851  4.25748622  4.43039959  4.60560914  4.78302653  4.96256462\n",
      "  5.1441376   5.32766103  5.51305196  5.70022892  5.88911203  6.07962298\n",
      "  6.27168512  6.46522345  6.66016464  6.85643709  7.05397073  7.25269745\n",
      "  7.45255066  7.6534655   7.8553788   8.05822905  8.26195641  8.46650267\n",
      "  8.67181124  8.87782713  9.08449692  9.29176874  9.49959226  9.70791865\n",
      "  9.91670052 10.12589196 10.33544845 10.54532688 10.75548549 10.96588382\n",
      " 11.17648274 11.38724438 11.59813224 11.8091105  12.0201453  12.23120342\n",
      " 12.44225288 12.6532628  12.86420336 13.07504577 13.28576227 13.49632607\n",
      " 13.70671131 13.91689318 14.12684741 14.33655113 14.54598197 14.7551185\n",
      " 14.96394012 15.17242677 15.38055955 15.58832003 15.79569055 16.00265414\n",
      " 16.20919453 16.4151972  16.62044004 16.82490368 17.02857792 17.23145294\n",
      " 17.4335192  17.63476896 17.83519326 18.03478505 18.2335373  18.43144367\n",
      " 18.62849825 18.82469559 19.02003095 19.21449932 19.40809708 19.60082036\n",
      " 19.79266564 19.98363096 20.1737127 ]\n"
     ]
    }
   ],
   "source": [
    "print(n_plot)"
   ]
  },
  {
   "cell_type": "code",
   "execution_count": 41,
   "id": "625401b4-b56d-497b-9165-216699dab275",
   "metadata": {},
   "outputs": [
    {
     "name": "stdout",
     "output_type": "stream",
     "text": [
      "[8.52347529e+33 1.45445992e+34 2.13420223e+34 2.88613026e+34\n",
      " 3.70563047e+34 4.58870715e+34 5.53184356e+34 6.53279096e+34\n",
      " 7.59243536e+34 8.71225768e+34 9.89370027e+34 1.11381658e+35\n",
      " 1.24470198e+35 1.38215844e+35 1.52631440e+35 1.67729424e+35\n",
      " 1.83521834e+35 2.00020307e+35 2.17236085e+35 2.35180012e+35\n",
      " 2.53862545e+35 2.73293751e+35 2.93483316e+35 3.14440544e+35\n",
      " 3.36174381e+35 3.58693389e+35 3.82005777e+35 4.06119409e+35\n",
      " 4.31041787e+35 4.56780084e+35 4.83341144e+35 5.10731448e+35\n",
      " 5.38957214e+35 5.68024316e+35 5.97938325e+35 6.28704522e+35\n",
      " 6.60327889e+35 6.92813136e+35 7.26164686e+35 7.60386712e+35\n",
      " 7.95483103e+35 8.31457515e+35 8.68313340e+35 9.06053742e+35\n",
      " 9.44681648e+35 9.84199754e+35 1.02461055e+36 1.06591629e+36\n",
      " 1.10811904e+36 1.15122067e+36 1.19522283e+36 1.24012701e+36\n",
      " 1.28593449e+36 1.33264641e+36 1.38026368e+36 1.42878711e+36\n",
      " 1.47821732e+36 1.52855477e+36 1.57979977e+36 1.63195250e+36\n",
      " 1.68501298e+36 1.73898114e+36 1.79385668e+36 1.84963930e+36\n",
      " 1.90632849e+36 1.96392365e+36 2.02242410e+36 2.08182895e+36\n",
      " 2.14213734e+36 2.20334821e+36 2.26546045e+36 2.32847282e+36\n",
      " 2.39238402e+36 2.45719265e+36 2.52289725e+36 2.58949621e+36\n",
      " 2.65698793e+36 2.72537068e+36 2.79464270e+36 2.86480199e+36\n",
      " 2.93584569e+36 3.00777045e+36 3.08057295e+36 3.15424970e+36\n",
      " 3.22879732e+36 3.30421227e+36 3.38049102e+36 3.45763002e+36\n",
      " 3.53562565e+36 3.61447430e+36 3.69417233e+36 3.77471603e+36\n",
      " 3.85610179e+36 3.93832577e+36 4.02138429e+36 4.10527361e+36\n",
      " 4.18998995e+36 4.27552952e+36 4.36188855e+36]\n"
     ]
    }
   ],
   "source": [
    "print(P_plot * 1.6022e33)"
   ]
  },
  {
   "cell_type": "code",
   "execution_count": 43,
   "id": "9fc127cf-1454-4d3e-8809-7816f9731bba",
   "metadata": {},
   "outputs": [
    {
     "name": "stdout",
     "output_type": "stream",
     "text": [
      "[0.11712596 0.14282554 0.16852512 0.19422471 0.21992429 0.24562387\n",
      " 0.26998825 0.27432291 0.27865757 0.28299223 0.28732689 0.29166155\n",
      " 0.29599621 0.30033086 0.30466552 0.30900018 0.31333484 0.3176695\n",
      " 0.32200416 0.32633882 0.33067348 0.33500814 0.3393428  0.34367746\n",
      " 0.34801212 0.35234678 0.35668144 0.3610161  0.36535076 0.36968542\n",
      " 0.37402008 0.37835474 0.3826894  0.38702406 0.39135872 0.39569338\n",
      " 0.40002804 0.4043627  0.40869736 0.41303202 0.41736668 0.42170134\n",
      " 0.42603599 0.43037065 0.43470531 0.43903997 0.44337463 0.44770929\n",
      " 0.45204395 0.45637861 0.46071327 0.46504793 0.46938259 0.47371725\n",
      " 0.47805191 0.48238657 0.48672123 0.49105589 0.49539055 0.49972521\n",
      " 0.50405987 0.50839453 0.51272919 0.51706385 0.52139851 0.52573317\n",
      " 0.53006783 0.53440249 0.53873715 0.54307181 0.54740647 0.55174112\n",
      " 0.55607578 0.56041044 0.5647451  0.56907976 0.57341442 0.57774908\n",
      " 0.58208374 0.58712469 0.59235313 0.59758157 0.60281001 0.60803845\n",
      " 0.61326688 0.61849532 0.62372376 0.6289522  0.63418064 0.63940908\n",
      " 0.64463752 0.64986596 0.6550944  0.66032284 0.66555128 0.67077972\n",
      " 0.67600815 0.68123659 0.68646503]\n"
     ]
    }
   ],
   "source": [
    "print(cs2_plot)"
   ]
  },
  {
   "cell_type": "code",
   "execution_count": 45,
   "id": "f1815f02-c50c-4d1f-ae37-e8b6ac16b406",
   "metadata": {},
   "outputs": [],
   "source": [
    "p = P_plot * 1.6022e33\n",
    "epsilon = epsilon_plot * 1.7827e12"
   ]
  },
  {
   "cell_type": "code",
   "execution_count": 47,
   "id": "352fbcd9-f8ae-40ca-af29-75bb12479c54",
   "metadata": {},
   "outputs": [],
   "source": [
    "result_array = np.column_stack((p, epsilon, cs2_plot))"
   ]
  },
  {
   "cell_type": "code",
   "execution_count": 49,
   "id": "96a999bd-f7ac-430c-929b-3f21b1f9d3fd",
   "metadata": {},
   "outputs": [],
   "source": [
    "# import numpy as np\n",
    "# from scipy.integrate import quad\n",
    "# from scipy.interpolate import CubicSpline\n",
    "\n",
    "# # # Load the data\n",
    "# # data = np.loadtxt(\"data_speed_of_sound\")\n",
    "\n",
    "# # # Extract pressure and cs²\n",
    "# # p = data[:, 0]  # Pressure in dyn/cm²\n",
    "# # cs2 = data[:, 2]  # Speed of sound squared (dimensionless)\n",
    "\n",
    "# # Sort by pressure to ensure monotonicity\n",
    "# sorted_indices = np.argsort(p)\n",
    "# p = p[sorted_indices]\n",
    "# cs2 = cs2_plot[sorted_indices]\n",
    "\n",
    "# # Interpolate cs² as a function of p using cubic spline\n",
    "# cs2_interp = CubicSpline(p, cs2)\n",
    "\n",
    "# # Define the integrand function: 1/cs²(p)\n",
    "# def integrand(p_val):\n",
    "#     return 1 / cs2_interp(p_val)\n",
    "\n",
    "# # Initialize epsilon with the given initial energy density at p0\n",
    "# epsilon_0 = 2.649512e35  # Initial energy density in erg/cm³\n",
    "# epsilon = np.zeros_like(p)\n",
    "# epsilon[0] = epsilon_0\n",
    "\n",
    "# # Compute cumulative energy density using quad and add initial epsilon\n",
    "# for i in range(1, len(p)):\n",
    "#     epsilon[i], _ = quad(integrand, p[0], p[i])\n",
    "#     epsilon[i] += epsilon_0\n",
    "\n",
    "# # Create a 2D array with pressure, energy density, and cs²\n",
    "# result_array = np.column_stack((p, epsilon, cs2))\n",
    "\n",
    "# # Print first few and last few rows for verification\n",
    "# print(\"Pressure (dyn/cm²)    Energy Density (erg/cm³)    cs² (dimensionless)\")\n",
    "# for i in range(min(3, len(p))):\n",
    "#     print(f\"{result_array[i, 0]:.6e}           {result_array[i, 1]:.6e}           {result_array[i, 2]:.6e}\")\n",
    "# if len(p) > 6:\n",
    "#     print(\"...\")\n",
    "#     for i in range(-3, 0):\n",
    "#         print(f\"{result_array[i, 0]:.6e}           {result_array[i, 1]:.6e}           {result_array[i, 2]:.6e}\")\n",
    "\n",
    "# # Save the results to a file\n",
    "# np.savetxt(\"pressure_density_cs2.txt\", result_array, fmt=\"%.6e\", \n",
    "#            header=\"Pressure (dyn/cm²)   Energy Density (erg/cm³)   cs² (dimensionless)\")"
   ]
  },
  {
   "cell_type": "code",
   "execution_count": 51,
   "id": "cb054432-8dbe-420a-95da-fb113e28413a",
   "metadata": {},
   "outputs": [],
   "source": [
    "data_BPS = np.loadtxt(\"data_k\")\n",
    "pres_BPS = data_BPS[:,0]\n",
    "rho_BPS = data_BPS[:,1]"
   ]
  },
  {
   "cell_type": "code",
   "execution_count": 53,
   "id": "63ef883f-8041-4254-8660-f5534e00b7e1",
   "metadata": {},
   "outputs": [],
   "source": [
    "data_polytropic_grok = np.loadtxt(\"data_poytropic_grok\")\n",
    "pres_polytropic = data_polytropic_grok[:,0]\n",
    "rho_polytropic = data_polytropic_grok[:,1]"
   ]
  },
  {
   "cell_type": "code",
   "execution_count": 55,
   "id": "48eaf2c0-c89b-4e64-8de3-a0e965f091ad",
   "metadata": {},
   "outputs": [],
   "source": [
    "pres_total = np.hstack((pres_BPS,pres_polytropic,result_array[:,0]))\n",
    "eps_total = np.hstack((rho_BPS,rho_polytropic,result_array[:,1]))\n",
    "Last_attempt = np.column_stack((pres_total,eps_total))\n",
    "np.savetxt(\"data_new_1\", Last_attempt,  fmt=\"%.6e\")"
   ]
  },
  {
   "cell_type": "code",
   "execution_count": 57,
   "id": "f4a98e34-bcfb-4b1a-b78a-d405445ad97f",
   "metadata": {},
   "outputs": [],
   "source": [
    "from TOVsolver.unit import g_cm_3, dyn_cm_2, km, Msun, MeV, fm"
   ]
  },
  {
   "cell_type": "code",
   "execution_count": 59,
   "id": "ed7baae4-4e75-4db8-8acd-2d88b127deac",
   "metadata": {},
   "outputs": [
    {
     "name": "stdout",
     "output_type": "stream",
     "text": [
      "[9.53930000e+18 5.33790000e+20 2.32410000e+22 ... 4.18998995e+36\n",
      " 4.27552952e+36 4.36188855e+36]\n",
      "[1.03170000e+04 1.04710000e+05 1.04570000e+06 ... 9.83093136e+15\n",
      " 9.97118040e+15 1.01116905e+16]\n",
      "No duplicates in rho1\n",
      "No duplicates in P1\n"
     ]
    }
   ],
   "source": [
    "print(pres_total)\n",
    "print(eps_total)\n",
    "import numpy as np\n",
    "\n",
    "# Load data\n",
    "data_new = np.loadtxt(\"data_new_1\")\n",
    "P1 = data_new[:,0] * dyn_cm_2\n",
    "rho1 = data_new[:,1] * g_cm_3\n",
    "\n",
    "# Check for duplicates in rho1\n",
    "if len(rho1) != len(np.unique(rho1)):\n",
    "    print(\"Duplicate values found in rho1 (density):\")\n",
    "    unique, counts = np.unique(rho1, return_counts=True)\n",
    "    duplicates = unique[counts > 1]\n",
    "    print(f\"Duplicate density values: {duplicates}\")\n",
    "else:\n",
    "    print(\"No duplicates in rho1\")\n",
    "\n",
    "# Check for duplicates in P1\n",
    "if len(P1) != len(np.unique(P1)):\n",
    "    print(\"Duplicate values found in P1 (pressure):\")\n",
    "    unique, counts = np.unique(P1, return_counts=True)\n",
    "    duplicates = unique[counts > 1]\n",
    "    print(f\"Duplicate pressure values: {duplicates}\")\n",
    "else:\n",
    "    print(\"No duplicates in P1\")"
   ]
  },
  {
   "cell_type": "code",
   "execution_count": 61,
   "id": "8a8e8542-43bc-4125-9b10-55a1d7498039",
   "metadata": {},
   "outputs": [
    {
     "name": "stdout",
     "output_type": "stream",
     "text": [
      "After removing duplicates, rho1 shape: (1184,), P1 shape: (1184,)\n"
     ]
    }
   ],
   "source": [
    "# Remove duplicates while keeping the first occurrence\n",
    "unique_indices = np.unique(rho1, return_index=True)[1]\n",
    "unique_indices = np.sort(unique_indices)  # Ensure order is preserved\n",
    "rho1_new = rho1[unique_indices]\n",
    "P1_new = P1[unique_indices]\n",
    "\n",
    "print(f\"After removing duplicates, rho1 shape: {rho1.shape}, P1 shape: {P1.shape}\")"
   ]
  },
  {
   "cell_type": "code",
   "execution_count": 63,
   "id": "16da372a-d844-41a6-85da-b793e4cb1da8",
   "metadata": {},
   "outputs": [],
   "source": [
    "import EOSgenerators.crust_EOS as crust\n",
    "import EOSgenerators.RMF_EOS as RMF\n",
    "import EOSgenerators.Polytrope_EOS as Polytrope\n",
    "import EOSgenerators.Strangeon_EOS as Strangeon\n",
    "import TOVsolver.main as main\n",
    "import matplotlib.pyplot as plt\n",
    "import numpy as np\n",
    "import math\n",
    "from TOVsolver.unit import g_cm_3, dyn_cm_2, km, Msun, MeV, fm"
   ]
  },
  {
   "cell_type": "code",
   "execution_count": 65,
   "id": "36de5c1d-c39b-498b-b7ef-b72c5da26c6d",
   "metadata": {},
   "outputs": [],
   "source": [
    "MR_EOS = main.OutputMR(\"\",rho1_new,P1_new).T\n",
    "MRT_EOS = main.OutputMRT(\"\",rho1_new,P1_new).T"
   ]
  },
  {
   "cell_type": "code",
   "execution_count": 67,
   "id": "7243dd10-ebc3-467b-98ff-e508ee1c3e69",
   "metadata": {},
   "outputs": [
    {
     "data": {
      "image/png": "[encoded data removed]",
      "text/plain": [
       "<Figure size 640x480 with 1 Axes>"
      ]
     },
     "metadata": {},
     "output_type": "display_data"
    }
   ],
   "source": [
    "plt.plot(MR_EOS[1]/km,MR_EOS[0]/Msun)\n",
    "plt.show()"
   ]
  },
  {
   "cell_type": "code",
   "execution_count": 79,
   "id": "92e0aac9-aa0c-4acf-b455-2c74c09515b2",
   "metadata": {},
   "outputs": [
    {
     "data": {
      "image/png": "[encoded data removed]",
      "text/plain": [
       "<Figure size 640x480 with 1 Axes>"
      ]
     },
     "metadata": {},
     "output_type": "display_data"
    }
   ],
   "source": [
    "plt.plot(MRT_EOS[1]/Msun, MRT_EOS[2] ,'g-', lw=2)\n",
    "plt.ylim([0,3000])\n",
    "plt.xlim([0.8,2])\n",
    "plt.show()"
   ]
  },
  {
   "cell_type": "code",
   "execution_count": 69,
   "id": "8555fb4b-4506-4cf0-93b6-11b3f74cece4",
   "metadata": {},
   "outputs": [
    {
     "name": "stdout",
     "output_type": "stream",
     "text": [
      "[23.02922544 20.26580828 18.36894037 16.69343068 15.72567207 14.91033924\n",
      " 14.4132298  14.10968075 14.08475309 14.05928153 13.85766902 13.49302508\n",
      " 13.12599734 13.00090433 12.8837136  12.86040598 12.81135509 12.82573523\n",
      " 12.80292889 12.79713897 12.80307581 12.77889949 12.75484652 12.73931484\n",
      " 12.69526244 12.64142929 12.58155815 12.51592513 12.44474893 12.36791545\n",
      " 12.28609129 12.1993413  12.10845004 12.0136844  11.91552453 11.81464023\n",
      " 11.71134211 11.61393433 11.50661236 11.39039891 11.2807444  11.17012623\n",
      " 11.05882416 10.94703755 10.83497175 10.72277983 10.61054897 10.49857234\n",
      " 10.38711666 10.27622765]\n"
     ]
    }
   ],
   "source": [
    "print(MR_EOS[1]/km)"
   ]
  },
  {
   "cell_type": "code",
   "execution_count": 71,
   "id": "fe8c9454-f95a-4859-bd97-dd88af921b5d",
   "metadata": {},
   "outputs": [
    {
     "data": {
      "text/plain": [
       "array([0.15306404, 0.17170885, 0.19467491, 0.22225687, 0.25485124,\n",
       "       0.29287874, 0.3368525 , 0.37380159, 0.37744279, 0.38113217,\n",
       "       0.40563145, 0.44531089, 0.52250907, 0.60762581, 0.68730589,\n",
       "       0.77272513, 0.8638912 , 0.95646481, 1.05145585, 1.14638294,\n",
       "       1.23629908, 1.31891764, 1.3944383 , 1.46300223, 1.52489181,\n",
       "       1.58045074, 1.63005641, 1.6740886 , 1.71294228, 1.74694882,\n",
       "       1.77647359, 1.80182854, 1.82333679, 1.84127613, 1.85591222,\n",
       "       1.8675043 , 1.8762841 , 1.88246789, 1.88625315, 1.88782559,\n",
       "       1.88736295, 1.88501912, 1.88094843, 1.87528933, 1.868173  ,\n",
       "       1.85971955, 1.85003933, 1.83924171, 1.82742718, 1.81467898])"
      ]
     },
     "execution_count": 71,
     "metadata": {},
     "output_type": "execute_result"
    }
   ],
   "source": [
    "MR_EOS[0]/Msun"
   ]
  },
  {
   "cell_type": "code",
   "execution_count": 73,
   "id": "f53b62ec-d8c1-4d1f-b693-197fcf315924",
   "metadata": {},
   "outputs": [
    {
     "data": {
      "image/png": "[encoded data removed]",
      "text/plain": [
       "<Figure size 640x480 with 1 Axes>"
      ]
     },
     "metadata": {},
     "output_type": "display_data"
    }
   ],
   "source": [
    "# Plotting\n",
    "plt.plot( rho1/(g_cm_3*(1.7827e12)), P1/(dyn_cm_2*(1.6022e33)))\n",
    "plt.xlabel('Density (MeV/fm³)')\n",
    "plt.ylabel('Pressure (MeV/fm³)')\n",
    "plt.title('Pressure vs Density')\n",
    "plt.xscale(\"log\")\n",
    "plt.yscale(\"log\")\n",
    "plt.xlim([10**2,10**4])\n",
    "plt.ylim([10**0,10**4])\n",
    "plt.grid(True)\n",
    "#plt.legend()\n",
    "plt.show()"
   ]
  },
  {
   "cell_type": "code",
   "execution_count": 75,
   "id": "2f238048-6485-448a-80d0-db9d822a9fbe",
   "metadata": {},
   "outputs": [
    {
     "name": "stdout",
     "output_type": "stream",
     "text": [
      "[1.031700e+04 1.047100e+05 1.045700e+06 ... 9.830931e+15 9.971180e+15\n",
      " 1.011169e+16]\n",
      "1184\n",
      "1184\n",
      "99\n"
     ]
    }
   ],
   "source": [
    "print(rho1/g_cm_3)\n",
    "print(len(rho1/g_cm_3))\n",
    "print(len(P1/dyn_cm_2))\n",
    "print(len(cs2_plot))"
   ]
  },
  {
   "cell_type": "code",
   "execution_count": 77,
   "id": "686487e7-1c0e-461c-9e31-8c4e25749d4e",
   "metadata": {},
   "outputs": [
    {
     "name": "stdout",
     "output_type": "stream",
     "text": [
      "Length of rho1/g_cm_3: 1184\n",
      "Length of P1/dyn_cm_2: 1184\n",
      "Length of cs2_plot: 99\n",
      "EOS1 saved to EOS1_data.txt\n"
     ]
    }
   ],
   "source": [
    "column_1 = np.ones(1184)  # Placeholder for rho1\n",
    "column_2 = np.ones(1184)  # Placeholder for P1\n",
    "column_3 = np.ones(99)  # Placeholder for cs2_plot\n",
    "\n",
    "\n",
    "\n",
    "# Verify lengths\n",
    "print(\"Length of rho1/g_cm_3:\", len(column_1))\n",
    "print(\"Length of P1/dyn_cm_2:\", len(column_2))\n",
    "print(\"Length of cs2_plot:\", len(column_3))\n",
    "\n",
    "\n",
    "# Pad cs2_plot to length 1185 with np.nan for the first 1085 elements\n",
    "cs2_padded = np.full(1184, np.nan)  # Create array of length 1185 filled with NaN\n",
    "cs2_padded[-99:] = cs2_plot  # Assign last 100 elements from cs2_plot\n",
    "\n",
    "\n",
    "# Create EOS1 by stacking the arrays\n",
    "EOS1 = np.column_stack((rho1/g_cm_3, P1/dyn_cm_2, cs2_padded))\n",
    "\n",
    "# Save EOS1 to a file\n",
    "np.savetxt(\"EOS1_data_grok.txt\", EOS1, header=\"Density(g/cm^3) Pressure(dyn/cm^2) cs2\", fmt=\"%.6e\")\n",
    "\n",
    "print(\"EOS1 saved to EOS1_data.txt\")"
   ]
  },
  {
   "cell_type": "code",
   "execution_count": null,
   "id": "1359af36-f61d-4585-abf4-be550c9b2e0a",
   "metadata": {},
   "outputs": [],
   "source": []
  }
 ],
 "metadata": {
  "kernelspec": {
   "display_name": "Python 3 (ipykernel)",
   "language": "python",
   "name": "python3"
  },
  "language_info": {
   "codemirror_mode": {
    "name": "ipython",
    "version": 3
   },
   "file_extension": ".py",
   "mimetype": "text/x-python",
   "name": "python",
   "nbconvert_exporter": "python",
   "pygments_lexer": "ipython3",
   "version": "3.12.4"
  }
 },
 "nbformat": 4,
 "nbformat_minor": 5
}

{
 "cells": [
  {
   "cell_type": "code",
   "execution_count": 1,
   "id": "aa70dd24-a949-4879-87f0-36d64df4351d",
   "metadata": {},
   "outputs": [],
   "source": [
    "import numpy as np\n",
    "from scipy.integrate import quad\n",
    "import matplotlib.pyplot as plt\n"
   ]
  },
  {
   "cell_type": "code",
   "execution_count": 3,
   "id": "c9346d9a-bd32-4b14-aa97-82e26f04d189",
   "metadata": {},
   "outputs": [],
   "source": [
    "# Constants\n",
    "mu_1 = 938  # MeV\n",
    "P_1 = 2.08  # MeV/fm³ (assumed energy density)\n",
    "n_0 = 0.16  # fm⁻³ (number density corresponding to 2.68e14 g/cm³)\n",
    "n_1 = 1.1 * n_0  # fm⁻³\n",
    "\n"
   ]
  },
  {
   "cell_type": "code",
   "execution_count": 4,
   "id": "1b54ee97-581a-4c92-8b69-09892816ab03",
   "metadata": {},
   "outputs": [],
   "source": [
    "def generate_points(N, mu_1=938, mu_N1=2600):\n",
    "    \"\"\"\n",
    "    Generate random mu_points and cs2_points for piecewise linear c_s^2(mu).\n",
    "    \n",
    "    Parameters:\n",
    "    N (int): Number of segments (e.g., 3, 4, 5, 7).\n",
    "    mu_1 (float): Starting mu value in MeV.\n",
    "    mu_N1 (float): Ending mu value in MeV.\n",
    "    \n",
    "    Returns:\n",
    "    mu_points (list): List of mu values in increasing order.\n",
    "    cs2_points (list): List of c_s^2 values corresponding to mu_points.\n",
    "    \"\"\"\n",
    "    # Sample maximum sound speed squared from [0,1]\n",
    "\n",
    "    c_s_max2 = np.random.uniform(0, 1)\n",
    "    \n",
    "    # Sample N-1 intermediate mu points in [mu_1, mu_N1] and sort them\n",
    "\n",
    "    if N > 1:\n",
    "        intermediate_mus = np.random.uniform(mu_1, mu_N1, N-1)\n",
    "        intermediate_mus.sort()\n",
    "    else:\n",
    "        intermediate_mus = []\n",
    "    \n",
    "    # Construct mu_points with fixed endpoints\n",
    "    mu_points = [mu_1] + list(intermediate_mus) + [mu_N1]\n",
    "    \n",
    "    # Sample c_s^2 values for all N+1 points from [0, c_s_max2]\n",
    "    cs2_points = np.random.uniform( 0, c_s_max2, N+1).tolist()\n",
    "    cs2_points.sort()\n",
    "    return mu_points, cs2_points"
   ]
  },
  {
   "cell_type": "code",
   "execution_count": 7,
   "id": "a74048ba-ad6e-4f2e-842b-521d524a848f",
   "metadata": {},
   "outputs": [],
   "source": [
    "# Generate piecewise linear c_s²(μ) parameters\n",
    "N = 3  # Number of segments, can be 3, 4, 5, or 7\n",
    "mu_points, cs2_points = generate_points(N, mu_1=938, mu_N1=2600)\n"
   ]
  },
  {
   "cell_type": "code",
   "execution_count": 9,
   "id": "52fea071-2536-402e-834f-59fb136fa597",
   "metadata": {},
   "outputs": [
    {
     "name": "stdout",
     "output_type": "stream",
     "text": [
      "[938, 1765.4656083499863, 2391.7484694474306, 2600]\n"
     ]
    }
   ],
   "source": [
    "print(mu_points)"
   ]
  },
  {
   "cell_type": "code",
   "execution_count": 11,
   "id": "b96655bb-6fe5-4925-8b6f-31d5a783da4f",
   "metadata": {},
   "outputs": [
    {
     "name": "stdout",
     "output_type": "stream",
     "text": [
      "[0.0604471336924979, 0.07299745705457097, 0.07752080433544603, 0.18440279931163484]\n"
     ]
    }
   ],
   "source": [
    "print(cs2_points)"
   ]
  },
  {
   "cell_type": "code",
   "execution_count": 13,
   "id": "97265a48-7147-402d-9aab-252874a7c3ef",
   "metadata": {},
   "outputs": [
    {
     "name": "stdout",
     "output_type": "stream",
     "text": [
      "mu_points: [938, 1765.4656083499863, 2391.7484694474306, 2600]\n",
      "cs2_points: [0.0604471336924979, 0.07299745705457097, 0.07752080433544603, 0.18440279931163484]\n"
     ]
    }
   ],
   "source": [
    "# Example output (values will vary due to randomness)\n",
    "print(\"mu_points:\", mu_points)\n",
    "print(\"cs2_points:\", cs2_points)"
   ]
  },
  {
   "cell_type": "code",
   "execution_count": 15,
   "id": "84e35259-09e3-4349-a440-9fe13f81c488",
   "metadata": {},
   "outputs": [],
   "source": [
    "# Define c_s²(μ) with standard linear interpolation\n",
    "def c_s2(mu):\n",
    "    if mu <= mu_points[0]:\n",
    "        return cs2_points[0]\n",
    "    elif mu >= mu_points[-1]:\n",
    "        return cs2_points[-1]\n",
    "    for i in range(len(mu_points) - 1):\n",
    "        if mu_points[i] <= mu <= mu_points[i + 1]:\n",
    "            return ( cs2_points[i]*(mu_points[i + 1] - mu)  +  cs2_points[i + 1] * (mu - mu_points[i]) ) / (mu_points[i + 1] - mu_points[i])\n"
   ]
  },
  {
   "cell_type": "code",
   "execution_count": 17,
   "id": "e06675eb-1cf9-4934-9656-795f2b19330d",
   "metadata": {},
   "outputs": [],
   "source": [
    "# Integrand for equation (2)\n",
    "def integrand_eq2(mu_prime):\n",
    "    cs2 = c_s2(mu_prime)\n",
    "    if cs2 == 0:  # Avoid division by zero\n",
    "        return 0\n",
    "    return 1 / (mu_prime * cs2)\n",
    "\n",
    "\n",
    "# n(μ) from equation (2)\n",
    "def n_mu(mu):\n",
    "    if mu == mu_1:\n",
    "        return n_1\n",
    "    integral, _ = quad(integrand_eq2, mu_1, mu)\n",
    "    return n_1 * np.exp(integral)\n",
    "\n"
   ]
  },
  {
   "cell_type": "code",
   "execution_count": 19,
   "id": "5ee7b7ab-eccc-4be4-802c-0bb7f26859d5",
   "metadata": {},
   "outputs": [],
   "source": [
    "# Integrand for equation (3)\n",
    "def integrand_eq3(mu_prime):\n",
    "    return n_mu(mu_prime)\n",
    "\n",
    "# P(μ) from equation (3)\n",
    "def P_mu(mu):\n",
    "    if mu == mu_1:\n",
    "        return P_1\n",
    "    integral, _ = quad(integrand_eq3, mu_1, mu)\n",
    "    return P_1 + integral\n"
   ]
  },
  {
   "cell_type": "code",
   "execution_count": 21,
   "id": "69f8e7fc-e7af-4bac-a1da-7a9c0dc747be",
   "metadata": {},
   "outputs": [
    {
     "name": "stderr",
     "output_type": "stream",
     "text": [
      "C:\\Users\\User\\AppData\\Local\\Temp\\ipykernel_8140\\1762087462.py:9: IntegrationWarning: The occurrence of roundoff error is detected, which prevents \n",
      "  the requested tolerance from being achieved.  The error may be \n",
      "  underestimated.\n",
      "  integral, _ = quad(integrand_eq3, mu_1, mu)\n"
     ]
    }
   ],
   "source": [
    "# Generate μ grid and compute n and P\n",
    "mu_grid = np.linspace(mu_1, 2600, 100)  # MeV, adjusted to reach n = 40 n_0\n",
    "n_grid = np.array([n_mu(mu) for mu in mu_grid])\n",
    "P_grid = np.array([P_mu(mu) for mu in mu_grid])\n",
    "cs2_grid = np.array([c_s2(mu) for mu in mu_grid])\n",
    "\n"
   ]
  },
  {
   "cell_type": "code",
   "execution_count": 23,
   "id": "40ca1d34-0ad5-4880-9449-415427a90a38",
   "metadata": {},
   "outputs": [],
   "source": [
    "# Convert n to n/n_0\n",
    "n_over_n0 = n_grid / n_0\n"
   ]
  },
  {
   "cell_type": "code",
   "execution_count": 25,
   "id": "14ebb350-b03d-40ec-9188-595ffabc77e3",
   "metadata": {},
   "outputs": [
    {
     "name": "stdout",
     "output_type": "stream",
     "text": [
      "[ 938.          954.78787879  971.57575758  988.36363636 1005.15151515\n",
      " 1021.93939394 1038.72727273 1055.51515152 1072.3030303  1089.09090909\n",
      " 1105.87878788 1122.66666667 1139.45454545 1156.24242424 1173.03030303\n",
      " 1189.81818182 1206.60606061 1223.39393939 1240.18181818 1256.96969697\n",
      " 1273.75757576 1290.54545455 1307.33333333 1324.12121212 1340.90909091\n",
      " 1357.6969697  1374.48484848 1391.27272727 1408.06060606 1424.84848485\n",
      " 1441.63636364 1458.42424242 1475.21212121 1492.         1508.78787879\n",
      " 1525.57575758 1542.36363636 1559.15151515 1575.93939394 1592.72727273\n",
      " 1609.51515152 1626.3030303  1643.09090909 1659.87878788 1676.66666667\n",
      " 1693.45454545 1710.24242424 1727.03030303 1743.81818182 1760.60606061\n",
      " 1777.39393939 1794.18181818 1810.96969697 1827.75757576 1844.54545455\n",
      " 1861.33333333 1878.12121212 1894.90909091 1911.6969697  1928.48484848\n",
      " 1945.27272727 1962.06060606 1978.84848485 1995.63636364 2012.42424242\n",
      " 2029.21212121 2046.         2062.78787879 2079.57575758 2096.36363636\n",
      " 2113.15151515 2129.93939394 2146.72727273 2163.51515152 2180.3030303\n",
      " 2197.09090909 2213.87878788 2230.66666667 2247.45454545 2264.24242424\n",
      " 2281.03030303 2297.81818182 2314.60606061 2331.39393939 2348.18181818\n",
      " 2364.96969697 2381.75757576 2398.54545455 2415.33333333 2432.12121212\n",
      " 2448.90909091 2465.6969697  2482.48484848 2499.27272727 2516.06060606\n",
      " 2532.84848485 2549.63636364 2566.42424242 2583.21212121 2600.        ]\n"
     ]
    }
   ],
   "source": [
    "print(mu_grid)"
   ]
  },
  {
   "cell_type": "code",
   "execution_count": 27,
   "id": "5f487c68-d000-4b61-b38b-61acde4568ce",
   "metadata": {},
   "outputs": [
    {
     "name": "stdout",
     "output_type": "stream",
     "text": [
      "[2.94800000e+14 3.95104309e+14 5.26206306e+14 6.96559945e+14\n",
      " 9.16668421e+14 1.19951545e+15 1.56107343e+15 2.02089957e+15\n",
      " 2.60283254e+15 3.33580304e+15 4.25477360e+15 5.40182405e+15\n",
      " 6.82740065e+15 8.59174883e+15 1.07665507e+16 1.34367908e+16\n",
      " 1.67028749e+16 2.06830293e+16 2.55160093e+16 3.13641479e+16\n",
      " 3.84167784e+16 4.68940657e+16 5.70512847e+16 6.91835850e+16\n",
      " 8.36312841e+16 1.00785735e+17 1.21095812e+17 1.45075068e+17\n",
      " 1.73309615e+17 2.06466770e+17 2.45304546e+17 2.90682025e+17\n",
      " 3.43570678e+17 4.05066715e+17 4.76404495e+17 5.58971098e+17\n",
      " 6.54322111e+17 7.64198695e+17 8.90546029e+17 1.03553318e+18\n",
      " 1.20157449e+18 1.39135257e+18 1.60784295e+18 1.85434051e+18\n",
      " 2.13448771e+18 2.45230482e+18 2.81222205e+18 3.21911390e+18\n",
      " 3.67833562e+18 4.19576191e+18 4.77811321e+18 5.43343407e+18\n",
      " 6.16994081e+18 6.99661221e+18 7.92329971e+18 8.96080019e+18\n",
      " 1.01209340e+19 1.14166282e+19 1.28620055e+19 1.44724775e+19\n",
      " 1.62648499e+19 1.82574250e+19 2.04701190e+19 2.29245830e+19\n",
      " 2.56443314e+19 2.86548802e+19 3.19838910e+19 3.56613260e+19\n",
      " 3.97196084e+19 4.41938002e+19 4.91217788e+19 5.45444314e+19\n",
      " 6.05058632e+19 6.70535956e+19 7.42388201e+19 8.21166102e+19\n",
      " 9.07461841e+19 1.00191169e+20 1.10519875e+20 1.21805586e+20\n",
      " 1.34126877e+20 1.47567915e+20 1.62218817e+20 1.78175989e+20\n",
      " 1.95542503e+20 2.14428490e+20 2.34951528e+20 2.57034514e+20\n",
      " 2.78951010e+20 3.00314487e+20 3.21163799e+20 3.41531973e+20\n",
      " 3.61447523e+20 3.80935393e+20 4.00017632e+20 4.18713917e+20\n",
      " 4.37041966e+20 4.55017827e+20 4.72656147e+20 4.89970348e+20]\n"
     ]
    }
   ],
   "source": [
    "print(n_grid/0.16 * 2.68e14)"
   ]
  },
  {
   "cell_type": "code",
   "execution_count": 29,
   "id": "1ea089b1-5963-435b-8047-ff6d26d8f733",
   "metadata": {},
   "outputs": [
    {
     "name": "stdout",
     "output_type": "stream",
     "text": [
      "[3.33257600e+33 8.83558706e+33 1.61864825e+34 2.59452132e+34\n",
      " 3.88234095e+34 5.57206545e+34 7.77682875e+34 1.06382057e+35\n",
      " 1.43325139e+35 1.90783229e+35 2.51453684e+35 3.28650881e+35\n",
      " 4.26430312e+35 5.49734177e+35 7.04561598e+35 8.98166933e+35\n",
      " 1.13929005e+36 1.43842281e+36 1.80811659e+36 2.26333590e+36\n",
      " 2.82186399e+36 3.50476659e+36 4.33692075e+36 5.34761623e+36\n",
      " 6.57123758e+36 8.04803573e+36 9.82499883e+36 1.19568324e+37\n",
      " 1.45070602e+37 1.75492578e+37 2.11684319e+37 2.54625580e+37\n",
      " 3.05442941e+37 3.65428822e+37 4.36062581e+37 5.19033854e+37\n",
      " 6.16268324e+37 7.29956138e+37 8.62583168e+37 1.01696535e+38\n",
      " 1.19628632e+38 1.40413864e+38 1.64456885e+38 1.92212655e+38\n",
      " 2.24191797e+38 2.60966419e+38 3.03176431e+38 3.51536407e+38\n",
      " 4.06843005e+38 4.69982998e+38 5.41943033e+38 6.23829724e+38\n",
      " 7.16880121e+38 8.22468877e+38 9.42121764e+38 1.07753023e+39\n",
      " 1.23056722e+39 1.40330426e+39 1.59802994e+39 1.81726985e+39\n",
      " 2.06380814e+39 2.34071069e+39 2.65135005e+39 2.99943235e+39\n",
      " 3.38902626e+39 3.82459381e+39 4.31102390e+39 4.85366791e+39\n",
      " 5.45837778e+39 6.13154709e+39 6.88015486e+39 7.71181233e+39\n",
      " 8.63481267e+39 9.65818430e+39 1.07917487e+40 1.20461793e+40\n",
      " 1.34330672e+40 1.49649897e+40 1.66555830e+40 1.85196191e+40\n",
      " 2.05730899e+40 2.28332928e+40 2.53189249e+40 2.80501789e+40\n",
      " 3.10488505e+40 3.43384448e+40 3.79442966e+40 4.18932526e+40\n",
      " 4.61975115e+40 5.08492143e+40 5.58398001e+40 6.11612854e+40\n",
      " 6.68061775e+40 7.27674130e+40 7.90383051e+40 8.56125005e+40\n",
      " 9.24839455e+40 9.96468581e+40 1.07095703e+41 1.14825167e+41]\n"
     ]
    }
   ],
   "source": [
    "print(P_grid * 1.6022e33)"
   ]
  },
  {
   "cell_type": "code",
   "execution_count": 31,
   "id": "e90fd7ef-0269-4b19-a157-25fe9167a801",
   "metadata": {},
   "outputs": [
    {
     "name": "stdout",
     "output_type": "stream",
     "text": [
      "[0.06044713 0.06070176 0.06095638 0.06121101 0.06146563 0.06172026\n",
      " 0.06197488 0.06222951 0.06248413 0.06273876 0.06299338 0.06324801\n",
      " 0.06350263 0.06375726 0.06401188 0.06426651 0.06452113 0.06477576\n",
      " 0.06503038 0.06528501 0.06553963 0.06579426 0.06604888 0.06630351\n",
      " 0.06655813 0.06681275 0.06706738 0.067322   0.06757663 0.06783125\n",
      " 0.06808588 0.0683405  0.06859513 0.06884975 0.06910438 0.069359\n",
      " 0.06961363 0.06986825 0.07012288 0.0703775  0.07063213 0.07088675\n",
      " 0.07114138 0.071396   0.07165063 0.07190525 0.07215988 0.0724145\n",
      " 0.07266913 0.07292375 0.07308361 0.07320486 0.07332611 0.07344736\n",
      " 0.07356861 0.07368986 0.07381112 0.07393237 0.07405362 0.07417487\n",
      " 0.07429612 0.07441737 0.07453862 0.07465987 0.07478112 0.07490237\n",
      " 0.07502363 0.07514488 0.07526613 0.07538738 0.07550863 0.07562988\n",
      " 0.07575113 0.07587238 0.07599363 0.07611488 0.07623614 0.07635739\n",
      " 0.07647864 0.07659989 0.07672114 0.07684239 0.07696364 0.07708489\n",
      " 0.07720614 0.07732739 0.07744864 0.08100926 0.08962538 0.09824151\n",
      " 0.10685764 0.11547377 0.1240899  0.13270603 0.14132216 0.14993828\n",
      " 0.15855441 0.16717054 0.17578667 0.1844028 ]\n"
     ]
    }
   ],
   "source": [
    "print(cs2_grid)"
   ]
  },
  {
   "cell_type": "code",
   "execution_count": 33,
   "id": "d8856760-1e53-4b49-805d-9208a35de8c2",
   "metadata": {},
   "outputs": [],
   "source": [
    "# Filter for the desired range: 1.1 n_0 to 40 n_0\n",
    "mask = (n_over_n0 >= 1.1) & (n_over_n0 <= 40)\n",
    "n_plot = n_over_n0[mask]\n",
    "P_plot = P_grid[mask]\n",
    "cs2_plot = cs2_grid[mask]\n"
   ]
  },
  {
   "cell_type": "code",
   "execution_count": 35,
   "id": "d7b08ad6-d28a-43d5-b379-8e1d025c9bfa",
   "metadata": {},
   "outputs": [
    {
     "name": "stdout",
     "output_type": "stream",
     "text": [
      "[2.94800000e+14 3.95104309e+14 5.26206306e+14 6.96559945e+14\n",
      " 9.16668421e+14 1.19951545e+15 1.56107343e+15 2.02089957e+15\n",
      " 2.60283254e+15 3.33580304e+15 4.25477360e+15 5.40182405e+15\n",
      " 6.82740065e+15 8.59174883e+15]\n"
     ]
    }
   ],
   "source": [
    "print(n_plot * 2.68e14)"
   ]
  },
  {
   "cell_type": "code",
   "execution_count": 37,
   "id": "625401b4-b56d-497b-9165-216699dab275",
   "metadata": {},
   "outputs": [
    {
     "name": "stdout",
     "output_type": "stream",
     "text": [
      "[3.33257600e+33 8.83558706e+33 1.61864825e+34 2.59452132e+34\n",
      " 3.88234095e+34 5.57206545e+34 7.77682875e+34 1.06382057e+35\n",
      " 1.43325139e+35 1.90783229e+35 2.51453684e+35 3.28650881e+35\n",
      " 4.26430312e+35 5.49734177e+35]\n"
     ]
    }
   ],
   "source": [
    "print(P_plot * 1.6022e33)"
   ]
  },
  {
   "cell_type": "code",
   "execution_count": 39,
   "id": "9fc127cf-1454-4d3e-8809-7816f9731bba",
   "metadata": {},
   "outputs": [
    {
     "name": "stdout",
     "output_type": "stream",
     "text": [
      "[0.06044713 0.06070176 0.06095638 0.06121101 0.06146563 0.06172026\n",
      " 0.06197488 0.06222951 0.06248413 0.06273876 0.06299338 0.06324801\n",
      " 0.06350263 0.06375726]\n"
     ]
    }
   ],
   "source": [
    "print(cs2_plot)"
   ]
  },
  {
   "cell_type": "code",
   "execution_count": 41,
   "id": "0d7127fe-cf15-44f8-95dc-0d057b97c71b",
   "metadata": {},
   "outputs": [],
   "source": [
    "sound_speed_squared = np.column_stack(( cs2_plot  ))\n",
    "np.savetxt(\"sound_speed_squared\", sound_speed_squared,  fmt=\"%.6e\")"
   ]
  },
  {
   "cell_type": "code",
   "execution_count": 43,
   "id": "904e0303-610f-40e1-8b1c-a1b1ade7ad72",
   "metadata": {},
   "outputs": [
    {
     "data": {
      "image/png": "[encoded data removed]",
      "text/plain": [
       "<Figure size 640x480 with 1 Axes>"
      ]
     },
     "metadata": {},
     "output_type": "display_data"
    }
   ],
   "source": [
    "# Plotting\n",
    "plt.plot( (n_plot*2.68e14)/ 1.7827e12, P_plot, label='Pressure vs Density')\n",
    "plt.xlabel('Density (MeV/fm³)')\n",
    "plt.ylabel('Pressure (MeV/fm³)')\n",
    "plt.title('Pressure vs Density from 1.1 n₀ to 40 n₀')\n",
    "plt.xscale(\"log\")\n",
    "plt.yscale(\"log\")\n",
    "plt.grid(True)\n",
    "plt.legend()\n",
    "plt.show()"
   ]
  },
  {
   "cell_type": "code",
   "execution_count": 45,
   "id": "591fbdc0-93a6-4879-a7c8-dc87f114f8f0",
   "metadata": {},
   "outputs": [
    {
     "data": {
      "image/png": "[encoded data removed]",
      "text/plain": [
       "<Figure size 640x480 with 1 Axes>"
      ]
     },
     "metadata": {},
     "output_type": "display_data"
    }
   ],
   "source": [
    "# Plotting\n",
    "plt.plot( (n_plot*2.68e14)/ 1.7827e12 , cs2_plot)\n",
    "plt.xlabel('Density (MeV/fm³)')\n",
    "plt.ylabel(r'$c_{s}^2$')\n",
    "#plt.title('Pressure vs Density from 1.1 n₀ to 40 n₀')\n",
    "plt.xscale(\"log\")\n",
    "#plt.yscale(\"log\")\n",
    "plt.grid(True)\n",
    "#plt.legend()\n",
    "plt.show()"
   ]
  },
  {
   "cell_type": "code",
   "execution_count": 47,
   "id": "10252a9b-f1ec-45af-865d-6955d85c0e47",
   "metadata": {},
   "outputs": [],
   "source": [
    "data_speed_of_sound = np.column_stack(( P_plot * 1.6022e33 , n_plot * 2.68e14 ))\n",
    "np.savetxt(\"data_speed_of_sound\", data_speed_of_sound,  fmt=\"%.6e\")"
   ]
  },
  {
   "cell_type": "code",
   "execution_count": null,
   "id": "7af06eac-c2e6-4ff5-86e8-b126ab009d21",
   "metadata": {},
   "outputs": [],
   "source": [
    "data_1 = np.loadtxt(\"data_polytropic\")\n",
    "data_2 = np.loadtxt(\"data_speed_of_sound\")"
   ]
  },
  {
   "cell_type": "code",
   "execution_count": null,
   "id": "632dbc61-afbc-4721-aceb-aea68872c434",
   "metadata": {},
   "outputs": [],
   "source": [
    "data_1_pres = data_1[:,0]\n",
    "data_1_density = data_1[:,1]\n",
    "\n",
    "data_2_pres = data_2[:,0]\n",
    "data_2_density = data_2[:,1]\n",
    "\n"
   ]
  },
  {
   "cell_type": "code",
   "execution_count": null,
   "id": "4af7140d-e867-4d91-83dc-6bf5e20b98b5",
   "metadata": {},
   "outputs": [],
   "source": [
    "eps_total = np.array([*data_1_density,*data_2_density])\n",
    "pres_total = np.array([*data_1_pres,*data_2_pres])"
   ]
  },
  {
   "cell_type": "code",
   "execution_count": null,
   "id": "e0039410-afaa-437f-8bd5-6c29118c73ef",
   "metadata": {},
   "outputs": [],
   "source": [
    "print(eps_total)"
   ]
  },
  {
   "cell_type": "code",
   "execution_count": null,
   "id": "d457adf9-0512-45c3-8867-1515f5688593",
   "metadata": {},
   "outputs": [],
   "source": [
    "print(pres_total)"
   ]
  },
  {
   "cell_type": "code",
   "execution_count": null,
   "id": "22820ea1-5259-4fbe-aa21-7c7c3ce2190f",
   "metadata": {},
   "outputs": [],
   "source": [
    "plt.plot(eps_total, pres_total)\n",
    "plt.show()"
   ]
  },
  {
   "cell_type": "code",
   "execution_count": null,
   "id": "f413f485-2256-41b2-8b66-67494c28bb78",
   "metadata": {},
   "outputs": [],
   "source": [
    "# Plotting\n",
    "plt.plot( eps_total/(1.7827e12), pres_total/(1.6022e33))\n",
    "plt.xlabel('Density (MeV/fm³)')\n",
    "plt.ylabel('Pressure (MeV/fm³)')\n",
    "plt.title('Pressure vs Density')\n",
    "plt.xscale(\"log\")\n",
    "plt.yscale(\"log\")\n",
    "plt.xlim([10**2,10**4])\n",
    "plt.ylim([10**0,10**4])\n",
    "plt.grid(True)\n",
    "#plt.legend()\n",
    "plt.show()"
   ]
  },
  {
   "cell_type": "code",
   "execution_count": null,
   "id": "74928eb1-6a48-49e8-8a2f-5a51ad616b27",
   "metadata": {},
   "outputs": [],
   "source": [
    "full_EOS = np.column_stack(( pres_total,eps_total  ))\n",
    "np.savetxt(\"Full_EOS\", full_EOS,  fmt=\"%.6e\")"
   ]
  },
  {
   "cell_type": "code",
   "execution_count": null,
   "id": "16da372a-d844-41a6-85da-b793e4cb1da8",
   "metadata": {},
   "outputs": [],
   "source": [
    "import numpy as np\n",
    "\n",
    "# Load the EOS data\n",
    "eos_data = np.loadtxt('Full_EOS', dtype=float)\n",
    "\n",
    "# Load the sound speed squared data\n",
    "cs2_data = np.loadtxt('sound_speed_squared', dtype=float)\n",
    "\n",
    "# Verify the data shapes\n",
    "print(f\"EOS data shape: {eos_data.shape}\")  # Should be (614, 2)\n",
    "print(f\"cs2 data length: {len(cs2_data)}\")  # Should be 88\n",
    "\n",
    "# Ensure the cs2 data matches the last 88 rows\n",
    "if len(cs2_data) != 88:\n",
    "    raise ValueError(\"Expected 88 cs2 values, but got {}\".format(len(cs2_data)))\n",
    "\n",
    "# Create an output array with three columns, initialized with NaN for cs2\n",
    "output_data = np.full((eos_data.shape[0], 3), np.nan)\n",
    "# Copy n and P to the first two columns\n",
    "output_data[:, :2] = eos_data\n",
    "# Add cs2 values to the last 88 rows of the third column\n",
    "output_data[-88:, 2] = cs2_data\n",
    "\n",
    "# Save to a new file, handling NaN as empty strings for the first 526 rows\n",
    "np.savetxt('Full_EOS_with_cs2.txt', output_data, fmt=['%.6e', '%.6e', '%s'],\n",
    "           delimiter=' ', encoding='utf-8',\n",
    "           comments='', header='n P cs2')\n",
    "# Note: Using '%s' for the third column to write empty strings for NaN values"
   ]
  },
  {
   "cell_type": "code",
   "execution_count": 49,
   "id": "9c9318ca-3e35-4b4b-903b-915d343782dd",
   "metadata": {},
   "outputs": [
    {
     "name": "stdout",
     "output_type": "stream",
     "text": [
      "EOS data shape: (1171, 2)\n",
      "cs2 data length: 88\n"
     ]
    }
   ],
   "source": [
    "import numpy as np\n",
    "\n",
    "# Load the EOS data\n",
    "eos_data = np.loadtxt('EOS_FULL_GROK', dtype=float)\n",
    "\n",
    "# Load the sound speed squared data\n",
    "cs2_data = np.loadtxt('sound_speed_squared', dtype=float)\n",
    "\n",
    "# Verify the data shapes\n",
    "print(f\"EOS data shape: {eos_data.shape}\")  # Should be (614, 2)\n",
    "print(f\"cs2 data length: {len(cs2_data)}\")  # Should be 88\n",
    "\n",
    "# Ensure the cs2 data matches the last 88 rows\n",
    "if len(cs2_data) != 88:\n",
    "    raise ValueError(\"Expected 88 cs2 values, but got {}\".format(len(cs2_data)))\n",
    "\n",
    "# Create an output array with three columns, initialized with NaN for cs2\n",
    "output_data = np.full((eos_data.shape[0], 3), np.nan)\n",
    "# Copy n and P to the first two columns\n",
    "output_data[:, :2] = eos_data\n",
    "# Add cs2 values to the last 88 rows of the third column\n",
    "output_data[-88:, 2] = cs2_data\n",
    "\n",
    "# Save to a new file, handling NaN as empty strings for the first 526 rows\n",
    "np.savetxt('EOS_FULL_GROK_with_cs2.txt', output_data, fmt=['%.6e', '%.6e', '%s'],\n",
    "           delimiter=' ', encoding='utf-8',\n",
    "           comments='', header='n P cs2')\n",
    "# Note: Using '%s' for the third column to write empty strings for NaN values"
   ]
  },
  {
   "cell_type": "code",
   "execution_count": null,
   "id": "48198af9-364b-4ad5-89ab-dcadc01bf02c",
   "metadata": {},
   "outputs": [],
   "source": []
  }
 ],
 "metadata": {
  "kernelspec": {
   "display_name": "Python 3 (ipykernel)",
   "language": "python",
   "name": "python3"
  },
  "language_info": {
   "codemirror_mode": {
    "name": "ipython",
    "version": 3
   },
   "file_extension": ".py",
   "mimetype": "text/x-python",
   "name": "python",
   "nbconvert_exporter": "python",
   "pygments_lexer": "ipython3",
   "version": "3.12.4"
  }
 },
 "nbformat": 4,
 "nbformat_minor": 5
}

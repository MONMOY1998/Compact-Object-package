{
 "cells": [
  {
   "cell_type": "code",
   "execution_count": 1,
   "id": "aa70dd24-a949-4879-87f0-36d64df4351d",
   "metadata": {},
   "outputs": [],
   "source": [
    "import numpy as np\n",
    "from scipy.integrate import quad\n",
    "import matplotlib.pyplot as plt\n"
   ]
  },
  {
   "cell_type": "code",
   "execution_count": null,
   "id": "c9346d9a-bd32-4b14-aa97-82e26f04d189",
   "metadata": {},
   "outputs": [],
   "source": [
    "# Constants\n",
    "mu_1 = 938  # MeV\n",
    "P_1 = 2.08  # MeV/fm³ (assumed energy density)\n",
    "n_0 = 0.16  # fm⁻³ (number density corresponding to 2.68e14 g/cm³)\n",
    "n_1 = 1.1 * n_0  # fm⁻³\n",
    "\n"
   ]
  },
  {
   "cell_type": "code",
   "execution_count": null,
   "id": "1b54ee97-581a-4c92-8b69-09892816ab03",
   "metadata": {},
   "outputs": [],
   "source": [
    "def generate_points(N, mu_1=938, mu_N1=2600):\n",
    "    \"\"\"\n",
    "    Generate random mu_points and cs2_points for piecewise linear c_s^2(mu).\n",
    "    \n",
    "    Parameters:\n",
    "    N (int): Number of segments (e.g., 3, 4, 5, 7).\n",
    "    mu_1 (float): Starting mu value in MeV.\n",
    "    mu_N1 (float): Ending mu value in MeV.\n",
    "    \n",
    "    Returns:\n",
    "    mu_points (list): List of mu values in increasing order.\n",
    "    cs2_points (list): List of c_s^2 values corresponding to mu_points.\n",
    "    \"\"\"\n",
    "    # Sample maximum sound speed squared from [0,1]\n",
    "\n",
    "    c_s_max2 = np.random.uniform(0, 1)\n",
    "    \n",
    "    # Sample N-1 intermediate mu points in [mu_1, mu_N1] and sort them\n",
    "\n",
    "    if N > 1:\n",
    "        intermediate_mus = np.random.uniform(mu_1, mu_N1, N-1)\n",
    "        intermediate_mus.sort()\n",
    "    else:\n",
    "        intermediate_mus = []\n",
    "    \n",
    "    # Construct mu_points with fixed endpoints\n",
    "    mu_points = [mu_1] + list(intermediate_mus) + [mu_N1]\n",
    "    \n",
    "    # Sample c_s^2 values for all N+1 points from [0, c_s_max2]\n",
    "    cs2_points = np.random.uniform( 0, c_s_max2, N+1).tolist()\n",
    "    cs2_points.sort()\n",
    "    return mu_points, cs2_points"
   ]
  },
  {
   "cell_type": "code",
   "execution_count": null,
   "id": "a74048ba-ad6e-4f2e-842b-521d524a848f",
   "metadata": {},
   "outputs": [],
   "source": [
    "# Generate piecewise linear c_s²(μ) parameters\n",
    "N = 3  # Number of segments, can be 3, 4, 5, or 7\n",
    "mu_points, cs2_points = generate_points(N, mu_1=938, mu_N1=2600)\n"
   ]
  },
  {
   "cell_type": "code",
   "execution_count": null,
   "id": "52fea071-2536-402e-834f-59fb136fa597",
   "metadata": {},
   "outputs": [],
   "source": [
    "print(mu_points)"
   ]
  },
  {
   "cell_type": "code",
   "execution_count": null,
   "id": "b96655bb-6fe5-4925-8b6f-31d5a783da4f",
   "metadata": {},
   "outputs": [],
   "source": [
    "print(cs2_points)"
   ]
  },
  {
   "cell_type": "code",
   "execution_count": null,
   "id": "97265a48-7147-402d-9aab-252874a7c3ef",
   "metadata": {},
   "outputs": [],
   "source": [
    "# Example output (values will vary due to randomness)\n",
    "print(\"mu_points:\", mu_points)\n",
    "print(\"cs2_points:\", cs2_points)"
   ]
  },
  {
   "cell_type": "code",
   "execution_count": null,
   "id": "84e35259-09e3-4349-a440-9fe13f81c488",
   "metadata": {},
   "outputs": [],
   "source": [
    "# Define c_s²(μ) with standard linear interpolation\n",
    "def c_s2(mu):\n",
    "    if mu <= mu_points[0]:\n",
    "        return cs2_points[0]\n",
    "    elif mu >= mu_points[-1]:\n",
    "        return cs2_points[-1]\n",
    "    for i in range(len(mu_points) - 1):\n",
    "        if mu_points[i] <= mu <= mu_points[i + 1]:\n",
    "            return ( cs2_points[i]*(mu_points[i + 1] - mu)  +  cs2_points[i + 1] * (mu - mu_points[i]) ) / (mu_points[i + 1] - mu_points[i])\n"
   ]
  },
  {
   "cell_type": "code",
   "execution_count": null,
   "id": "e06675eb-1cf9-4934-9656-795f2b19330d",
   "metadata": {},
   "outputs": [],
   "source": [
    "# Integrand for equation (2)\n",
    "def integrand_eq2(mu_prime):\n",
    "    cs2 = c_s2(mu_prime)\n",
    "    if cs2 == 0:  # Avoid division by zero\n",
    "        return 0\n",
    "    return 1 / (mu_prime * cs2)\n",
    "\n",
    "\n",
    "# n(μ) from equation (2)\n",
    "def n_mu(mu):\n",
    "    if mu == mu_1:\n",
    "        return n_1\n",
    "    integral, _ = quad(integrand_eq2, mu_1, mu)\n",
    "    return n_1 * np.exp(integral)\n",
    "\n"
   ]
  },
  {
   "cell_type": "code",
   "execution_count": null,
   "id": "5ee7b7ab-eccc-4be4-802c-0bb7f26859d5",
   "metadata": {},
   "outputs": [],
   "source": [
    "# Integrand for equation (3)\n",
    "def integrand_eq3(mu_prime):\n",
    "    return n_mu(mu_prime)\n",
    "\n",
    "# P(μ) from equation (3)\n",
    "def P_mu(mu):\n",
    "    if mu == mu_1:\n",
    "        return P_1\n",
    "    integral, _ = quad(integrand_eq3, mu_1, mu)\n",
    "    return P_1 + integral\n"
   ]
  },
  {
   "cell_type": "code",
   "execution_count": null,
   "id": "69f8e7fc-e7af-4bac-a1da-7a9c0dc747be",
   "metadata": {},
   "outputs": [],
   "source": [
    "# Generate μ grid and compute n and P\n",
    "mu_grid = np.linspace(mu_1, 2600, 100)  # MeV, adjusted to reach n = 40 n_0\n",
    "n_grid = np.array([n_mu(mu) for mu in mu_grid])\n",
    "P_grid = np.array([P_mu(mu) for mu in mu_grid])\n",
    "cs2_grid = np.array([c_s2(mu) for mu in mu_grid])\n",
    "\n"
   ]
  },
  {
   "cell_type": "code",
   "execution_count": null,
   "id": "40ca1d34-0ad5-4880-9449-415427a90a38",
   "metadata": {},
   "outputs": [],
   "source": [
    "# Convert n to n/n_0\n",
    "n_over_n0 = n_grid / n_0\n"
   ]
  },
  {
   "cell_type": "code",
   "execution_count": null,
   "id": "14ebb350-b03d-40ec-9188-595ffabc77e3",
   "metadata": {},
   "outputs": [],
   "source": [
    "print(mu_grid)"
   ]
  },
  {
   "cell_type": "code",
   "execution_count": null,
   "id": "5f487c68-d000-4b61-b38b-61acde4568ce",
   "metadata": {},
   "outputs": [],
   "source": [
    "print(n_grid/0.16 * 2.68e14)"
   ]
  },
  {
   "cell_type": "code",
   "execution_count": null,
   "id": "1ea089b1-5963-435b-8047-ff6d26d8f733",
   "metadata": {},
   "outputs": [],
   "source": [
    "print(P_grid * 1.6022e33)"
   ]
  },
  {
   "cell_type": "code",
   "execution_count": null,
   "id": "e90fd7ef-0269-4b19-a157-25fe9167a801",
   "metadata": {},
   "outputs": [],
   "source": [
    "print(cs2_grid)"
   ]
  },
  {
   "cell_type": "code",
   "execution_count": null,
   "id": "d8856760-1e53-4b49-805d-9208a35de8c2",
   "metadata": {},
   "outputs": [],
   "source": [
    "# Filter for the desired range: 1.1 n_0 to 40 n_0\n",
    "mask = (n_over_n0 >= 1.1) & (n_over_n0 <= 40)\n",
    "n_plot = n_over_n0[mask]\n",
    "P_plot = P_grid[mask]\n",
    "cs2_plot = cs2_grid[mask]\n"
   ]
  },
  {
   "cell_type": "code",
   "execution_count": null,
   "id": "d7b08ad6-d28a-43d5-b379-8e1d025c9bfa",
   "metadata": {},
   "outputs": [],
   "source": [
    "print(n_plot * 2.68e14)"
   ]
  },
  {
   "cell_type": "code",
   "execution_count": null,
   "id": "625401b4-b56d-497b-9165-216699dab275",
   "metadata": {},
   "outputs": [],
   "source": [
    "print(P_plot * 1.6022e33)"
   ]
  },
  {
   "cell_type": "code",
   "execution_count": null,
   "id": "9fc127cf-1454-4d3e-8809-7816f9731bba",
   "metadata": {},
   "outputs": [],
   "source": [
    "print(cs2_plot)"
   ]
  },
  {
   "cell_type": "code",
   "execution_count": null,
   "id": "904e0303-610f-40e1-8b1c-a1b1ade7ad72",
   "metadata": {},
   "outputs": [],
   "source": [
    "# Plotting\n",
    "plt.plot( (n_plot*2.68e14)/ 1.7827e12, P_plot, label='Pressure vs Density')\n",
    "plt.xlabel('Density (MeV/fm³)')\n",
    "plt.ylabel('Pressure (MeV/fm³)')\n",
    "plt.title('Pressure vs Density from 1.1 n₀ to 40 n₀')\n",
    "plt.xscale(\"log\")\n",
    "plt.yscale(\"log\")\n",
    "plt.grid(True)\n",
    "plt.legend()\n",
    "plt.show()"
   ]
  },
  {
   "cell_type": "code",
   "execution_count": null,
   "id": "591fbdc0-93a6-4879-a7c8-dc87f114f8f0",
   "metadata": {},
   "outputs": [],
   "source": [
    "# Plotting\n",
    "plt.plot( (n_plot*2.68e14)/ 1.7827e12 , cs2_plot)\n",
    "plt.xlabel('Density (MeV/fm³)')\n",
    "plt.ylabel(r'$c_{s}^2$')\n",
    "#plt.title('Pressure vs Density from 1.1 n₀ to 40 n₀')\n",
    "plt.xscale(\"log\")\n",
    "#plt.yscale(\"log\")\n",
    "plt.grid(True)\n",
    "#plt.legend()\n",
    "plt.show()"
   ]
  },
  {
   "cell_type": "code",
   "execution_count": null,
   "id": "10252a9b-f1ec-45af-865d-6955d85c0e47",
   "metadata": {},
   "outputs": [],
   "source": [
    "data_speed_of_sound = np.column_stack(( P_plot * 1.6022e33 , n_plot * 2.68e14 ,cs2_plot ))\n",
    "np.savetxt(\"data_speed_of_sound\", data_speed_of_sound,  fmt=\"%.6e\")"
   ]
  },
  {
   "cell_type": "code",
   "execution_count": null,
   "id": "7af06eac-c2e6-4ff5-86e8-b126ab009d21",
   "metadata": {},
   "outputs": [],
   "source": [
    "data_1 = np.loadtxt(\"data_polytropic\")\n",
    "data_2 = np.loadtxt(\"data_speed_of_sound\")"
   ]
  },
  {
   "cell_type": "code",
   "execution_count": null,
   "id": "632dbc61-afbc-4721-aceb-aea68872c434",
   "metadata": {},
   "outputs": [],
   "source": [
    "data_1_pres = data_1[:,0]\n",
    "data_1_density = data_1[:,1]\n",
    "\n",
    "data_2_pres = data_2[:,0]\n",
    "data_2_density = data_2[:,1]\n",
    "\n"
   ]
  },
  {
   "cell_type": "code",
   "execution_count": null,
   "id": "4af7140d-e867-4d91-83dc-6bf5e20b98b5",
   "metadata": {},
   "outputs": [],
   "source": [
    "eps_total = np.array([*data_1_density,*data_2_density])\n",
    "pres_total = np.array([*data_1_pres,*data_2_pres])"
   ]
  },
  {
   "cell_type": "code",
   "execution_count": null,
   "id": "e0039410-afaa-437f-8bd5-6c29118c73ef",
   "metadata": {},
   "outputs": [],
   "source": [
    "print(eps_total)"
   ]
  },
  {
   "cell_type": "code",
   "execution_count": null,
   "id": "d457adf9-0512-45c3-8867-1515f5688593",
   "metadata": {},
   "outputs": [],
   "source": [
    "print(pres_total)"
   ]
  },
  {
   "cell_type": "code",
   "execution_count": null,
   "id": "22820ea1-5259-4fbe-aa21-7c7c3ce2190f",
   "metadata": {},
   "outputs": [],
   "source": [
    "plt.plot(eps_total, pres_total)\n",
    "plt.show()"
   ]
  },
  {
   "cell_type": "code",
   "execution_count": null,
   "id": "f413f485-2256-41b2-8b66-67494c28bb78",
   "metadata": {},
   "outputs": [],
   "source": [
    "# Plotting\n",
    "plt.plot( eps_total/(1.7827e12), pres_total/(1.6022e33))\n",
    "plt.xlabel('Density (MeV/fm³)')\n",
    "plt.ylabel('Pressure (MeV/fm³)')\n",
    "plt.title('Pressure vs Density')\n",
    "plt.xscale(\"log\")\n",
    "plt.yscale(\"log\")\n",
    "plt.xlim([10**2,10**4])\n",
    "plt.ylim([10**0,10**4])\n",
    "plt.grid(True)\n",
    "#plt.legend()\n",
    "plt.show()"
   ]
  },
  {
   "cell_type": "code",
   "execution_count": null,
   "id": "74928eb1-6a48-49e8-8a2f-5a51ad616b27",
   "metadata": {},
   "outputs": [],
   "source": []
  }
 ],
 "metadata": {
  "kernelspec": {
   "display_name": "Python 3 (ipykernel)",
   "language": "python",
   "name": "python3"
  },
  "language_info": {
   "codemirror_mode": {
    "name": "ipython",
    "version": 3
   },
   "file_extension": ".py",
   "mimetype": "text/x-python",
   "name": "python",
   "nbconvert_exporter": "python",
   "pygments_lexer": "ipython3",
   "version": "3.12.4"
  }
 },
 "nbformat": 4,
 "nbformat_minor": 5
}

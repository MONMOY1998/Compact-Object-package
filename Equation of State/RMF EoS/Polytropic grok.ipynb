{
 "cells": [
  {
   "cell_type": "code",
   "execution_count": 2,
   "id": "fec54620-0e8d-475c-947e-be1b9cca37e1",
   "metadata": {},
   "outputs": [],
   "source": [
    "import EOSgenerators.crust_EOS as crust\n",
    "import EOSgenerators.RMF_EOS as RMF\n",
    "import EOSgenerators.Polytrope_EOS as Polytrope\n",
    "import EOSgenerators.Strangeon_EOS as Strangeon\n",
    "from scipy.interpolate import interp1d\n",
    "import TOVsolver.main as main\n",
    "import matplotlib.pyplot as plt\n",
    "import numpy as np\n",
    "import math\n",
    "from TOVsolver.unit import g_cm_3,dyn_cm_2,km,Msun,MeV,fm"
   ]
  },
  {
   "cell_type": "code",
   "execution_count": 4,
   "id": "0d8bd509-c5e7-4080-aadc-94a6dfa6d727",
   "metadata": {},
   "outputs": [],
   "source": [
    "data_BPS = np.loadtxt(\"data_k\")"
   ]
  },
  {
   "cell_type": "code",
   "execution_count": 6,
   "id": "196efa70-d4b9-474b-9125-cdfa2035ee9e",
   "metadata": {},
   "outputs": [],
   "source": [
    "Pressure_BPS = data_BPS[:,0]\n",
    "Density_BPS = data_BPS[:,1]"
   ]
  },
  {
   "cell_type": "code",
   "execution_count": 8,
   "id": "13900ff8-6bb8-4b15-b554-7e8527fe3278",
   "metadata": {},
   "outputs": [
    {
     "name": "stdout",
     "output_type": "stream",
     "text": [
      "[[9.539300e+18 1.031700e+04]\n",
      " [5.337900e+20 1.047100e+05]\n",
      " [2.324100e+22 1.045700e+06]\n",
      " ...\n",
      " [6.117452e+32 1.325753e+14]\n",
      " [6.166111e+32 1.333660e+14]\n",
      " [6.215158e+32 1.341614e+14]]\n"
     ]
    }
   ],
   "source": [
    "print(data_BPS)"
   ]
  },
  {
   "cell_type": "code",
   "execution_count": 10,
   "id": "9dfb31bc-2a4c-48c6-89af-250859d5ff55",
   "metadata": {},
   "outputs": [],
   "source": [
    "# Constants\n",
    "n0 = 2.68e14  # g/cm^3\n",
    "rho_min = 0.5 * n0  # 1.34e14 g/cm^3\n",
    "rho_max = 1.1 * n0  # 2.948e14 g/cm^3\n",
    "c_squared = 9e20  # cm^2/s^2 (c^2 in cgs units)"
   ]
  },
  {
   "cell_type": "code",
   "execution_count": 12,
   "id": "97198e6e-a716-434b-9e5b-3abb04d40e65",
   "metadata": {},
   "outputs": [
    {
     "name": "stdout",
     "output_type": "stream",
     "text": [
      "Maximum rho in data: 1.34e+14 g/cm^3 (vs 0.5 n0 = 1.34e+14 g/cm^3)\n"
     ]
    }
   ],
   "source": [
    "# Check maximum density in data\n",
    "max_rho_data = np.max(Density_BPS)\n",
    "print(f\"Maximum rho in data: {max_rho_data:.2e} g/cm^3 (vs 0.5 n0 = {rho_min:.2e} g/cm^3)\")"
   ]
  },
  {
   "cell_type": "code",
   "execution_count": 14,
   "id": "548a4191-93ea-485a-9157-ce69a0b0ac2e",
   "metadata": {},
   "outputs": [],
   "source": [
    "# Interpolate BPS data (and extrapolate since data < 0.5 n0)\n",
    "interp_BPS = interp1d(Density_BPS, Pressure_BPS, kind='linear', fill_value=\"extrapolate\")"
   ]
  },
  {
   "cell_type": "code",
   "execution_count": 16,
   "id": "3ead8988-7154-4488-8cc2-f168fee7c701",
   "metadata": {},
   "outputs": [],
   "source": [
    "# Get pressure at rho_min from BPS (extrapolated)\n",
    "p_at_rho_min = interp_BPS(rho_min)"
   ]
  },
  {
   "cell_type": "code",
   "execution_count": 18,
   "id": "dfa03f3a-8746-45e9-9980-fd33ac95cdbf",
   "metadata": {},
   "outputs": [],
   "source": [
    "# Choose polytropic index Gamma (midpoint of [1.77, 3.23] for demonstration)\n",
    "Gamma = np.random.uniform(1.77,3.23)"
   ]
  },
  {
   "cell_type": "code",
   "execution_count": 20,
   "id": "32fd3af8-23ca-43e3-84fe-fb0b55a0af5c",
   "metadata": {},
   "outputs": [
    {
     "name": "stdout",
     "output_type": "stream",
     "text": [
      "3.156035033672559\n"
     ]
    }
   ],
   "source": [
    "print(Gamma)"
   ]
  },
  {
   "cell_type": "code",
   "execution_count": 22,
   "id": "ad70ce95-b1d7-40d3-a2dd-6e650941a630",
   "metadata": {},
   "outputs": [],
   "source": [
    "# Calculate K by matching at rho_min: p = K * rho^Gamma\n",
    "K = p_at_rho_min / (rho_min ** Gamma)"
   ]
  },
  {
   "cell_type": "code",
   "execution_count": 24,
   "id": "6b683800-4ed3-4ea9-b770-fb8e83cc8be1",
   "metadata": {},
   "outputs": [],
   "source": [
    "# Define the EOS function\n",
    "def EOS(rho):\n",
    "    \"\"\"\n",
    "    Equation of State: returns pressure p (dyn/cm^2) for a given mass density rho (g/cm^3).\n",
    "    \"\"\"\n",
    "    if rho < rho_min:\n",
    "        return interp_BPS(rho)\n",
    "    elif rho_min <= rho <= rho_max:\n",
    "        return K * (rho ** Gamma)\n",
    "    else:\n",
    "        return np.nan  # Beyond 1.1 n0 is not specified"
   ]
  },
  {
   "cell_type": "code",
   "execution_count": 26,
   "id": "7c1eeed7-c0e4-4aa2-ba77-665c6d704b60",
   "metadata": {},
   "outputs": [],
   "source": [
    "# Generate EOS in the requested range\n",
    "rho_range = np.linspace(rho_min, rho_max, 100)\n",
    "p_range =np.array( [EOS(rho) for rho in rho_range])"
   ]
  },
  {
   "cell_type": "code",
   "execution_count": 28,
   "id": "043f0b57-c318-44e5-9df5-70f96f512327",
   "metadata": {},
   "outputs": [
    {
     "name": "stdout",
     "output_type": "stream",
     "text": [
      "[1.34000000e+14 1.35624242e+14 1.37248485e+14 1.38872727e+14\n",
      " 1.40496970e+14 1.42121212e+14 1.43745455e+14 1.45369697e+14\n",
      " 1.46993939e+14 1.48618182e+14 1.50242424e+14 1.51866667e+14\n",
      " 1.53490909e+14 1.55115152e+14 1.56739394e+14 1.58363636e+14\n",
      " 1.59987879e+14 1.61612121e+14 1.63236364e+14 1.64860606e+14\n",
      " 1.66484848e+14 1.68109091e+14 1.69733333e+14 1.71357576e+14\n",
      " 1.72981818e+14 1.74606061e+14 1.76230303e+14 1.77854545e+14\n",
      " 1.79478788e+14 1.81103030e+14 1.82727273e+14 1.84351515e+14\n",
      " 1.85975758e+14 1.87600000e+14 1.89224242e+14 1.90848485e+14\n",
      " 1.92472727e+14 1.94096970e+14 1.95721212e+14 1.97345455e+14\n",
      " 1.98969697e+14 2.00593939e+14 2.02218182e+14 2.03842424e+14\n",
      " 2.05466667e+14 2.07090909e+14 2.08715152e+14 2.10339394e+14\n",
      " 2.11963636e+14 2.13587879e+14 2.15212121e+14 2.16836364e+14\n",
      " 2.18460606e+14 2.20084848e+14 2.21709091e+14 2.23333333e+14\n",
      " 2.24957576e+14 2.26581818e+14 2.28206061e+14 2.29830303e+14\n",
      " 2.31454545e+14 2.33078788e+14 2.34703030e+14 2.36327273e+14\n",
      " 2.37951515e+14 2.39575758e+14 2.41200000e+14 2.42824242e+14\n",
      " 2.44448485e+14 2.46072727e+14 2.47696970e+14 2.49321212e+14\n",
      " 2.50945455e+14 2.52569697e+14 2.54193939e+14 2.55818182e+14\n",
      " 2.57442424e+14 2.59066667e+14 2.60690909e+14 2.62315152e+14\n",
      " 2.63939394e+14 2.65563636e+14 2.67187879e+14 2.68812121e+14\n",
      " 2.70436364e+14 2.72060606e+14 2.73684848e+14 2.75309091e+14\n",
      " 2.76933333e+14 2.78557576e+14 2.80181818e+14 2.81806061e+14\n",
      " 2.83430303e+14 2.85054545e+14 2.86678788e+14 2.88303030e+14\n",
      " 2.89927273e+14 2.91551515e+14 2.93175758e+14 2.94800000e+14]\n"
     ]
    }
   ],
   "source": [
    "print(rho_range)"
   ]
  },
  {
   "cell_type": "code",
   "execution_count": 30,
   "id": "da8da84a-349b-4dcd-b223-eb751b30bad0",
   "metadata": {},
   "outputs": [
    {
     "name": "stdout",
     "output_type": "stream",
     "text": [
      "[6.20520554e+32 6.44570180e+32 6.69248872e+32 6.94565347e+32\n",
      " 7.20528337e+32 7.47146593e+32 7.74428880e+32 8.02383979e+32\n",
      " 8.31020685e+32 8.60347811e+32 8.90374184e+32 9.21108645e+32\n",
      " 9.52560051e+32 9.84737274e+32 1.01764920e+33 1.05130473e+33\n",
      " 1.08571278e+33 1.12088228e+33 1.15682217e+33 1.19354141e+33\n",
      " 1.23104898e+33 1.26935385e+33 1.30846503e+33 1.34839152e+33\n",
      " 1.38914237e+33 1.43072660e+33 1.47315326e+33 1.51643143e+33\n",
      " 1.56057019e+33 1.60557861e+33 1.65146582e+33 1.69824093e+33\n",
      " 1.74591306e+33 1.79449136e+33 1.84398499e+33 1.89440311e+33\n",
      " 1.94575490e+33 1.99804956e+33 2.05129629e+33 2.10550430e+33\n",
      " 2.16068283e+33 2.21684111e+33 2.27398840e+33 2.33213395e+33\n",
      " 2.39128705e+33 2.45145698e+33 2.51265304e+33 2.57488454e+33\n",
      " 2.63816079e+33 2.70249114e+33 2.76788493e+33 2.83435150e+33\n",
      " 2.90190022e+33 2.97054048e+33 3.04028165e+33 3.11113314e+33\n",
      " 3.18310436e+33 3.25620472e+33 3.33044365e+33 3.40583060e+33\n",
      " 3.48237501e+33 3.56008635e+33 3.63897409e+33 3.71904771e+33\n",
      " 3.80031670e+33 3.88279057e+33 3.96647883e+33 4.05139100e+33\n",
      " 4.13753662e+33 4.22492522e+33 4.31356637e+33 4.40346961e+33\n",
      " 4.49464453e+33 4.58710071e+33 4.68084774e+33 4.77589522e+33\n",
      " 4.87225276e+33 4.96992998e+33 5.06893651e+33 5.16928199e+33\n",
      " 5.27097607e+33 5.37402841e+33 5.47844868e+33 5.58424655e+33\n",
      " 5.69143170e+33 5.80001384e+33 5.91000266e+33 6.02140788e+33\n",
      " 6.13423923e+33 6.24850642e+33 6.36421921e+33 6.48138734e+33\n",
      " 6.60002057e+33 6.72012866e+33 6.84172140e+33 6.96480855e+33\n",
      " 7.08939993e+33 7.21550532e+33 7.34313454e+33 7.47229740e+33]\n"
     ]
    }
   ],
   "source": [
    "print(p_range)"
   ]
  },
  {
   "cell_type": "code",
   "execution_count": 36,
   "id": "9e458205-1ebe-4b32-a90e-349eb5f7b3df",
   "metadata": {},
   "outputs": [],
   "source": [
    "data_polytropic_grok = np.column_stack((p_range,rho_range))\n",
    "np.savetxt(\"data_poytropic_grok\", data_polytropic_grok,  fmt=\"%.6e\")"
   ]
  },
  {
   "cell_type": "code",
   "execution_count": null,
   "id": "e71cfc9b-164b-4620-adb9-ad79672fd963",
   "metadata": {},
   "outputs": [],
   "source": [
    "# Example output\n",
    "print(f\"Gamma = {Gamma}\")\n",
    "print(f\"K = {K:.2e} (in cgs units)\")\n",
    "print(f\"Pressure at rho = 0.7 n0 ({0.7 * n0:.2e} g/cm^3): {EOS(0.7 * n0):.2e} dyn/cm^2\")"
   ]
  },
  {
   "cell_type": "code",
   "execution_count": 34,
   "id": "032890d4-4fe3-4b9f-a10f-5318e152e9f1",
   "metadata": {},
   "outputs": [],
   "source": [
    "data_speed_of_sound = np.loadtxt(\"data_speed_of_sound\")\n",
    "pressure_speed_of_sound = data_speed_of_sound[:,0]\n",
    "density_speed_of_sound = data_speed_of_sound[:,1]"
   ]
  },
  {
   "cell_type": "code",
   "execution_count": 32,
   "id": "35e904b2-47e7-4f90-bdda-137dd03e4afc",
   "metadata": {},
   "outputs": [
    {
     "ename": "NameError",
     "evalue": "name 'density_speed_of_sound' is not defined",
     "output_type": "error",
     "traceback": [
      "\u001b[1;31m---------------------------------------------------------------------------\u001b[0m",
      "\u001b[1;31mNameError\u001b[0m                                 Traceback (most recent call last)",
      "Cell \u001b[1;32mIn[32], line 1\u001b[0m\n\u001b[1;32m----> 1\u001b[0m eps_total \u001b[38;5;241m=\u001b[39m np\u001b[38;5;241m.\u001b[39mhstack((Density_BPS,rho_range,density_speed_of_sound))\n\u001b[0;32m      2\u001b[0m pres_total \u001b[38;5;241m=\u001b[39m np\u001b[38;5;241m.\u001b[39mhstack((Pressure_BPS, p_range,pressure_speed_of_sound))\n",
      "\u001b[1;31mNameError\u001b[0m: name 'density_speed_of_sound' is not defined"
     ]
    }
   ],
   "source": [
    "eps_total = np.hstack((Density_BPS,rho_range,density_speed_of_sound))\n",
    "pres_total = np.hstack((Pressure_BPS, p_range,pressure_speed_of_sound))"
   ]
  },
  {
   "cell_type": "code",
   "execution_count": null,
   "id": "45003398-2291-4dd4-aab9-2982988d76fd",
   "metadata": {},
   "outputs": [],
   "source": [
    "print(eps_total)\n",
    "print(len(eps_total))"
   ]
  },
  {
   "cell_type": "code",
   "execution_count": null,
   "id": "aed44bf9-93ae-4ffb-904a-76435ab16c7e",
   "metadata": {},
   "outputs": [],
   "source": [
    "print(pres_total)"
   ]
  },
  {
   "cell_type": "code",
   "execution_count": null,
   "id": "ca0e4713-0497-4f55-931d-5b0cb51c60a0",
   "metadata": {},
   "outputs": [],
   "source": [
    "import matplotlib.pyplot as plt\n",
    "# Plotting\n",
    "plt.plot( eps_total/(1.7827e12), pres_total/(1.6022e33))\n",
    "plt.xlabel('Density (MeV/fm³)')\n",
    "plt.ylabel('Pressure (MeV/fm³)')\n",
    "plt.title('Pressure vs Density')\n",
    "plt.xscale(\"log\")\n",
    "plt.yscale(\"log\")\n",
    "plt.xlim([10**2,10**4])\n",
    "plt.ylim([10**0,10**4])\n",
    "plt.grid(True)\n",
    "#plt.legend()\n",
    "plt.show()"
   ]
  },
  {
   "cell_type": "code",
   "execution_count": null,
   "id": "0cd0ea07-ca27-4190-82d7-198eb8f24d0e",
   "metadata": {},
   "outputs": [],
   "source": [
    "EOS_FULL_GROK = np.column_stack((pres_total, eps_total))\n",
    "np.savetxt(\"EOS_FULL_GROK\", EOS_FULL_GROK,  fmt=\"%.6e\")"
   ]
  },
  {
   "cell_type": "code",
   "execution_count": null,
   "id": "bf51bccf-a5eb-4d40-a053-8d8437223fb3",
   "metadata": {},
   "outputs": [],
   "source": [
    "Full_EOS = np.loadtxt(\"EOS_FULL_GROK\")\n",
    "P = Full_EOS[:,0]*dyn_cm_2\n",
    "D = Full_EOS[:,1]*g_cm_3"
   ]
  },
  {
   "cell_type": "code",
   "execution_count": null,
   "id": "db4b640b-002b-401b-ac84-1c952754bbb8",
   "metadata": {},
   "outputs": [],
   "source": [
    "MR_EOS = main.OutputMR(\"\",D,P).T\n",
    "MRT_EOS = main.OutputMRT(\"\",D,P).T"
   ]
  },
  {
   "cell_type": "code",
   "execution_count": null,
   "id": "c493e61a-1fa0-4a53-a34f-5418105729b1",
   "metadata": {},
   "outputs": [],
   "source": [
    "plt.plot(MR_EOS[1]/km,MR_EOS[0]/Msun)\n",
    "plt.show()"
   ]
  },
  {
   "cell_type": "code",
   "execution_count": null,
   "id": "e52bc179-9416-429f-9554-a4e92a28d2fa",
   "metadata": {},
   "outputs": [],
   "source": [
    "plt.plot(MRT_EOS[1]/Msun, MRT_EOS[2] ,'g-', lw=2,label =\"MS1\")\n",
    "plt.ylim([0,3000])\n",
    "plt.xlim([0.8,2])\n",
    "plt.show()"
   ]
  },
  {
   "cell_type": "code",
   "execution_count": null,
   "id": "171bb900-7824-4f54-8e43-fab780862065",
   "metadata": {},
   "outputs": [],
   "source": [
    "print(MR_EOS[1]/km)"
   ]
  },
  {
   "cell_type": "code",
   "execution_count": null,
   "id": "0a63b828-12c5-4bf6-8a2f-1874d9345c0a",
   "metadata": {},
   "outputs": [],
   "source": [
    "print(MR_EOS[0]/Msun)"
   ]
  },
  {
   "cell_type": "code",
   "execution_count": null,
   "id": "7a9d1fa6-0f8d-42e0-b91c-636c0294eeaa",
   "metadata": {},
   "outputs": [],
   "source": []
  }
 ],
 "metadata": {
  "kernelspec": {
   "display_name": "Python 3 (ipykernel)",
   "language": "python",
   "name": "python3"
  },
  "language_info": {
   "codemirror_mode": {
    "name": "ipython",
    "version": 3
   },
   "file_extension": ".py",
   "mimetype": "text/x-python",
   "name": "python",
   "nbconvert_exporter": "python",
   "pygments_lexer": "ipython3",
   "version": "3.12.4"
  }
 },
 "nbformat": 4,
 "nbformat_minor": 5
}

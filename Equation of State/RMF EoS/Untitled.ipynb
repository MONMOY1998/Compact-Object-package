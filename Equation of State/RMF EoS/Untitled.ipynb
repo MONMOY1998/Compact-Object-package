{
 "cells": [
  {
   "cell_type": "code",
   "execution_count": null,
   "id": "1e2fc3b3-b810-4dac-9608-94fec4c10bfb",
   "metadata": {},
   "outputs": [],
   "source": [
    "# import numpy as np\n",
    "# from scipy.integrate import cumtrapz\n",
    "\n",
    "# # Load the data (assuming it's in a file named 'data_speed_of_sound.txt')\n",
    "# # For this example, we'll hardcode a few lines, but typically use np.loadtxt\n",
    "# data = np.loadtxt(\"data_speed_of_sound\")\n",
    "# # Extract pressure and speed of sound squared\n",
    "# p = data[:, 0]  # Pressure in dyn/cm²\n",
    "# cs2 = data[:, 2]  # Speed of sound squared (dimensionless)\n",
    "\n",
    "# # Verify that p is sorted in ascending order; sort if necessary\n",
    "# if not np.all(p[:-1] <= p[1:]):\n",
    "#     sorted_indices = np.argsort(p)\n",
    "#     p = p[sorted_indices]\n",
    "#     cs2 = cs2[sorted_indices]\n",
    "\n",
    "# # Compute the integrand: 1 / c_s^2\n",
    "# inv_cs2 = 1 / cs2\n",
    "\n",
    "# # Compute the cumulative integral to get epsilon, starting with epsilon(p_0) = 0\n",
    "# epsilon = cumtrapz(inv_cs2, p, initial=2.6495123e35)\n",
    "# #epsilon = quad(inv_cs2, mu_1, mu)\n",
    "# # Pair the results with pressure for convenience (optional)\n",
    "# results = np.column_stack((p, epsilon))\n",
    "\n",
    "# # Print or save the results (for demonstration, we'll print the first few and last few)\n",
    "# print(\"Pressure (dyn/cm²)    Energy Density (erg/cm³)\")\n",
    "# for i in range(min(3, len(p))):\n",
    "#     print(f\"{p[i]:.6e}           {epsilon[i]:.6e}\")\n",
    "# if len(p) > 6:\n",
    "#     print(\"...\")\n",
    "#     for i in range(-3, 0):\n",
    "#         print(f\"{p[i]:.6e}           {epsilon[i]:.6e}\")\n",
    "\n",
    "# # Optionally, save to a file\n",
    "# # np.savetxt(\"energy_density.txt\", results, fmt=\"%.6e\", header=\"Pressure (dyn/cm²)   Energy Density (erg/cm³)\")"
   ]
  },
  {
   "cell_type": "code",
   "execution_count": null,
   "id": "af7406f3-4e27-4f2d-8f28-4d156a7b6827",
   "metadata": {},
   "outputs": [],
   "source": [
    "print(results[:,1]/(8.98749e20))"
   ]
  },
  {
   "cell_type": "code",
   "execution_count": 2,
   "id": "34c45cd8-6980-481f-aa49-6081c25f73bd",
   "metadata": {},
   "outputs": [
    {
     "name": "stdout",
     "output_type": "stream",
     "text": [
      "Pressure (dyn/cm²)    Energy Density (erg/cm³)    cs² (dimensionless)\n",
      "3.332576e+33           2.649512e+35           1.044316e-01\n",
      "8.484283e+33           3.127360e+35           1.110832e-01\n",
      "1.451932e+34           3.654608e+35           1.177347e-01\n",
      "...\n",
      "6.720997e+36           1.689843e+37           5.351247e-01\n",
      "6.889745e+36           1.721236e+37           5.399658e-01\n",
      "7.060710e+36           1.752756e+37           5.448068e-01\n"
     ]
    }
   ],
   "source": [
    "import numpy as np\n",
    "from scipy.integrate import quad\n",
    "from scipy.interpolate import CubicSpline\n",
    "\n",
    "# Load the data\n",
    "data = np.loadtxt(\"data_speed_of_sound\")\n",
    "\n",
    "# Extract pressure and cs²\n",
    "p = data[:, 0]  # Pressure in dyn/cm²\n",
    "cs2 = data[:, 2]  # Speed of sound squared (dimensionless)\n",
    "\n",
    "# Sort by pressure to ensure monotonicity\n",
    "sorted_indices = np.argsort(p)\n",
    "p = p[sorted_indices]\n",
    "cs2 = cs2[sorted_indices]\n",
    "\n",
    "# Interpolate cs² as a function of p using cubic spline\n",
    "cs2_interp = CubicSpline(p, cs2)\n",
    "\n",
    "# Define the integrand function: 1/cs²(p)\n",
    "def integrand(p_val):\n",
    "    return 1 / cs2_interp(p_val)\n",
    "\n",
    "# Initialize epsilon with the given initial energy density at p0\n",
    "epsilon_0 = 2.649512e35  # Initial energy density in erg/cm³\n",
    "epsilon = np.zeros_like(p)\n",
    "epsilon[0] = epsilon_0\n",
    "\n",
    "# Compute cumulative energy density using quad and add initial epsilon\n",
    "for i in range(1, len(p)):\n",
    "    epsilon[i], _ = quad(integrand, p[0], p[i])\n",
    "    epsilon[i] += epsilon_0\n",
    "\n",
    "# Create a 2D array with pressure, energy density, and cs²\n",
    "result_array = np.column_stack((p, epsilon, cs2))\n",
    "\n",
    "# Print first few and last few rows for verification\n",
    "print(\"Pressure (dyn/cm²)    Energy Density (erg/cm³)    cs² (dimensionless)\")\n",
    "for i in range(min(3, len(p))):\n",
    "    print(f\"{result_array[i, 0]:.6e}           {result_array[i, 1]:.6e}           {result_array[i, 2]:.6e}\")\n",
    "if len(p) > 6:\n",
    "    print(\"...\")\n",
    "    for i in range(-3, 0):\n",
    "        print(f\"{result_array[i, 0]:.6e}           {result_array[i, 1]:.6e}           {result_array[i, 2]:.6e}\")\n",
    "\n",
    "# Save the results to a file\n",
    "np.savetxt(\"pressure_density_cs2.txt\", result_array, fmt=\"%.6e\", \n",
    "           header=\"Pressure (dyn/cm²)   Energy Density (erg/cm³)   cs² (dimensionless)\")"
   ]
  },
  {
   "cell_type": "code",
   "execution_count": 4,
   "id": "b1724357-0342-40d3-a6b1-62db2de72e03",
   "metadata": {},
   "outputs": [
    {
     "name": "stdout",
     "output_type": "stream",
     "text": [
      "[[3.33257600e+33 2.64951200e+35 1.04431600e-01]\n",
      " [8.48428300e+33 3.12736013e+35 1.11083200e-01]\n",
      " [1.45193200e+34 3.65460843e+35 1.17734700e-01]\n",
      " [2.15082100e+34 4.23168641e+35 1.24386300e-01]\n",
      " [2.95195500e+34 4.85876458e+35 1.31037800e-01]\n",
      " [3.86198200e+34 5.53584482e+35 1.37689400e-01]\n",
      " [4.88731600e+34 6.26275774e+35 1.44340900e-01]\n",
      " [6.03412300e+34 7.03919056e+35 1.50992500e-01]\n",
      " [7.30831700e+34 7.86470697e+35 1.57644000e-01]\n",
      " [8.71554500e+34 8.73875912e+35 1.64295600e-01]\n",
      " [1.02611900e+35 9.66070625e+35 1.70947200e-01]\n",
      " [1.19503700e+35 1.06298297e+36 1.77598700e-01]\n",
      " [1.37879400e+35 1.16453442e+36 1.84250300e-01]\n",
      " [1.57784800e+35 1.27064016e+36 1.90901800e-01]\n",
      " [1.79263200e+35 1.38121119e+36 1.97553400e-01]\n",
      " [2.02355400e+35 1.49615492e+36 2.04204900e-01]\n",
      " [2.27099500e+35 1.61537464e+36 2.10856500e-01]\n",
      " [2.53531500e+35 1.73877286e+36 2.17508000e-01]\n",
      " [2.81684900e+35 1.86624956e+36 2.24159600e-01]\n",
      " [3.11590800e+35 1.99770292e+36 2.30811200e-01]\n",
      " [3.43278300e+35 2.13303132e+36 2.37462700e-01]\n",
      " [3.76774400e+35 2.27213278e+36 2.44114300e-01]\n",
      " [4.12103800e+35 2.41490431e+36 2.50765800e-01]\n",
      " [4.49289600e+35 2.56124463e+36 2.57417400e-01]\n",
      " [4.88352800e+35 2.71105223e+36 2.64068900e-01]\n",
      " [5.29312800e+35 2.86422715e+36 2.70720500e-01]\n",
      " [5.72186900e+35 3.02066901e+36 2.77372100e-01]\n",
      " [6.16991300e+35 3.18028073e+36 2.84023600e-01]\n",
      " [6.63740300e+35 3.34296533e+36 2.90675200e-01]\n",
      " [7.12446700e+35 3.50862729e+36 2.97326700e-01]\n",
      " [7.63122100e+35 3.67717346e+36 3.03978300e-01]\n",
      " [8.15776500e+35 3.84851151e+36 3.10629800e-01]\n",
      " [8.70418800e+35 4.02255149e+36 3.17281400e-01]\n",
      " [9.27056500e+35 4.19920467e+36 3.23932900e-01]\n",
      " [9.85696300e+35 4.37838531e+36 3.30584500e-01]\n",
      " [1.04634300e+36 4.56000705e+36 3.37236100e-01]\n",
      " [1.10900200e+36 4.74399041e+36 3.43887600e-01]\n",
      " [1.17367600e+36 4.93025268e+36 3.50539200e-01]\n",
      " [1.24036700e+36 5.11871385e+36 3.57190700e-01]\n",
      " [1.30907800e+36 5.30930108e+36 3.63842300e-01]\n",
      " [1.37980800e+36 5.50193461e+36 3.70493800e-01]\n",
      " [1.45255700e+36 5.69654168e+36 3.77145400e-01]\n",
      " [1.52732600e+36 5.89305580e+36 3.83796900e-01]\n",
      " [1.60411100e+36 6.09140127e+36 3.90448500e-01]\n",
      " [1.68291200e+36 6.29151569e+36 3.97100100e-01]\n",
      " [1.76372500e+36 6.49333219e+36 4.03751600e-01]\n",
      " [1.84654700e+36 6.69678069e+36 4.10403200e-01]\n",
      " [1.93137300e+36 6.90193061e+36 4.16185000e-01]\n",
      " [2.01820600e+36 7.10972835e+36 4.19285300e-01]\n",
      " [2.10705500e+36 7.32087020e+36 4.22385600e-01]\n",
      " [2.19793300e+36 7.53523043e+36 4.25485900e-01]\n",
      " [2.29085100e+36 7.75281818e+36 4.28586200e-01]\n",
      " [2.38582000e+36 7.97360391e+36 4.31686600e-01]\n",
      " [2.48285000e+36 8.19756743e+36 4.34786900e-01]\n",
      " [2.58195200e+36 8.42468813e+36 4.37887200e-01]\n",
      " [2.68313500e+36 8.65494210e+36 4.40987500e-01]\n",
      " [2.78640900e+36 8.88830800e+36 4.44087800e-01]\n",
      " [2.89178200e+36 9.12476048e+36 4.47188200e-01]\n",
      " [2.99926500e+36 9.36428135e+36 4.50288500e-01]\n",
      " [3.10886300e+36 9.60683967e+36 4.53388800e-01]\n",
      " [3.22058700e+36 9.85241816e+36 4.56489100e-01]\n",
      " [3.33444300e+36 1.01009891e+37 4.59589400e-01]\n",
      " [3.45043800e+36 1.03525273e+37 4.62689800e-01]\n",
      " [3.56858000e+36 1.06070104e+37 4.65790100e-01]\n",
      " [3.68887500e+36 1.08644123e+37 4.68890400e-01]\n",
      " [3.81132900e+36 1.11247071e+37 4.71990700e-01]\n",
      " [3.93594900e+36 1.13878719e+37 4.75091100e-01]\n",
      " [4.06273900e+36 1.16538775e+37 4.78191400e-01]\n",
      " [4.19170600e+36 1.19227020e+37 4.81291700e-01]\n",
      " [4.32285500e+36 1.21943195e+37 4.84392000e-01]\n",
      " [4.45618900e+36 1.24687005e+37 4.87492300e-01]\n",
      " [4.59171500e+36 1.27458242e+37 4.90592700e-01]\n",
      " [4.72943500e+36 1.30256603e+37 4.93693000e-01]\n",
      " [4.86935400e+36 1.33081847e+37 4.96793300e-01]\n",
      " [5.01147600e+36 1.35933722e+37 4.99893600e-01]\n",
      " [5.15580300e+36 1.38811938e+37 5.02993900e-01]\n",
      " [5.30234000e+36 1.41716269e+37 5.06094300e-01]\n",
      " [5.45109000e+36 1.44646457e+37 5.09194600e-01]\n",
      " [5.60205400e+36 1.47602206e+37 5.12294900e-01]\n",
      " [5.75523500e+36 1.50583267e+37 5.15395200e-01]\n",
      " [5.91063600e+36 1.53589396e+37 5.18495500e-01]\n",
      " [6.06825900e+36 1.56620323e+37 5.21595900e-01]\n",
      " [6.22810400e+36 1.59675788e+37 5.24696200e-01]\n",
      " [6.39017500e+36 1.62755454e+37 5.27796500e-01]\n",
      " [6.55447300e+36 1.65859526e+37 5.30896800e-01]\n",
      " [6.72099700e+36 1.68984265e+37 5.35124700e-01]\n",
      " [6.88974500e+36 1.72123611e+37 5.39965800e-01]\n",
      " [7.06071000e+36 1.75275567e+37 5.44806800e-01]]\n"
     ]
    }
   ],
   "source": [
    "print(result_array)"
   ]
  },
  {
   "cell_type": "code",
   "execution_count": 6,
   "id": "ee28bacf-f826-4eb3-8ef2-6b7cf660311c",
   "metadata": {},
   "outputs": [],
   "source": [
    "data_1 = np.loadtxt(\"Full_EOS_with_cs2.txt\")\n",
    "# Slice rows 2 to 1085 (inclusive) and all three columns\n",
    "sliced_data_1 = data_1[0:1084, :]\n",
    "pres_sliced = sliced_data_1[:,0]\n",
    "eps_sliced = sliced_data_1[:,1]\n",
    "cs2_sliced = sliced_data_1[:,2]\n"
   ]
  },
  {
   "cell_type": "code",
   "execution_count": 8,
   "id": "e61ff5cd-ef1e-4268-8a57-8941e3df996c",
   "metadata": {},
   "outputs": [
    {
     "name": "stdout",
     "output_type": "stream",
     "text": [
      "[[9.539300e+18 1.031700e+04          nan]\n",
      " [5.337900e+20 1.047100e+05          nan]\n",
      " [2.324100e+22 1.045700e+06          nan]\n",
      " ...\n",
      " [3.179950e+33 2.882020e+14          nan]\n",
      " [3.234094e+33 2.904901e+14          nan]\n",
      " [3.289160e+33 2.927963e+14          nan]]\n",
      "[9.539300e+18 5.337900e+20 2.324100e+22 ... 3.179950e+33 3.234094e+33\n",
      " 3.289160e+33]\n",
      "[1.031700e+04 1.047100e+05 1.045700e+06 ... 2.882020e+14 2.904901e+14\n",
      " 2.927963e+14]\n",
      "[nan nan nan ... nan nan nan]\n"
     ]
    }
   ],
   "source": [
    "print(sliced_data_1)\n",
    "print(pres_sliced)\n",
    "print(eps_sliced)\n",
    "print(cs2_sliced)"
   ]
  },
  {
   "cell_type": "code",
   "execution_count": 10,
   "id": "9534bb5b-981b-435c-9c3b-a0b89ef901a6",
   "metadata": {},
   "outputs": [],
   "source": [
    "pres_total = np.hstack((pres_sliced,p))"
   ]
  },
  {
   "cell_type": "code",
   "execution_count": 12,
   "id": "db8f54b2-9eb7-4bf3-a6b4-c0b75d4b4f62",
   "metadata": {},
   "outputs": [
    {
     "name": "stdout",
     "output_type": "stream",
     "text": [
      "[9.539300e+18 5.337900e+20 2.324100e+22 ... 6.720997e+36 6.889745e+36\n",
      " 7.060710e+36]\n"
     ]
    }
   ],
   "source": [
    "print(pres_total)"
   ]
  },
  {
   "cell_type": "code",
   "execution_count": 14,
   "id": "100d762f-ca90-4698-8ba2-8c249b272fc9",
   "metadata": {},
   "outputs": [],
   "source": [
    "eps_total = np.hstack((eps_sliced,result_array[:,1]/(8.98749e20)))"
   ]
  },
  {
   "cell_type": "code",
   "execution_count": 16,
   "id": "ebf9493d-1fcc-41d1-a204-85edb5ff4e7e",
   "metadata": {},
   "outputs": [
    {
     "name": "stdout",
     "output_type": "stream",
     "text": [
      "[1.03170000e+04 1.04710000e+05 1.04570000e+06 ... 1.88021645e+16\n",
      " 1.91514662e+16 1.95021710e+16]\n"
     ]
    }
   ],
   "source": [
    "print(eps_total)"
   ]
  },
  {
   "cell_type": "code",
   "execution_count": 18,
   "id": "56cda44d-0658-435d-a327-5d8e28a9169a",
   "metadata": {},
   "outputs": [],
   "source": [
    "cs2_total = np.hstack((cs2_sliced,cs2))"
   ]
  },
  {
   "cell_type": "code",
   "execution_count": 20,
   "id": "381b61ce-d2be-4830-98ea-35bb3a099ad3",
   "metadata": {},
   "outputs": [
    {
     "name": "stdout",
     "output_type": "stream",
     "text": [
      "[      nan       nan       nan ... 0.5351247 0.5399658 0.5448068]\n"
     ]
    }
   ],
   "source": [
    "print(cs2_total)"
   ]
  },
  {
   "cell_type": "code",
   "execution_count": 22,
   "id": "125c26ff-5d22-42e9-927d-63627485f1cf",
   "metadata": {},
   "outputs": [],
   "source": [
    "NEW_EOS = np.column_stack(( pres_total,eps_total,cs2_total  ))\n",
    "np.savetxt(\"NEW EOS.txt\", NEW_EOS,  fmt=\"%.6e\")"
   ]
  },
  {
   "cell_type": "code",
   "execution_count": 24,
   "id": "ecd33dbb-7c8d-4ad8-ba11-24ada865fa7a",
   "metadata": {},
   "outputs": [
    {
     "name": "stderr",
     "output_type": "stream",
     "text": [
      "No artists with labels found to put in legend.  Note that artists whose label start with an underscore are ignored when legend() is called with no argument.\n"
     ]
    },
    {
     "data": {
      "image/png": "[encoded data removed]",
      "text/plain": [
       "<Figure size 640x480 with 1 Axes>"
      ]
     },
     "metadata": {},
     "output_type": "display_data"
    }
   ],
   "source": [
    "import matplotlib.pyplot as plt\n",
    "# Plotting\n",
    "plt.plot( eps_total/(1.7827e12),pres_total/1.6022e33)\n",
    "plt.xlabel('Density (MeV/fm³)')\n",
    "plt.ylabel('Pressure (MeV/fm³)')\n",
    "plt.title('Pressure vs Density from 1.1 n₀ to 40 n₀')\n",
    "plt.xscale(\"log\")\n",
    "plt.yscale(\"log\")\n",
    "plt.xlim([10**2,10**5])\n",
    "plt.ylim([10**0,10**4])\n",
    "plt.grid(True)\n",
    "plt.legend()\n",
    "plt.show()"
   ]
  },
  {
   "cell_type": "code",
   "execution_count": 26,
   "id": "ad145bca-bad5-4ca0-a8f9-7f935ba15c84",
   "metadata": {},
   "outputs": [],
   "source": [
    "import EOSgenerators.crust_EOS as crust\n",
    "import EOSgenerators.RMF_EOS as RMF\n",
    "import EOSgenerators.Polytrope_EOS as Polytrope\n",
    "import EOSgenerators.Strangeon_EOS as Strangeon\n",
    "import TOVsolver.main as main\n",
    "import matplotlib.pyplot as plt\n",
    "import numpy as np\n",
    "import math\n",
    "from TOVsolver.unit import g_cm_3, dyn_cm_2, km, Msun, MeV, fm"
   ]
  },
  {
   "cell_type": "code",
   "execution_count": 28,
   "id": "771e923a-7d71-4816-bc7b-4438ef2e14a1",
   "metadata": {},
   "outputs": [],
   "source": [
    "EOS = np.loadtxt(\"NEW EOS.txt\")\n",
    "\n",
    "eps_speed_of_sound= EOS[:,1] * g_cm_3\n",
    "pres_speed_of_sound =EOS[:,0] *dyn_cm_2\n",
    "\n",
    "MR_EOS = main.OutputMR(\"\",eps_speed_of_sound,pres_speed_of_sound).T\n",
    "MRT_EOS = main.OutputMRT(\"\",eps_speed_of_sound,pres_speed_of_sound).T"
   ]
  },
  {
   "cell_type": "code",
   "execution_count": 30,
   "id": "6c952445-77a5-44c5-9177-93eb50cc531f",
   "metadata": {},
   "outputs": [
    {
     "data": {
      "image/png": "[encoded data removed]",
      "text/plain": [
       "<Figure size 640x480 with 1 Axes>"
      ]
     },
     "metadata": {},
     "output_type": "display_data"
    }
   ],
   "source": [
    "plt.plot(MR_EOS[1]/km,MR_EOS[0]/Msun)\n",
    "plt.show()"
   ]
  },
  {
   "cell_type": "code",
   "execution_count": 32,
   "id": "fc94d111-dff7-45d2-85b9-1929f8b41620",
   "metadata": {},
   "outputs": [
    {
     "name": "stdout",
     "output_type": "stream",
     "text": [
      "[40.61127543 35.35694615 31.11147381 27.61982322 24.63465334 23.06627194\n",
      " 21.06310083 18.72223339 15.52727614 13.45803712 12.6297266  12.36344422\n",
      " 12.29178891 12.18146682 12.18914604 12.14646514 12.13094584 12.15566037\n",
      " 12.13225843 12.10668437 12.08164011 12.0543924  12.04267835 11.99713035\n",
      " 11.94381847 11.88523423 11.8220278  11.75445652 11.68242536 11.60637424\n",
      " 11.52609802 11.44131161 11.35267952 11.26040437 11.17848195 11.07932873\n",
      " 10.9774252  10.87311767 10.76652257 10.65784059 10.5472989  10.43511388\n",
      " 10.32148677 10.20659249 10.09061779  9.97371406  9.85601732  9.73767545\n",
      "  9.61887418  9.49981829]\n"
     ]
    }
   ],
   "source": [
    "print(MR_EOS[1]/km)"
   ]
  },
  {
   "cell_type": "code",
   "execution_count": 34,
   "id": "afe3e34b-54f9-4fa6-8297-ddf76980643b",
   "metadata": {},
   "outputs": [
    {
     "name": "stdout",
     "output_type": "stream",
     "text": [
      "[0.12088303 0.12347779 0.12709167 0.13166017 0.13711829 0.14346275\n",
      " 0.15065026 0.16302216 0.19700024 0.26026005 0.33644632 0.40329505\n",
      " 0.46361158 0.52394053 0.58482562 0.64406913 0.70032068 0.75370125\n",
      " 0.80458683 0.85288045 0.898482   0.94135696 0.98160277 1.01926873\n",
      " 1.05437671 1.08701115 1.11723944 1.14514519 1.17079649 1.19427019\n",
      " 1.21565068 1.23500757 1.25243789 1.26801069 1.28180389 1.29389199\n",
      " 1.30434805 1.31324361 1.32065601 1.32664935 1.33128819 1.33463731\n",
      " 1.33676021 1.33771701 1.33756781 1.33636904 1.33417475 1.33103941\n",
      " 1.32701297 1.32214578]\n"
     ]
    }
   ],
   "source": [
    "print(MR_EOS[0]/Msun)"
   ]
  },
  {
   "cell_type": "code",
   "execution_count": null,
   "id": "16c66867-4552-47a4-b1ab-ac29aa3236a3",
   "metadata": {},
   "outputs": [],
   "source": []
  }
 ],
 "metadata": {
  "kernelspec": {
   "display_name": "Python 3 (ipykernel)",
   "language": "python",
   "name": "python3"
  },
  "language_info": {
   "codemirror_mode": {
    "name": "ipython",
    "version": 3
   },
   "file_extension": ".py",
   "mimetype": "text/x-python",
   "name": "python",
   "nbconvert_exporter": "python",
   "pygments_lexer": "ipython3",
   "version": "3.12.4"
  }
 },
 "nbformat": 4,
 "nbformat_minor": 5
}

{
 "cells": [
  {
   "cell_type": "markdown",
   "metadata": {},
   "source": [
    "## Parameterized equation of State Generators illustration notebook\n",
    "\n",
    "First import all of the package that will be used here."
   ]
  },
  {
   "cell_type": "code",
   "execution_count": 1,
   "metadata": {},
   "outputs": [],
   "source": [
    "import numpy as np\n",
    "import matplotlib.pyplot as plt\n",
    "from scipy.optimize import fsolve\n",
    "from scipy.constants import pi\n",
    "from scipy.interpolate import interp1d\n",
    "import TOVsolver.main as main\n",
    "import TOVsolver.constant as constant\n",
    "import EOSgenerators.crust_EOS as crust\n",
    "from TOVsolver.unit import g_cm_3, dyn_cm_2, km, Msun, MeV, fm"
   ]
  },
  {
   "cell_type": "markdown",
   "metadata": {},
   "source": [
    "### Load crust EOS and prepare interface EOS\n",
    "\n",
    "Define constants, and load the crust EOS into this notebook, since when we solve the equation of state to TOV equation, we need full scope of the equation of state. Here, crust eos file is 'data_EOS_crust.npz', the unit is MeV/fm^3."
   ]
  },
  {
   "cell_type": "code",
   "execution_count": 4,
   "metadata": {},
   "outputs": [],
   "source": [
    "# Convert units MeV/fm^3  -->  g/cm^3 and dyn/cm^2\n",
    "c = constant.c\n",
    "G = constant.G\n",
    "MeVfm3_to_gcm3   = 1.7827e12\n",
    "MeVfm3_to_dyncm2 = 1.6022e33\n",
    "\n",
    "data = np.load('data_EOS_crust.npz')\n",
    "P_crust = data['P_crust']\n",
    "epsilon_crust = data['epsilon_crust']\n",
    "data.close()\n",
    "\n",
    "# eps_com, pres_com = crust.PolyInterpolate(epsilon_crust, P_crust)"
   ]
  },
  {
   "cell_type": "markdown",
   "metadata": {},
   "source": [
    "### Defining the paramters\n",
    "\n",
    "Defining the free prameters that we need to compute the equation of state.\n",
    "\n",
    "After defining the parameters of the state equation, we may need to define four more functions, to compute full core equation of state."
   ]
  },
  {
   "cell_type": "code",
   "execution_count": 7,
   "metadata": {},
   "outputs": [],
   "source": [
    "n_0 = 0.155     # saturation density\n",
    "m_N = 939       # nuclear mass\n",
    "m_e = 0.51      # electronic mass\n",
    "m_mu = 105.6    # muon mass\n",
    "hc = 197.3      # hbar*c\n",
    "\n",
    "E_sat = -15.9   # the specific energy in symmetric nuclear matter(SNM)\n",
    "K_sat = 240     # the incompressibility of SNM\n",
    "Q_sat = -100    # the skewness of SNM\n",
    "E_sym = 31.7    # symmetry energy\n",
    "L_sym = 30      # the slope of the symmetry energy\n",
    "K_sym = -100    # the curvature of the symmetry energy\n",
    "Q_sym = 200     # the skewness of the symmetry energy"
   ]
  },
  {
   "cell_type": "markdown",
   "metadata": {},
   "source": [
    "### Defining function\n",
    "\n",
    "Solving the x-delta relationship."
   ]
  },
  {
   "cell_type": "code",
   "execution_count": 10,
   "metadata": {},
   "outputs": [],
   "source": [
    "def func_x_delta(E_sym, L_sym, K_sym, Q_sym):\n",
    "\n",
    "    # Solving the electric neutral equation\n",
    "    # n_p = n_e + n_mu\n",
    "    # \n",
    "    # It is important to note that when the chemical potential difference between neutrons and protons is less than the rest mass energy of muons, \n",
    "    # muons do not appear, i.e., nµ = 0; \n",
    "    # only when the chemical potential difference between neutrons and protons increases to exceed the rest mass of muons \n",
    "    # do we need to consider their contribution.\n",
    "    # \n",
    "    # When writing code, we first solve equation 'n_p = n_e', then make a judgment. \n",
    "    # If muons does not appear, we directly record the result; \n",
    "    # if mu should appear, we then re-solve equation 'n_p = n_e + n_mu' and record the result again.\n",
    "    # \n",
    "    # The chemical potential of electrons and muons is \n",
    "    # mu_e = mu_mu = mu_n - mu_p = 4*delta*e_sym\n",
    "\n",
    "\n",
    "    # Default N is set to 200\n",
    "    N = 200\n",
    "    delta1 = np.zeros(N)\n",
    "    x_list = np.linspace(-1 / 3, 7 / 3, N)\n",
    "    # x = (n-n_0)/(3*n_0)\n",
    "    for i, x1 in enumerate(x_list):\n",
    "\n",
    "        # Symmetrical energy\n",
    "        e_sym_val = E_sym + L_sym * x1 + 0.5 * K_sym * x1 ** 2 + 1 / 6 * Q_sym * x1 ** 3\n",
    "\n",
    "        # electron number density/fm^(-3)\n",
    "        n_e = lambda delta0: (16 * delta0 ** 2 * e_sym_val ** 2 - m_e ** 2) ** (3 / 2) / (3 * pi ** 2 * hc ** 3) if (16 * delta0 ** 2 * e_sym_val ** 2 - m_e ** 2) >= 0 else 0\n",
    "        \n",
    "        # Proton number density/fm^(-3)\n",
    "        n_p = lambda delta0: (1 - delta0) / 2 * (3 * x1 + 1) * n_0\n",
    "\n",
    "        # Define equation\n",
    "        def equation(delta0):\n",
    "            return n_e(delta0) - n_p(delta0)\n",
    "\n",
    "        # Solving equation\n",
    "        solution = fsolve(equation, 0.5, maxfev=1000)\n",
    "        if np.isfinite(solution[0]):\n",
    "            delta0_value = solution[0]\n",
    "        else:\n",
    "            delta0_value = 0  # If the solution fails, set a default value\n",
    "\n",
    "        delta1[i] = delta0_value\n",
    "\n",
    "        # Calculate the electron number density again\n",
    "\n",
    "        n_e_val = n_e(delta0_value)\n",
    "\n",
    "        # Electronic Fermi wave vector/fm^(-1)\n",
    "        k_F = (3 * pi ** 2 * n_e_val) ** (1 / 3)\n",
    "\n",
    "        # Electronic chemical potential/MeV\n",
    "        mu_e = np.sqrt((k_F * hc) ** 2 + m_e ** 2)\n",
    "\n",
    "        # Determine whether the muon is generated\n",
    "\n",
    "        # No muon generated\n",
    "        if mu_e < m_mu:\n",
    "            pass\n",
    "        \n",
    "        # the muon is generated\n",
    "        else:\n",
    "            # muon number density\n",
    "            n_mu = lambda delta0: (16 * delta0 ** 2 * e_sym_val ** 2 - m_mu ** 2) ** (3 / 2) / (3 * pi ** 2 * (hc) ** 3) if (16 * delta0 ** 2 * e_sym_val ** 2 - m_mu ** 2) >= 0 else 0\n",
    "\n",
    "            def equation_with_mu(delta0):\n",
    "                return n_p(delta0) - n_e(delta0) - n_mu(delta0)\n",
    "\n",
    "            # Solve a new equation\n",
    "            solution = fsolve(equation_with_mu, 0.5, maxfev=1000)\n",
    "            if np.isfinite(solution[0]):\n",
    "                delta0_value = solution[0]\n",
    "            else:\n",
    "                delta0_value = 0  # If the solution fails, set a default value\n",
    "\n",
    "            delta1[i] = delta0_value\n",
    "\n",
    "            # Recalculate the electronic chemical potential\n",
    "            n_e_val = n_e(delta0_value)\n",
    "            k_F = (3 * pi ** 2 * n_e_val) ** (1 / 3)\n",
    "            mu_e = np.sqrt((k_F * hc) ** 2 + m_e ** 2)\n",
    "\n",
    "    # Transpose x_list\n",
    "    x1 = x_list.T\n",
    "\n",
    "    # Traverse x_list\n",
    "    for j in range(len(x_list)):\n",
    "        if x1[j] > 0:\n",
    "            if delta1[j] > 0.9999:\n",
    "                break\n",
    "    delta1[j + 1:] = 1\n",
    "\n",
    "    # Transpose delta1 and take the real part (if delta1 is complex)\n",
    "    delta1 = np.real(delta1.T)\n",
    "\n",
    "    return x1, delta1"
   ]
  },
  {
   "cell_type": "markdown",
   "metadata": {},
   "source": [
    "### Defining function\n",
    "\n",
    "Obtain the core EOS."
   ]
  },
  {
   "cell_type": "code",
   "execution_count": 13,
   "metadata": {},
   "outputs": [],
   "source": [
    "def func_EOS_core(E_sat,K_sat,Q_sat,E_sym,L_sym,K_sym,Q_sym,x1,delta1):\n",
    "\n",
    "    # Obtain the core state equation\n",
    "    # \n",
    "    # energy density\n",
    "    # epsilon_b = n_0(3x + 1)(m_N + E/A)\n",
    "    # epsilon_l = m_e^4/(8*np.pi^2*hc^3) * ( t_l*np.sqrt(1 + t_l^2)*(1 + 2 * t_l^2) - np.log(t_l + np.sqrt(1 + t_l^2)) )\n",
    "    # where t_l = k_F_l / m_l * hc, l = e, mu\n",
    "    # \n",
    "    # pressure\n",
    "    # P_b = n_b^2 * d(epsilon_b/n_b)/dn_b = n_b * d(epsilon_b)/dn_b - epsilon_b\n",
    "    # P_l = n_l^2 * d(epsilon_l/n_l)/dn_l = n_l * d(epsilon_l)/dn_l - epsilon_l\n",
    "\n",
    "    # energy density\n",
    "    # Baryon energy density\n",
    "    e_sat = E_sat + 1/2 * K_sat * x1 ** 2 + 1/6 * Q_sat * x1 ** 3  # Symmetric nuclear matter with energy per nucleus\n",
    "    e_sym = E_sym + L_sym * x1 + 1/2 * K_sym * x1 ** 2 + 1/6 * Q_sym * x1 ** 3  # Symmetrical energy coefficient\n",
    "    varepsilon = e_sat + e_sym * delta1 ** 2  # Energy per particle\n",
    "    epsilon_b = n_0 * (3 * x1 + 1) * (m_N + varepsilon)  # Baryon energy density\n",
    "\n",
    "    # Electronic energy density\n",
    "    term1 = np.maximum( 1e-10, (16 * delta1 ** 2 * e_sym ** 2 - m_e ** 2) )\n",
    "    n_e = term1 ** (3 / 2) / (3 * np.pi ** 2 * hc ** 3)  # Electronic number density\n",
    "    k_Fe = (3 * np.pi ** 2 * n_e) ** (1 / 3)  # Electronic Fermi wave vector\n",
    "    t_e = k_Fe / m_e * hc\n",
    "    epsilon_e = m_e ** 4 / (8 * np.pi ** 2 * hc ** 3) * (t_e * np.sqrt(1 + t_e ** 2) * (1 + 2 * t_e ** 2) - np.log(t_e + np.sqrt(1 + t_e ** 2)))  # Electronic energy density\n",
    "\n",
    "    # Calculate the electronic chemical potential for later judgment\n",
    "    mu_e = np.sqrt(np.maximum(0, (k_Fe * hc) ** 2 + m_e ** 2))\n",
    "\n",
    "    # muon energy density\n",
    "    term2 = np.maximum( 1e-10, (16 * delta1 ** 2 * e_sym ** 2 - m_mu ** 2) )\n",
    "    n_mu = term2 ** (3 / 2) / (3 * np.pi ** 2 * hc ** 3)  # muon number density\n",
    "    n_mu = n_mu * (mu_e >= m_mu)\n",
    "    k_Fmu = (3 * np.pi ** 2 * n_mu) ** (1 / 3)  # muon Fermi wave vector\n",
    "    t_mu = k_Fmu / m_mu * hc\n",
    "    epsilon_mu = m_mu ** 4 / (8 * np.pi ** 2 * hc ** 3) * (t_mu * np.sqrt(1 + t_mu ** 2) * (1 + 2 * t_mu ** 2) - np.log(t_mu + np.sqrt(1 + t_mu ** 2)))  # muon energy density\n",
    "\n",
    "    # Sum of energy density\n",
    "    epsilon_l = epsilon_e + epsilon_mu  # Lepton energy density\n",
    "    epsilon = epsilon_b + epsilon_l  # Total energy density\n",
    "\n",
    "    # Calculate De_sym, D2e_sym, Ddelta, num, den, Dnum, Dden, D2delta\n",
    "    De_sym = L_sym + K_sym * x1 + 1/2 * Q_sym * x1 ** 2\n",
    "    D2e_sym = K_sym + Q_sym * x1\n",
    "    num = 3 * (1 - delta1) * n_0 * np.pi ** 2 * hc ** 3 - 32 * (np.maximum(0, term1 ** 0.5 + term2 ** 0.5 * (mu_e >= m_mu)) * delta1 ** 2 * e_sym * De_sym)\n",
    "    den = (3 * x1 + 1)     * n_0 * np.pi ** 2 * hc ** 3 + 32 * (np.maximum(0, term1 ** 0.5 + term2 ** 0.5 * (mu_e >= m_mu)) * delta1 * e_sym ** 2)\n",
    "    Ddelta = np.where(den != 0, num / den, 0)\n",
    "\n",
    "#     Dnum = -Ddelta * 3 * n_0 * np.pi ** 2 * hc ** 3 - 32 * (\n",
    "#             np.maximum(0, (8 * (term1 ** (-0.5) + term2 ** (-0.5) * (mu_e >= m_mu))\n",
    "#                            * (2 * delta1 * Ddelta * e_sym ** 2 + 2 * delta1 ** 2 * e_sym * De_sym)) * delta1 ** 2 * e_sym * De_sym)\n",
    "#             + np.maximum(0, (term1 ** 0.5 + term2 ** 0.5 * (mu_e >= m_mu)) * (2 * delta1 * Ddelta * e_sym * De_sym + delta1 ** 2 * De_sym ** 2 + delta1 ** 2 * e_sym * D2e_sym)))\n",
    "#     Dden = 3 * n_0 * np.pi ** 2 * hc ** 3 + 32 * (\n",
    "#             np.maximum(0, (8 * (term1 ** (-0.5) + term2 ** (-0.5) * (mu_e >= m_mu))\n",
    "#                            * (2 * delta1 * Ddelta * e_sym ** 2 + 2 * delta1 ** 2 * e_sym * De_sym)) * delta1 * e_sym ** 2)\n",
    "#             + np.maximum(0, (term1 ** 0.5 + term2 ** 0.5 * (mu_e >= m_mu)) * (Ddelta * e_sym ** 2 + delta1 * 2 * e_sym * De_sym)))\n",
    "#     D2delta = np.where(den != 0, (Dnum * den - num * Dden) / den ** 2, 0)\n",
    "\n",
    "    # pressure\n",
    "    # Baryonic pressure\n",
    "    P_b = n_0 / 3 * (3 * x1 + 1) ** 2 * ((K_sat * x1 + 0.5 * Q_sat * x1 ** 2) + delta1 ** 2 * (L_sym + K_sym * x1 + 0.5 * Q_sym * x1 ** 2) + 2 * e_sym * delta1 * Ddelta)\n",
    "\n",
    "    # Calculate electronic pressure\n",
    "    P_e = n_e * mu_e - epsilon_e\n",
    "\n",
    "    # Calculate the chemical potential of muon\n",
    "    mu_mu = np.sqrt((k_Fmu * hc) ** 2 + m_mu ** 2) * (mu_e >= m_mu)\n",
    "\n",
    "    # Calculate muon pressure\n",
    "    P_mu = n_mu * mu_mu - epsilon_mu\n",
    "\n",
    "    # Sum of pressure\n",
    "    P_l = P_e + P_mu  # Lepton pressure\n",
    "    P = P_b + P_l  # Total pressure\n",
    "\n",
    "    # Extract the real part and process the array\n",
    "    P[0] = 0\n",
    "    P_core = np.real(P)\n",
    "    epsilon_core = np.real(epsilon)\n",
    "\n",
    "    return P_core, epsilon_core"
   ]
  },
  {
   "cell_type": "markdown",
   "metadata": {},
   "source": [
    "### Defining function\n",
    "\n",
    "Solving the phase transition point"
   ]
  },
  {
   "cell_type": "code",
   "execution_count": 16,
   "metadata": {},
   "outputs": [],
   "source": [
    "def func_transition(K_sat, Q_sat, E_sym, L_sym, K_sym, Q_sym, x1, delta1):\n",
    "\n",
    "    # Solving the equation satisfied by the phase transition density\n",
    "    # K_mu = n^2*D2e_sat + 2*n*De_sat + delta2^2*( n^2*D2e_sym + 2*n*De_sym - 2*e_sym^(-1)*(n*De_sym^2 )\n",
    "    # where De_sat = de_sat/dn, D2e_sat = d^2e_sat/dn^2, De_sym = de_sym/dn, D2e_sym = d^2e_sym/dn^2\n",
    "    # After obtaining the phase transition density n_t, \n",
    "    # the corresponding phase transition pressure can be obtained through the pressure calculation formula.\n",
    "\n",
    "    n = np.linspace(0.05, 0.2, 1000)\n",
    "\n",
    "    e_sym   =  E_sym + L_sym * ((n - n_0) / (3 * n_0)) + 1/2 * K_sym * ((n - n_0) / (3 * n_0))**2 + (1/6) * Q_sym * ((n - n_0) / (3 * n_0))**3\n",
    "    De_sat  = (        K_sat * ((n - n_0) / (3 * n_0)) + 1/2 * Q_sat * ((n - n_0) / (3 * n_0))**2) * (3 * n_0)**(-1)\n",
    "    D2e_sat = (        K_sat                           +       Q_sat * ((n - n_0) / (3 * n_0))   ) * (3 * n_0)**(-2)\n",
    "    De_sym  = (L_sym + K_sym * ((n - n_0) / (3 * n_0)) + 1/2 * Q_sym * ((n - n_0) / (3 * n_0))**2) * (3 * n_0)**(-1)\n",
    "    D2e_sym = (        K_sym                           +       Q_sym * ((n - n_0) / (3 * n_0))   ) * (3 * n_0)**(-2)\n",
    "    delta2 = interp1d( n_0 * (3 * x1 + 1), delta1, kind='cubic' )(n)\n",
    "\n",
    "    K_mu = n**2 * D2e_sat + 2 * n * De_sat + delta2**2 * ( n**2 * D2e_sym + 2 * n * De_sym - 2 * e_sym**(-1) * (n * De_sym)**2 )\n",
    "\n",
    "    K_min = np.min(np.abs(K_mu))\n",
    "    index = np.argmin(np.abs(K_mu))\n",
    "\n",
    "    if K_min < 1:\n",
    "        n_t = n[index]\n",
    "    else:\n",
    "        n_t = np.nan\n",
    "\n",
    "    # Phase transition point x_t\n",
    "    x_t = (n_t / n_0 - 1) / 3\n",
    "\n",
    "    # Interpolation delta_t\n",
    "    delta_t = interp1d(x1, delta1, kind='cubic')(x_t)\n",
    "\n",
    "    # energy density \n",
    "    # Baryon energy density\n",
    "    e_sym = E_sym + L_sym * x_t + 1/2 * K_sym * x_t**2 + (1/6) * Q_sym * x_t**3  # Symmetrical energy coefficient\n",
    "    # Electronic energy density\n",
    "    term1 = np.maximum(0, (16 * delta_t ** 2 * e_sym ** 2 - m_e ** 2))\n",
    "    n_e = term1**(3/2) / (3 * np.pi**2 * hc**3)  # Electronic number density\n",
    "    k_Fe = (3 * np.pi**2 * n_e)**(1/3)  # Electronic Fermi wave vector\n",
    "    t_e = k_Fe / m_e * hc\n",
    "    epsilon_e = m_e**4 / (8 * np.pi**2 * hc**3) * (t_e * np.sqrt(1 + t_e**2) * (1 + 2 * t_e**2) - np.log(t_e + np.sqrt(1 + t_e**2)))  # Electronic energy density\n",
    "    # Calculate the electronic chemical potential for later judgment\n",
    "    mu_e = np.sqrt((k_Fe * hc)**2 + m_e**2)  # Electronic chemical potential\n",
    "    # Muon energy density\n",
    "    term2 = np.maximum(0, (16 * delta_t ** 2 * e_sym ** 2 - m_mu ** 2))\n",
    "    n_mu = term2**(3/2) / (3 * np.pi**2 * hc**3)  # muon number density\n",
    "    n_mu = n_mu * (mu_e >= m_mu)\n",
    "    k_Fmu = (3 * np.pi**2 * n_mu)**(1/3)  # Muon fermionic wave vector\n",
    "    t_mu = k_Fmu / m_mu * hc\n",
    "    epsilon_mu = m_mu**4 / (8 * np.pi**2 * hc**3) * (t_mu * np.sqrt(1 + t_mu**2) * (1 + 2 * t_mu**2) - np.log(t_mu + np.sqrt(1 + t_mu**2)))  # Muon energy density\n",
    "\n",
    "    # delta\n",
    "    De_sym = L_sym + K_sym * x_t + 1/2 * Q_sym * x_t**2\n",
    "    Ddelta = (3 * (1 - delta_t) * n_0 * np.pi**2 * hc**3 - 32 * (term1**(1/2) + term2**(1/2) * (mu_e >= m_mu)) * delta_t**2 * e_sym * De_sym) \\\n",
    "             / (  (3 * x_t + 1) * n_0 * np.pi**2 * hc**3 + 32 * (term1**(1/2) + term2**(1/2) * (mu_e >= m_mu)) * delta_t * e_sym**2  )\n",
    "\n",
    "    # pressure\n",
    "    # Baryonic pressure\n",
    "    P_b = n_0 / 3 * (3 * x_t + 1)**2 * ( (K_sat * x_t + 1/2 * Q_sat * x_t**2) + delta_t**2 * (L_sym + K_sym * x_t + 1/2 * Q_sym * x_t**2) + 2 * e_sym * delta_t * Ddelta )\n",
    "    # Electronic pressure\n",
    "    P_e = n_e * mu_e - epsilon_e  # Electronic pressure\n",
    "    # Muon pressure\n",
    "    mu_mu = np.sqrt((k_Fmu * hc)**2 + m_mu**2)  # Muon chemical potential\n",
    "    mu_mu = mu_mu * (mu_e >= m_mu)\n",
    "    P_mu = n_mu * mu_mu - epsilon_mu  # Muon pressure\n",
    "    # Sum of pressure\n",
    "    P_l = P_e + P_mu  # Lepton pressure\n",
    "    P = P_b + P_l  # Total pressure\n",
    "    P_t = P.real\n",
    "\n",
    "    return n_t, P_t"
   ]
  },
  {
   "cell_type": "markdown",
   "metadata": {},
   "source": [
    "### Defining function\n",
    "\n",
    "Splicing the core EOS and crust EOS"
   ]
  },
  {
   "cell_type": "code",
   "execution_count": 19,
   "metadata": {},
   "outputs": [],
   "source": [
    "def func_EOS_crust(P_t, P_core, epsilon_core, P_crust, epsilon_crust):\n",
    "\n",
    "    # Using Crust EOS and Phase transition pressure P_t, concatenate Core EOS to obtain the total EOS\n",
    "\n",
    "    # Splicing condition:\n",
    "    # 1. P_core = P_core(>P_t), \n",
    "    # 2. P_crust(max) < P_core(min), epsilon_crust(max) < epsilon_core(min)\n",
    "    # 3. The slope of the splicing point should be less than 0.1.\n",
    "\n",
    "    # Phase transition pressure\n",
    "    P_core1 = P_core[P_core > max(P_t, 0.5)]\n",
    "    epsilon_core1 = epsilon_core[-len(P_core1):]\n",
    "\n",
    "    # Capture core EOS\n",
    "    i = 0\n",
    "    while i < len(P_crust):\n",
    "        c1 = (P_core1[1] - P_core1[0]) / (epsilon_core1[1] - epsilon_core1[0])\n",
    "        c2 = (P_crust[-i - 1] - P_crust[-i - 2]) / (epsilon_crust[-i - 1] - epsilon_crust[-i - 2])\n",
    "        if P_crust[-i - 1] < P_core1[0] and epsilon_crust[-i - 1] < epsilon_core1[0] and abs(c2 - c1) < 0.1:\n",
    "            break\n",
    "        i += 1\n",
    "\n",
    "    # Splicing EOS\n",
    "    if i == 0:\n",
    "        P = np.concatenate((P_crust, P_core1))\n",
    "        epsilon = np.concatenate((epsilon_crust, epsilon_core1))\n",
    "    else:\n",
    "        P_crust = P_crust[:-i - 1]\n",
    "        epsilon_crust = epsilon_crust[:-i - 1]\n",
    "\n",
    "        linear_interp = interp1d(P_crust, epsilon_crust)\n",
    "        P_crust_new = np.linspace(P_crust[0], P_crust[-1], 50)\n",
    "        epsilon_crust_new = linear_interp(P_crust_new)\n",
    "\n",
    "        linear_interp = interp1d(P_core1, epsilon_core1)\n",
    "        P_core1_new = np.linspace(P_core1[0], P_core1[-1], 200)\n",
    "        epsilon_core1_new = linear_interp(P_core1_new)\n",
    "\n",
    "        P = np.concatenate((P_crust_new, P_core1_new))\n",
    "        epsilon = np.concatenate((epsilon_crust_new, epsilon_core1_new))\n",
    "\n",
    "    # Unit Conversion\n",
    "    pres_total = P       \n",
    "    eps_total = epsilon  \n",
    "\n",
    "    return pres_total, eps_total"
   ]
  },
  {
   "cell_type": "markdown",
   "metadata": {},
   "source": [
    "Reference functions"
   ]
  },
  {
   "cell_type": "code",
   "execution_count": 22,
   "metadata": {},
   "outputs": [],
   "source": [
    "x1, delta1 = func_x_delta(E_sym, L_sym, K_sym, Q_sym)\n",
    "P_core, epsilon_core = func_EOS_core(E_sat, K_sat, Q_sat, E_sym, L_sym, K_sym, Q_sym, x1, delta1)\n",
    "n_t, P_t = func_transition(K_sat, Q_sat, E_sym, L_sym, K_sym, Q_sym, x1, delta1)\n",
    "pres_total, eps_total = func_EOS_crust(P_t, P_core, epsilon_core, P_crust, epsilon_crust)"
   ]
  },
  {
   "cell_type": "code",
   "execution_count": 24,
   "metadata": {},
   "outputs": [
    {
     "data": {
      "image/png": "[encoded data removed]",
      "text/plain": [
       "<Figure size 640x480 with 1 Axes>"
      ]
     },
     "metadata": {},
     "output_type": "display_data"
    }
   ],
   "source": [
    "plt.plot(eps_total,pres_total)\n",
    "\n",
    "plt.yscale('log')\n",
    "plt.xscale('log')"
   ]
  },
  {
   "cell_type": "markdown",
   "metadata": {},
   "source": [
    "Here below is one of the possiblity, use our defined function, 'OutputMR' to compute out what the mass radius curve corresponding to this equation of state."
   ]
  },
  {
   "cell_type": "code",
   "execution_count": 26,
   "metadata": {},
   "outputs": [],
   "source": [
    "MR = main.OutputMR('',eps_total*(MeV*fm**(-3)),pres_total*(MeV*fm**(-3))).T"
   ]
  },
  {
   "cell_type": "markdown",
   "metadata": {},
   "source": [
    "Mass Radius file will be generated and stored as 2-d array. The first column is Radius, second one is mass"
   ]
  },
  {
   "cell_type": "code",
   "execution_count": 29,
   "metadata": {},
   "outputs": [
    {
     "data": {
      "image/png": "[encoded data removed]",
      "text/plain": [
       "<Figure size 900x600 with 1 Axes>"
      ]
     },
     "metadata": {},
     "output_type": "display_data"
    }
   ],
   "source": [
    "fig, ax = plt.subplots(1,1, figsize=(9,6))\n",
    "ax.plot(MR[1]/km,MR[0]/Msun,lw=2)\n",
    "ax.set_ylabel(r'M [$M_{\\odot}$]', fontsize=16)\n",
    "ax.set_xlabel('R [km]', fontsize=16)\n",
    "ax.set_xlim(8., 20.)\n",
    "ax.set_ylim(0,3)\n",
    "ax.tick_params(top=1,right=1, which='both', direction='in', labelsize=14)\n",
    "ax.tick_params(top=1,right=1, which='both', direction='in', labelsize=14)\n",
    "\n",
    "plt.show()"
   ]
  },
  {
   "cell_type": "markdown",
   "metadata": {},
   "source": []
  }
 ],
 "metadata": {
  "kernelspec": {
   "display_name": "Python 3 (ipykernel)",
   "language": "python",
   "name": "python3"
  },
  "language_info": {
   "codemirror_mode": {
    "name": "ipython",
    "version": 3
   },
   "file_extension": ".py",
   "mimetype": "text/x-python",
   "name": "python",
   "nbconvert_exporter": "python",
   "pygments_lexer": "ipython3",
   "version": "3.12.4"
  }
 },
 "nbformat": 4,
 "nbformat_minor": 4
}

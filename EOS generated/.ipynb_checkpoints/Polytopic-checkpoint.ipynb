{
 "cells": [
  {
   "cell_type": "code",
   "execution_count": null,
   "id": "670cfff0-a8c6-4d76-822f-d2a390dd282c",
   "metadata": {},
   "outputs": [],
   "source": [
    "pip install CompactObject-TOV"
   ]
  },
  {
   "cell_type": "markdown",
   "id": "d5ce3033-bf17-4000-aa23-dd30e5d84213",
   "metadata": {},
   "source": [
    "# import all the packages used here"
   ]
  },
  {
   "cell_type": "code",
   "execution_count": 1,
   "id": "dee73c6f-95be-4332-bfe2-98be2d648e20",
   "metadata": {},
   "outputs": [],
   "source": [
    "import EOSgenerators.crust_EOS as crust\n",
    "import EOSgenerators.RMF_EOS as RMF\n",
    "import EOSgenerators.Polytrope_EOS as Polytrope\n",
    "import EOSgenerators.Strangeon_EOS as Strangeon\n",
    "import TOVsolver.main as main\n",
    "import matplotlib.pyplot as plt\n",
    "import numpy as np\n",
    "import math\n",
    "from TOVsolver.unit import g_cm_3,dyn_cm_2,km,Msun,MeV,fm\n",
    "#from TOVsolver.maximum_central_density import maximum_central_density"
   ]
  },
  {
   "cell_type": "code",
   "execution_count": 3,
   "id": "a1760be9-0cdc-4f16-87f1-edf783f6653f",
   "metadata": {},
   "outputs": [],
   "source": [
    "data_k = np.loadtxt(\"data_k\")\n",
    "pressure = data_k[:,0]*dyn_cm_2\n",
    "density = data_k[:,1]*g_cm_3"
   ]
  },
  {
   "cell_type": "code",
   "execution_count": 5,
   "id": "1a18e2e1-830a-447d-9e1c-bdb075bd46ca",
   "metadata": {},
   "outputs": [
    {
     "name": "stdout",
     "output_type": "stream",
     "text": [
      "133366000000000.0\n",
      "[1.78736572 1.90801631 1.91417179]\n"
     ]
    }
   ],
   "source": [
    "print(density[-1]/g_cm_3)\n",
    "gamma=  np.random.uniform(1.77,3.23,3)\n",
    "print(gamma)"
   ]
  },
  {
   "cell_type": "code",
   "execution_count": 7,
   "id": "ab4aece3-424a-4dde-84e2-6b3e435efc5a",
   "metadata": {},
   "outputs": [],
   "source": [
    "import random\n",
    "gamma_values = np.array([2.50706845,3.00638415,3.16398002])\n",
    "# rho_ts = np.array([2.8e14])\n",
    "#rho_ts = np.array([2.6e14])\n",
    "rho_ts = np.array([2.8e14,2e15])\n",
    "theta = np.append(gamma_values, rho_ts)"
   ]
  },
  {
   "cell_type": "code",
   "execution_count": 9,
   "id": "4167da47-dcd0-4858-83ab-f553cbd28e39",
   "metadata": {},
   "outputs": [
    {
     "name": "stdout",
     "output_type": "stream",
     "text": [
      "[2.50706845 3.00638415 3.16398002]\n"
     ]
    }
   ],
   "source": [
    "print(gamma_values)"
   ]
  },
  {
   "cell_type": "code",
   "execution_count": 11,
   "id": "a57e0fc0-43fb-444b-9ab2-4d8bbe242986",
   "metadata": {},
   "outputs": [],
   "source": [
    "eps_set = np.logspace(14.13,14.46,100,base=10)*g_cm_3\n",
    "pres_out = Polytrope.compute_EOS(eps_set, theta, density[-1], pressure[-1])"
   ]
  },
  {
   "cell_type": "code",
   "execution_count": 13,
   "id": "ef5b060d-63d0-4b98-9c52-a18f0133ee5e",
   "metadata": {},
   "outputs": [],
   "source": [
    "eps_total = np.hstack((density,eps_set))\n",
    "pres_total = np.hstack((pressure, pres_out))"
   ]
  },
  {
   "cell_type": "code",
   "execution_count": 15,
   "id": "95d50cdb-eba7-4039-97a0-bc5d41d53042",
   "metadata": {},
   "outputs": [
    {
     "name": "stdout",
     "output_type": "stream",
     "text": [
      "[1.03170000e+04 1.04710000e+05 1.04570000e+06 ... 2.84009805e+14\n",
      " 2.86198048e+14 2.88403150e+14]\n"
     ]
    }
   ],
   "source": [
    "print(eps_total/g_cm_3)\n"
   ]
  },
  {
   "cell_type": "code",
   "execution_count": 17,
   "id": "3a06b05d-58f5-4aec-907d-2fad1a611a74",
   "metadata": {},
   "outputs": [
    {
     "name": "stdout",
     "output_type": "stream",
     "text": [
      "[9.53930000e+18 5.33790000e+20 2.32410000e+22 ... 4.10253549e+33\n",
      " 4.18224279e+33 4.26349871e+33]\n"
     ]
    }
   ],
   "source": [
    "print(pres_total/dyn_cm_2)"
   ]
  },
  {
   "cell_type": "code",
   "execution_count": 19,
   "id": "acb983ca-db04-4775-9968-1faff8c6af1a",
   "metadata": {},
   "outputs": [],
   "source": [
    "data_polytropic = np.column_stack((pres_out/dyn_cm_2, eps_set/g_cm_3))\n",
    "np.savetxt(\"data_polytropic_9\", data_polytropic,  fmt=\"%.6e\")"
   ]
  },
  {
   "cell_type": "code",
   "execution_count": null,
   "id": "ab152ac6-2167-4c02-8d73-25faf60432f2",
   "metadata": {},
   "outputs": [],
   "source": [
    "plt.figure(dpi = 200)\n",
    "plt.plot(eps_total/(g_cm_3),pres_total/(dyn_cm_2))\n",
    "plt.xscale(\"log\")\n",
    "plt.yscale(\"log\")\n",
    "plt.xlabel(r\"$\\epsilon\\quad [g/cm^3]$\")\n",
    "plt.ylabel(r\"$P \\quad [dyn/cm^2]$\")\n",
    "plt.show()"
   ]
  },
  {
   "cell_type": "code",
   "execution_count": null,
   "id": "1fd6f787-d5cd-4583-92ff-57cf9af86f53",
   "metadata": {},
   "outputs": [],
   "source": []
  }
 ],
 "metadata": {
  "kernelspec": {
   "display_name": "Python 3 (ipykernel)",
   "language": "python",
   "name": "python3"
  },
  "language_info": {
   "codemirror_mode": {
    "name": "ipython",
    "version": 3
   },
   "file_extension": ".py",
   "mimetype": "text/x-python",
   "name": "python",
   "nbconvert_exporter": "python",
   "pygments_lexer": "ipython3",
   "version": "3.12.4"
  }
 },
 "nbformat": 4,
 "nbformat_minor": 5
}

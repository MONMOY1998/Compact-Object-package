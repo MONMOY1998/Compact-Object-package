{
 "cells": [
  {
   "cell_type": "code",
   "execution_count": 1,
   "id": "a524421a-98cc-4aea-94d3-34a624762808",
   "metadata": {},
   "outputs": [],
   "source": [
    "import numpy as np\n",
    "import matplotlib.pyplot as plt\n",
    "from scipy.interpolate import interp1d\n",
    "Gamma_indices = np.loadtxt(\"polytropic eoss/gamma_values.txt\")\n",
    "Gamma = Gamma_indices[:,1]\n",
    "\n",
    "n_0 = 0.16\n",
    "n_1 = 1.1*n_0\n",
    "P_1 = 0.3848 * ((2.2)**Gamma[200])\n",
    "epsilon_1 = 165.3652 - (  (0.84656/(Gamma[200] - 1)) * (1 - (2.2 ** (Gamma[200] - 1))) )\n",
    "mu_1 = (epsilon_1 + P_1)/n_1\n",
    "\n",
    "#cs2_1 = 0.2200979082\n",
    "cs2_1 = Gamma[200]*P_1/(epsilon_1 + P_1)\n",
    "cs2_N = 0.305"
   ]
  },
  {
   "cell_type": "code",
   "execution_count": 3,
   "id": "266fa072-76d8-43b5-a7eb-56f31dfdc8b0",
   "metadata": {},
   "outputs": [
    {
     "name": "stdout",
     "output_type": "stream",
     "text": [
      "2.683256\n",
      "3.191852223918517\n",
      "166.7585069146455\n",
      "0.05039446032567572\n",
      "965.6270405600227\n"
     ]
    }
   ],
   "source": [
    "print(Gamma[200])\n",
    "print(P_1)\n",
    "print(epsilon_1)\n",
    "print(cs2_1)\n",
    "print(mu_1)"
   ]
  },
  {
   "cell_type": "code",
   "execution_count": 5,
   "id": "27cbb6e8-3edc-425c-9222-c4918d86dcee",
   "metadata": {},
   "outputs": [],
   "source": [
    "def generate_points(N, mu_1, mu_N1=2600):\n",
    "    \"\"\"\n",
    "    Generate random mu_points and cs2_points for piecewise linear c_s^2(mu).\n",
    "    \n",
    "    Parameters:\n",
    "    N (int): Number of segments (e.g., 3, 4, 5, 7).\n",
    "    mu_1 (float): Starting mu value in MeV.\n",
    "    mu_N1 (float): Ending mu value in MeV.\n",
    "    \n",
    "    Returns:\n",
    "    mu_points (list): List of mu values in increasing order.\n",
    "    cs2_points (list): List of c_s^2 values corresponding to mu_points.\n",
    "    \"\"\"\n",
    "   \n",
    "    c_s_max2 = np.random.uniform(0,1)\n",
    "    print(c_s_max2)\n",
    "    \n",
    "    print(c_s_max2)\n",
    "    if N > 1:\n",
    "        intermediate_mus = np.random.uniform(mu_1, mu_N1, N-1)\n",
    "        intermediate_mus.sort()\n",
    "    else:\n",
    "        intermediate_mus = []\n",
    "    mu_points = [mu_1] + list(intermediate_mus) + [mu_N1]\n",
    "\n",
    "    \n",
    "\n",
    "    # intermediate_cs2 = np.random.uniform(0,c_s_max2,N)\n",
    "    \n",
    "    \n",
    "    # cs2_points = [cs2_1] + list(intermediate_cs2)\n",
    "    \n",
    "    if N > 1:\n",
    "         intermediate_cs2 = np.random.uniform(0, c_s_max2, N-1)\n",
    "    #intermediate_cs2.sort()    \n",
    "    else:\n",
    "         intermediate_cs2 = []\n",
    "    cs2_points = [cs2_1] + list(intermediate_cs2) +[cs2_N]\n",
    "    \n",
    "    return mu_points, cs2_points"
   ]
  },
  {
   "cell_type": "code",
   "execution_count": 7,
   "id": "3aa56480-dadc-4a05-8a04-cbd1c70fe211",
   "metadata": {},
   "outputs": [
    {
     "name": "stdout",
     "output_type": "stream",
     "text": [
      "0.5914409185249424\n",
      "0.5914409185249424\n"
     ]
    }
   ],
   "source": [
    "# Generate piecewise linear c_s²(μ) parameters\n",
    "N = 7  # Number of segments, can be 3, 4, 5, or 7\n",
    "mu_points, cs2_points = generate_points(N, mu_1, mu_N1=2600)\n"
   ]
  },
  {
   "cell_type": "code",
   "execution_count": 9,
   "id": "a15720c4-43a0-45f0-8b99-00ed9903ea68",
   "metadata": {},
   "outputs": [
    {
     "name": "stdout",
     "output_type": "stream",
     "text": [
      "[0.05039446032567572, 0.35654100819004236, 0.10057763394544326, 0.49248876578865625, 0.17364801891290862, 0.0871640570698433, 0.5211687076964379, 0.305]\n",
      "[965.6270405600227, 1295.456643456427, 1460.9211393385247, 2078.2943900082787, 2131.9895710390383, 2189.215846204026, 2221.279496240155, 2600]\n"
     ]
    }
   ],
   "source": [
    "print(cs2_points)\n",
    "print(mu_points)"
   ]
  },
  {
   "cell_type": "code",
   "execution_count": 11,
   "id": "dcdbb8b4-df14-434a-b982-74e4beb5716c",
   "metadata": {},
   "outputs": [],
   "source": [
    "#Define c_s²(μ) with linear interpolation\n",
    "def c_s2(mu):\n",
    "    \n",
    "    for i in range(len(mu_points)):\n",
    "        if mu_points[i] <= mu <= mu_points[i + 1]:\n",
    "            return (cs2_points[i] * (mu_points[i + 1] - mu) + cs2_points[i + 1] * (mu - mu_points[i])) / (mu_points[i + 1] - mu_points[i])\n",
    "    "
   ]
  },
  {
   "cell_type": "code",
   "execution_count": 13,
   "id": "652267a5-bd71-454c-9f51-80e1a7a34428",
   "metadata": {},
   "outputs": [],
   "source": [
    "# def c_s2(mu):\n",
    "#     \"\"\"Piecewise linear interpolation of c_s^2(μ)\"\"\"\n",
    "#     return np.interp(mu, mu_points, cs2_points)"
   ]
  },
  {
   "cell_type": "code",
   "execution_count": 15,
   "id": "161d6b3e-6c64-49ae-acc2-bb1330906546",
   "metadata": {},
   "outputs": [
    {
     "name": "stdout",
     "output_type": "stream",
     "text": [
      "0.18886547867822392\n"
     ]
    }
   ],
   "source": [
    "print(c_s2(1600))"
   ]
  },
  {
   "cell_type": "code",
   "execution_count": 17,
   "id": "e4fd6ed9-fe69-4512-b802-a3dba1114c18",
   "metadata": {},
   "outputs": [],
   "source": [
    "# Simpson's 1/3 rule\n",
    "def simpson_integrate(f, a, b, n=200):\n",
    "    if n % 2 != 0:\n",
    "        n += 1  # make even\n",
    "    h = (b - a) / n\n",
    "    x = np.linspace(a, b, n + 1)\n",
    "    y = np.array([f(xi) for xi in x])\n",
    "    return (h / 3) * (y[0] + 4 * np.sum(y[1:-1:2]) + 2 * np.sum(y[2:-2:2]) + y[-1])\n"
   ]
  },
  {
   "cell_type": "code",
   "execution_count": 19,
   "id": "fba72980-4e25-4211-852f-5e13b0d4aece",
   "metadata": {},
   "outputs": [],
   "source": [
    "# Eq. (2) integrand\n",
    "def integrand_eq2(mu_prime):\n",
    "    cs2 = c_s2(mu_prime)\n",
    "    if cs2 <= 1e-8:\n",
    "        raise ValueError(\"c_s^2 too small or zero at μ = {}\".format(mu_prime))\n",
    "    return 1.0 / (mu_prime * cs2)\n",
    "\n",
    "# n(μ)\n",
    "def n_mu(mu):\n",
    "    if mu <= mu_1:\n",
    "        return n_1\n",
    "    integral = simpson_integrate(integrand_eq2, mu_1, mu)\n",
    "    return n_1 * np.exp(integral)\n"
   ]
  },
  {
   "cell_type": "code",
   "execution_count": 21,
   "id": "a6d276a9-8ab3-4238-a8b8-b78fafec1118",
   "metadata": {},
   "outputs": [],
   "source": [
    "# Eq. (3) integrand\n",
    "def integrand_eq3(mu_prime):\n",
    "    return n_mu(mu_prime)\n",
    "\n",
    "# P(μ)\n",
    "def P_mu(mu):\n",
    "    if mu <= mu_1:\n",
    "        return P_1\n",
    "    integral = simpson_integrate(integrand_eq3, mu_1, mu)\n",
    "    return P_1 + integral"
   ]
  },
  {
   "cell_type": "code",
   "execution_count": 23,
   "id": "0ab1ee03-bd5b-40a7-a19c-ddb4588375b7",
   "metadata": {},
   "outputs": [],
   "source": [
    "# ε1 from thermodynamic relation (μ1 * n1 - P1)\n",
    "#epsilon_1 = mu_1 * n_1 - P_1\n",
    "\n",
    "# Eq. (4) integrand\n",
    "def integrand_eq4(mu_prime):\n",
    "    cs2 = c_s2(mu_prime)\n",
    "    if cs2 <= 1e-8:\n",
    "        raise ValueError(f\"c_s^2 too small or zero at μ = {mu_prime}\")\n",
    "    return n_mu(mu_prime) / cs2\n",
    "\n",
    "# ε(μ)\n",
    "def epsilon_mu(mu):\n",
    "    if mu < mu_1:\n",
    "        raise ValueError(\"mu must be >= mu_1\")\n",
    "    if abs(mu - mu_1) < 1e-12:  # handle floating point equality\n",
    "        return epsilon_1\n",
    "    integral = simpson_integrate(integrand_eq4, mu_1, mu)\n",
    "    return epsilon_1 + integral\n",
    "\n",
    "# Example usage:\n",
    "#mu_test = 1.3  # GeV\n",
    "#print(f\"ε({mu_test} GeV) = {epsilon_mu(mu_test):.6f} GeV/fm^3\")\n"
   ]
  },
  {
   "cell_type": "code",
   "execution_count": 25,
   "id": "0fc58d52-2769-4099-aea8-4ed67c5a1658",
   "metadata": {},
   "outputs": [],
   "source": [
    "\n",
    "mu_grid = np.linspace(mu_1, 2600, 200)  # Higher resolution"
   ]
  },
  {
   "cell_type": "code",
   "execution_count": 27,
   "id": "97af9f6d-b92a-40ce-b567-cd15434e19be",
   "metadata": {},
   "outputs": [
    {
     "name": "stdout",
     "output_type": "stream",
     "text": [
      "[ 965.62704056  973.83997     982.05289945  990.26582889  998.47875834\n",
      " 1006.69168778 1014.90461723 1023.11754667 1031.33047612 1039.54340556\n",
      " 1047.756335   1055.96926445 1064.18219389 1072.39512334 1080.60805278\n",
      " 1088.82098223 1097.03391167 1105.24684112 1113.45977056 1121.6727\n",
      " 1129.88562945 1138.09855889 1146.31148834 1154.52441778 1162.73734723\n",
      " 1170.95027667 1179.16320611 1187.37613556 1195.589065   1203.80199445\n",
      " 1212.01492389 1220.22785334 1228.44078278 1236.65371223 1244.86664167\n",
      " 1253.07957111 1261.29250056 1269.50543    1277.71835945 1285.93128889\n",
      " 1294.14421834 1302.35714778 1310.57007723 1318.78300667 1326.99593611\n",
      " 1335.20886556 1343.421795   1351.63472445 1359.84765389 1368.06058334\n",
      " 1376.27351278 1384.48644223 1392.69937167 1400.91230111 1409.12523056\n",
      " 1417.33816    1425.55108945 1433.76401889 1441.97694834 1450.18987778\n",
      " 1458.40280723 1466.61573667 1474.82866611 1483.04159556 1491.254525\n",
      " 1499.46745445 1507.68038389 1515.89331334 1524.10624278 1532.31917223\n",
      " 1540.53210167 1548.74503111 1556.95796056 1565.17089    1573.38381945\n",
      " 1581.59674889 1589.80967834 1598.02260778 1606.23553722 1614.44846667\n",
      " 1622.66139611 1630.87432556 1639.087255   1647.30018445 1655.51311389\n",
      " 1663.72604334 1671.93897278 1680.15190222 1688.36483167 1696.57776111\n",
      " 1704.79069056 1713.00362    1721.21654945 1729.42947889 1737.64240834\n",
      " 1745.85533778 1754.06826722 1762.28119667 1770.49412611 1778.70705556\n",
      " 1786.919985   1795.13291445 1803.34584389 1811.55877334 1819.77170278\n",
      " 1827.98463222 1836.19756167 1844.41049111 1852.62342056 1860.83635\n",
      " 1869.04927945 1877.26220889 1885.47513834 1893.68806778 1901.90099722\n",
      " 1910.11392667 1918.32685611 1926.53978556 1934.752715   1942.96564445\n",
      " 1951.17857389 1959.39150334 1967.60443278 1975.81736222 1984.03029167\n",
      " 1992.24322111 2000.45615056 2008.66908    2016.88200945 2025.09493889\n",
      " 2033.30786833 2041.52079778 2049.73372722 2057.94665667 2066.15958611\n",
      " 2074.37251556 2082.585445   2090.79837445 2099.01130389 2107.22423333\n",
      " 2115.43716278 2123.65009222 2131.86302167 2140.07595111 2148.28888056\n",
      " 2156.50181    2164.71473945 2172.92766889 2181.14059833 2189.35352778\n",
      " 2197.56645722 2205.77938667 2213.99231611 2222.20524556 2230.418175\n",
      " 2238.63110445 2246.84403389 2255.05696333 2263.26989278 2271.48282222\n",
      " 2279.69575167 2287.90868111 2296.12161056 2304.33454    2312.54746945\n",
      " 2320.76039889 2328.97332833 2337.18625778 2345.39918722 2353.61211667\n",
      " 2361.82504611 2370.03797556 2378.250905   2386.46383445 2394.67676389\n",
      " 2402.88969333 2411.10262278 2419.31555222 2427.52848167 2435.74141111\n",
      " 2443.95434056 2452.16727    2460.38019944 2468.59312889 2476.80605833\n",
      " 2485.01898778 2493.23191722 2501.44484667 2509.65777611 2517.87070556\n",
      " 2526.083635   2534.29656444 2542.50949389 2550.72242333 2558.93535278\n",
      " 2567.14828222 2575.36121167 2583.57414111 2591.78707056 2600.        ]\n"
     ]
    }
   ],
   "source": [
    "print(mu_grid)"
   ]
  },
  {
   "cell_type": "code",
   "execution_count": 29,
   "id": "874f538a-2616-45ee-8012-742f709c6c42",
   "metadata": {},
   "outputs": [],
   "source": [
    "# Compute grids\n",
    "cs2_grid = np.array([c_s2(mu) for mu in mu_grid])\n",
    "n_grid = np.array([n_mu(mu) for mu in mu_grid])\n",
    "P_grid = np.array([P_mu(mu) for mu in mu_grid])\n",
    "\n",
    "epsilon_grid = np.array([epsilon_mu(mu) for mu in mu_grid])\n"
   ]
  },
  {
   "cell_type": "code",
   "execution_count": 31,
   "id": "e6657793-cb6e-45e2-b465-8f990381cae2",
   "metadata": {},
   "outputs": [
    {
     "name": "stdout",
     "output_type": "stream",
     "text": [
      "[ 0.176       0.20581975  0.23580699  0.26588297  0.29598577  0.32606587\n",
      "  0.35608307  0.38600445  0.41580281  0.44545554  0.4749438   0.50425181\n",
      "  0.5333664   0.56227653  0.59097298  0.6194481   0.64769556  0.67571019\n",
      "  0.70348777  0.73102498  0.7583192   0.7853685   0.81217147  0.83872725\n",
      "  0.86503536  0.89109574  0.91690864  0.94247463  0.96779452  0.99286933\n",
      "  1.01770033  1.04228891  1.06663665  1.09074525  1.11461652  1.13825239\n",
      "  1.16165485  1.184826    1.20776797  1.23048297  1.25297324  1.27570117\n",
      "  1.29954062  1.32462282  1.35107314  1.37902085  1.40862853  1.44007746\n",
      "  1.47361038  1.50945923  1.54792883  1.58938901  1.63426917  1.68310331\n",
      "  1.73654004  1.79542771  1.86079884  1.93399306  2.01688633  2.11185907\n",
      "  2.22238092  2.34752735  2.47361144  2.59936047  2.72473135  2.84974691\n",
      "  2.97461437  3.09864394  3.22229119  3.34573211  3.46787689  3.58999943\n",
      "  3.71149197  3.83280287  3.95376589  4.07284775  4.19170698  4.30997623\n",
      "  4.42755988  4.54487433  4.66154964  4.77774244  4.8929257   5.00638287\n",
      "  5.11963959  5.23283493  5.34488255  5.45695214  5.56923999  5.67765852\n",
      "  5.78754485  5.89614132  6.00589749  6.11138353  6.218092    6.32691668\n",
      "  6.42948004  6.533985    6.64081252  6.74138425  6.84470897  6.94644181\n",
      "  7.04712891  7.15071418  7.24846227  7.34988402  7.44572122  7.54480981\n",
      "  7.64081922  7.73870607  7.83296852  7.93020424  8.02357593  8.11938977\n",
      "  8.21137653  8.30810443  8.39734897  8.49252883  8.57900145  8.67065707\n",
      "  8.75906876  8.84827361  8.9415649   9.02600026  9.11474106  9.19976497\n",
      "  9.28559338  9.3786138   9.45635369  9.54153655  9.62918303  9.70977408\n",
      "  9.7927049   9.87675705  9.95799192 10.03936935 10.12119389 10.21173249\n",
      " 10.31368776 10.43374049 10.56835471 10.73414645 10.95589506 11.2003819\n",
      " 11.48115026 11.79669887 12.14106015 12.54021327 12.99237509 13.53945514\n",
      " 13.88431442 14.12184543 14.26295824 14.37088837 14.4610555  14.55067259\n",
      " 14.76075569 14.78089135 14.86261958 15.00776621 15.08785847 15.30853439\n",
      " 15.33269593 15.46624036 15.55017166 15.67284406 15.81162524 15.89053011\n",
      " 16.07367112 16.14768565 16.36650189 16.40553739 16.61716044 16.67028192\n",
      " 16.88823262 16.95970547 17.14649446 17.21345737 17.40676128 17.50493808\n",
      " 17.7121677  17.82774784 17.97556065 18.18822915 18.31860399 18.61215268\n",
      " 18.64697634 18.84374673 18.94988978 19.14049186 19.36890549 19.57671889\n",
      " 19.81460947 19.86015163 20.07861799 20.30821428 20.52664165 20.78623516\n",
      " 20.88643273 21.11699854]\n"
     ]
    }
   ],
   "source": [
    "print(n_grid)"
   ]
  },
  {
   "cell_type": "code",
   "execution_count": 33,
   "id": "c8b53d5c-6885-46fe-a1bc-8e41dea968ec",
   "metadata": {},
   "outputs": [
    {
     "name": "stdout",
     "output_type": "stream",
     "text": [
      "[3.19185222e+00 4.75963535e+00 6.57307477e+00 8.63320914e+00\n",
      " 1.09405032e+01 1.34949667e+01 1.62962423e+01 1.93436741e+01\n",
      " 2.26363597e+01 2.61731933e+01 2.99528990e+01 3.39740594e+01\n",
      " 3.82351384e+01 4.27345007e+01 4.74704282e+01 5.24411334e+01\n",
      " 5.76447719e+01 6.30794519e+01 6.87432431e+01 7.46341846e+01\n",
      " 8.07502910e+01 8.70895583e+01 9.36499687e+01 1.00429495e+02\n",
      " 1.07426106e+02 1.14637766e+02 1.22062441e+02 1.29698102e+02\n",
      " 1.37542723e+02 1.45594287e+02 1.53850787e+02 1.62310226e+02\n",
      " 1.70970618e+02 1.79829994e+02 1.88886396e+02 1.98137883e+02\n",
      " 2.07582530e+02 2.17218429e+02 2.27043687e+02 2.37056433e+02\n",
      " 2.47254812e+02 2.57638017e+02 2.68212372e+02 2.78987584e+02\n",
      " 2.89974206e+02 3.01184035e+02 3.12630240e+02 3.24327051e+02\n",
      " 3.36290503e+02 3.48538797e+02 3.61091986e+02 3.73972975e+02\n",
      " 3.87208279e+02 4.00828056e+02 4.14867153e+02 4.29366954e+02\n",
      " 4.44376392e+02 4.59953553e+02 4.76170437e+02 4.93115564e+02\n",
      " 5.10902070e+02 5.29665232e+02 5.49462651e+02 5.70294812e+02\n",
      " 5.92159758e+02 6.15050235e+02 6.38967372e+02 6.63910181e+02\n",
      " 6.89867012e+02 7.16845696e+02 7.44818015e+02 7.73800629e+02\n",
      " 8.03790821e+02 8.34771858e+02 8.66740305e+02 8.99696225e+02\n",
      " 9.33629312e+02 9.68556281e+02 1.00443653e+03 1.04127531e+03\n",
      " 1.07907503e+03 1.11783355e+03 1.15754422e+03 1.19819615e+03\n",
      " 1.23977672e+03 1.28229267e+03 1.32573993e+03 1.37009015e+03\n",
      " 1.41536265e+03 1.46154118e+03 1.50862517e+03 1.55661481e+03\n",
      " 1.60549900e+03 1.65524265e+03 1.70587760e+03 1.75738488e+03\n",
      " 1.80976474e+03 1.86301139e+03 1.91712793e+03 1.97205084e+03\n",
      " 2.02785298e+03 2.08448758e+03 2.14195117e+03 2.20025787e+03\n",
      " 2.25936765e+03 2.31931387e+03 2.38008730e+03 2.44161399e+03\n",
      " 2.50399099e+03 2.56716926e+03 2.63108634e+03 2.69585204e+03\n",
      " 2.76136773e+03 2.82764468e+03 2.89472996e+03 2.96255826e+03\n",
      " 3.03112265e+03 3.10047511e+03 3.17063954e+03 3.24143718e+03\n",
      " 3.31304906e+03 3.38528210e+03 3.45836364e+03 3.53214823e+03\n",
      " 3.60664425e+03 3.68196897e+03 3.75774804e+03 3.83441508e+03\n",
      " 3.91170296e+03 3.98981295e+03 4.06844093e+03 4.14788675e+03\n",
      " 4.22793817e+03 4.30885307e+03 4.39012520e+03 4.47229067e+03\n",
      " 4.55519862e+03 4.63855607e+03 4.72281236e+03 4.80813565e+03\n",
      " 4.89425850e+03 4.98176631e+03 5.07086244e+03 5.16173451e+03\n",
      " 5.25483363e+03 5.35062447e+03 5.44865747e+03 5.54995292e+03\n",
      " 5.65489573e+03 5.76361076e+03 5.87654175e+03 5.99166889e+03\n",
      " 6.10933339e+03 6.22532504e+03 6.34344671e+03 6.46473821e+03\n",
      " 6.58448512e+03 6.70383414e+03 6.82552653e+03 6.94887090e+03\n",
      " 7.07665923e+03 7.19825757e+03 7.32206989e+03 7.44811095e+03\n",
      " 7.57509340e+03 7.70742635e+03 7.83646389e+03 7.96855140e+03\n",
      " 8.09670655e+03 8.22965243e+03 8.36162141e+03 8.49621680e+03\n",
      " 8.63251238e+03 8.76865788e+03 8.90852551e+03 9.04662833e+03\n",
      " 9.18973000e+03 9.32918761e+03 9.47369692e+03 9.61545549e+03\n",
      " 9.76161829e+03 9.90582725e+03 1.00547291e+04 1.02020978e+04\n",
      " 1.03536209e+04 1.05029526e+04 1.06595559e+04 1.08088049e+04\n",
      " 1.09660014e+04 1.11187503e+04 1.12783071e+04 1.14360136e+04\n",
      " 1.15982662e+04 1.17609490e+04 1.19238653e+04 1.20933700e+04\n",
      " 1.22592592e+04 1.24345545e+04 1.26031038e+04 1.27754315e+04]\n"
     ]
    }
   ],
   "source": [
    "print(P_grid)"
   ]
  },
  {
   "cell_type": "code",
   "execution_count": 35,
   "id": "84340a08-a46e-4cb3-87dd-e4cd7b0ec934",
   "metadata": {},
   "outputs": [
    {
     "name": "stdout",
     "output_type": "stream",
     "text": [
      "12775.431532069484\n",
      "0.305\n",
      "42175.69436787888\n",
      "131.98124084765936\n",
      "12775.431532069484\n"
     ]
    }
   ],
   "source": [
    "print(P_mu(2600))\n",
    "print(c_s2(2600))\n",
    "print(epsilon_mu(2600))\n",
    "print(n_mu(2600)/n_0)\n",
    "print(P_grid[-1])"
   ]
  },
  {
   "cell_type": "code",
   "execution_count": null,
   "id": "0e0f5674-4f34-4546-a6c1-8691af2f5b9e",
   "metadata": {},
   "outputs": [],
   "source": [
    "# Convert n to n/n_0\n",
    "n_over_n0 = n_grid / n_0\n",
    "print(n_over_n0)"
   ]
  },
  {
   "cell_type": "code",
   "execution_count": null,
   "id": "5f99e452-5a38-4af3-8407-dfdb75f7055f",
   "metadata": {},
   "outputs": [],
   "source": [
    "print(mu_grid)"
   ]
  },
  {
   "cell_type": "code",
   "execution_count": null,
   "id": "969dcc9e-65a2-4b15-b15f-2cd5ef885c2e",
   "metadata": {},
   "outputs": [],
   "source": [
    "print(P_grid * 1.6022e33)"
   ]
  },
  {
   "cell_type": "code",
   "execution_count": null,
   "id": "a860986e-05da-4242-ae2c-fc0ae77c1e26",
   "metadata": {},
   "outputs": [],
   "source": [
    "print(cs2_grid)"
   ]
  },
  {
   "cell_type": "code",
   "execution_count": null,
   "id": "6850acda-63f6-4ac1-a5d4-18f259ae27b3",
   "metadata": {},
   "outputs": [],
   "source": [
    "print(epsilon_grid*(1.7827e12))"
   ]
  },
  {
   "cell_type": "code",
   "execution_count": null,
   "id": "e2f73502-1272-4f4d-a9a0-8b96936e7c5c",
   "metadata": {},
   "outputs": [],
   "source": [
    "# Filter for the desired range: 1.1 n_0 to 40 n_0\n",
    "mask = (n_over_n0 > 1.1) & (n_over_n0 <= 40)\n",
    "n_plot = n_over_n0[mask]\n",
    "P_plot = P_grid[mask]\n",
    "cs2_plot = cs2_grid[mask]\n",
    "epsilon_plot = epsilon_grid[mask]\n",
    "mu_plot = mu_grid[mask]"
   ]
  },
  {
   "cell_type": "code",
   "execution_count": null,
   "id": "9565c042-e95b-4db2-9a8e-242b8f9764da",
   "metadata": {},
   "outputs": [],
   "source": [
    "print(P_plot[-1])\n",
    "print(epsilon_plot[-1])\n",
    "print(n_plot[-1])\n",
    "print(mu_plot[-1])\n",
    "print(cs2_plot[-1])"
   ]
  },
  {
   "cell_type": "code",
   "execution_count": null,
   "id": "31421327-2772-4913-9514-95c825ef0265",
   "metadata": {},
   "outputs": [],
   "source": [
    "# Parameters for pQCD\n",
    "c1 = 0.9008\n",
    "d1 = 0.5034\n",
    "d2 = 1.452\n",
    "nu1 = 0.3553\n",
    "nu2 = 0.9101\n",
    "\n",
    "def p_QCD(mu_GeV, X):\n",
    "    \"\"\"\n",
    "    mu_GeV: mu in GeV\n",
    "    X: scale parameter\n",
    "    Returns pressure in GeV^4\n",
    "    \"\"\"\n",
    "    prefactor = mu_GeV**4 / (108 * np.pi**2)\n",
    "    bracket = c1 - (d1 * X**(-nu1)) / (mu_GeV/1.0 - d2 * X**(-nu2))\n",
    "    return prefactor * bracket\n",
    "\n",
    "# X values to scan\n",
    "X_values = np.linspace(1, 4, 100)\n",
    "\n",
    "mu_target_GeV = 2.6\n",
    "\n",
    "# pQCD pressures over X\n",
    "p_values = [p_QCD(mu_target_GeV, X) for X in X_values]\n",
    "\n",
    "p_min,p_max = min(p_values), max(p_values)\n",
    "\n",
    "P_at_2600 = P_mu(2600)\n",
    "\n",
    "is_valid = (p_min *(1.3014e5)<=P_at_2600<=p_max * (1.3014e5))\n",
    "\n",
    "if is_valid:\n",
    "    print(\"EOS is consistent with pQCD at mu = 2600 MeV\")\n",
    "else:\n",
    "    print(\"Not consistent with pQCD\")\n",
    "\n",
    "\n",
    "\n",
    "\n",
    "\n",
    "print(p_min * 1.3014e5)\n",
    "print(p_max * 1.3014e5)\n",
    "print(P_at_2600)\n",
    "print(X_values)\n",
    "print(p_values)"
   ]
  },
  {
   "cell_type": "code",
   "execution_count": null,
   "id": "35b1130e-5db7-43c8-a666-d5d90ef75d8e",
   "metadata": {},
   "outputs": [],
   "source": [
    "print(epsilon_plot*(1.7827e12))"
   ]
  },
  {
   "cell_type": "code",
   "execution_count": null,
   "id": "78d02003-06da-45a2-ad61-9f0260cfaba0",
   "metadata": {},
   "outputs": [],
   "source": [
    "print(cs2_plot)"
   ]
  },
  {
   "cell_type": "code",
   "execution_count": null,
   "id": "fc5fe9e8-6b4b-4786-9572-f85319c14467",
   "metadata": {},
   "outputs": [],
   "source": [
    "print(np.max(cs2_plot))"
   ]
  },
  {
   "cell_type": "code",
   "execution_count": null,
   "id": "9f2907d7-869d-4b19-898e-9b211f32e221",
   "metadata": {},
   "outputs": [],
   "source": [
    "p = P_plot * 1.6022e33\n",
    "epsilon = epsilon_plot * 1.7827e12"
   ]
  },
  {
   "cell_type": "code",
   "execution_count": null,
   "id": "f5e41d03-5974-4f11-a463-eb28b9e2bd5b",
   "metadata": {},
   "outputs": [],
   "source": [
    "result_array = np.column_stack((p, epsilon, cs2_plot))"
   ]
  },
  {
   "cell_type": "code",
   "execution_count": null,
   "id": "18a8ce12-0409-49bd-a796-12a85513a320",
   "metadata": {},
   "outputs": [],
   "source": [
    "data_BPS = np.loadtxt(\"data_k\")\n",
    "pres_BPS = data_BPS[:,0]\n",
    "rho_BPS = data_BPS[:,1]"
   ]
  },
  {
   "cell_type": "code",
   "execution_count": null,
   "id": "00784cb2-4d2e-4524-a952-e99e4d99b621",
   "metadata": {},
   "outputs": [],
   "source": [
    "data_polytropic_grok = np.loadtxt(\"polytropic eoss/polytropic_EOS_199.txt\")\n",
    "pres_polytropic = data_polytropic_grok[:,1]\n",
    "rho_polytropic = data_polytropic_grok[:,0]"
   ]
  },
  {
   "cell_type": "code",
   "execution_count": null,
   "id": "1fbe9198-a8be-4b5c-b161-40d188b52439",
   "metadata": {},
   "outputs": [],
   "source": [
    "#print(data_polytropic_grok)"
   ]
  },
  {
   "cell_type": "code",
   "execution_count": null,
   "id": "772c0787-c3c4-4cbd-9545-219eaa631bfe",
   "metadata": {},
   "outputs": [],
   "source": [
    "from TOVsolver.unit import g_cm_3, dyn_cm_2, km, Msun, MeV, fm"
   ]
  },
  {
   "cell_type": "code",
   "execution_count": null,
   "id": "250417c5-4394-4eab-97e4-ed867e572f2f",
   "metadata": {},
   "outputs": [],
   "source": [
    "pres_total = np.hstack((pres_BPS,pres_polytropic,result_array[:,0]))* dyn_cm_2\n",
    "eps_total = np.hstack((rho_BPS,rho_polytropic,result_array[:,1]))*g_cm_3\n",
    "#Last_attempt = np.column_stack((pres_total,eps_total))\n",
    "#np.savetxt(\"data_new_1\", Last_attempt,  fmt=\"%.6e\")"
   ]
  },
  {
   "cell_type": "code",
   "execution_count": null,
   "id": "d27b326a-be3e-4440-b237-e66a4c5b50ad",
   "metadata": {},
   "outputs": [],
   "source": [
    "print(pres_total)\n",
    "print(eps_total)\n",
    "import numpy as np\n",
    "\n",
    "# Load data\n",
    "#data_new = np.loadtxt(\"data_new_1\")\n",
    "#P1 = data_new[:,0] * dyn_cm_2\n",
    "#rho1 = data_new[:,1] * g_cm_3\n",
    "\n",
    "P1 = pres_total\n",
    "rho1 = eps_total\n",
    "\n",
    "# Check for duplicates in rho1\n",
    "if len(rho1) != len(np.unique(rho1)):\n",
    "    print(\"Duplicate values found in rho1 (density):\")\n",
    "    unique, counts = np.unique(rho1, return_counts=True)\n",
    "    duplicates = unique[counts > 1]\n",
    "    print(f\"Duplicate density values: {duplicates}\")\n",
    "else:\n",
    "    print(\"No duplicates in rho1\")\n",
    "\n",
    "# Check for duplicates in P1\n",
    "if len(P1) != len(np.unique(P1)):\n",
    "    print(\"Duplicate values found in P1 (pressure):\")\n",
    "    unique, counts = np.unique(P1, return_counts=True)\n",
    "    duplicates = unique[counts > 1]\n",
    "    print(f\"Duplicate pressure values: {duplicates}\")\n",
    "else:\n",
    "    print(\"No duplicates in P1\")"
   ]
  },
  {
   "cell_type": "code",
   "execution_count": null,
   "id": "2ceca2c1-f150-4726-85e0-57f974f802d6",
   "metadata": {},
   "outputs": [],
   "source": [
    "# Remove duplicates while keeping the first occurrence\n",
    "unique_indices = np.unique(rho1, return_index=True)[1]\n",
    "unique_indices = np.sort(unique_indices)  # Ensure order is preserved\n",
    "rho1_new = rho1[unique_indices]\n",
    "P1_new = P1[unique_indices]\n",
    "\n",
    "print(f\"After removing duplicates, rho1 shape: {rho1.shape}, P1 shape: {P1.shape}\")"
   ]
  },
  {
   "cell_type": "code",
   "execution_count": null,
   "id": "fa0527d2-0f7e-4735-8319-92703e76a359",
   "metadata": {},
   "outputs": [],
   "source": [
    "import EOSgenerators.crust_EOS as crust\n",
    "import EOSgenerators.RMF_EOS as RMF\n",
    "import EOSgenerators.Polytrope_EOS as Polytrope\n",
    "import EOSgenerators.Strangeon_EOS as Strangeon\n",
    "import TOVsolver.main as main\n",
    "import matplotlib.pyplot as plt\n",
    "import numpy as np\n",
    "import math\n",
    "from TOVsolver.unit import g_cm_3, dyn_cm_2, km, Msun, MeV, fm"
   ]
  },
  {
   "cell_type": "code",
   "execution_count": null,
   "id": "ecf8bbaf-abd3-447c-83f3-a8da6bef34e4",
   "metadata": {},
   "outputs": [],
   "source": [
    "MR_EOS = main.OutputMR(\"\",rho1_new,P1_new).T\n",
    "MRT_EOS = main.OutputMRT(\"\",rho1_new,P1_new).T"
   ]
  },
  {
   "cell_type": "code",
   "execution_count": null,
   "id": "869f902c-2104-4728-b3a7-7022884e5887",
   "metadata": {},
   "outputs": [],
   "source": [
    "plt.plot(MR_EOS[1]/km,MR_EOS[0]/Msun)\n",
    "plt.show()\n",
    "print(np.max(MR_EOS[0]/Msun))"
   ]
  },
  {
   "cell_type": "code",
   "execution_count": null,
   "id": "fc64290d-35ce-4cb6-82a9-dc170e7b317a",
   "metadata": {},
   "outputs": [],
   "source": [
    "MR_EOS[0]/Msun"
   ]
  },
  {
   "cell_type": "code",
   "execution_count": null,
   "id": "a4b77297-9637-48a1-b927-f554ca98e8b3",
   "metadata": {},
   "outputs": [],
   "source": [
    "# Plotting\n",
    "plt.plot( rho1_new/(g_cm_3*(1.7827e12)), P1_new/(dyn_cm_2*(1.6022e33)))\n",
    "plt.xlabel('Density (MeV/fm³)')\n",
    "plt.ylabel('Pressure (MeV/fm³)')\n",
    "plt.title('Pressure vs Density')\n",
    "plt.xscale(\"log\")\n",
    "plt.yscale(\"log\")\n",
    "plt.xlim([10**2,10**4])\n",
    "plt.ylim([10**0,10**4])\n",
    "plt.grid(True)\n",
    "#plt.legend()\n",
    "plt.show()"
   ]
  },
  {
   "cell_type": "code",
   "execution_count": null,
   "id": "dfc87a73-4e8b-4174-804f-ce41835ae878",
   "metadata": {},
   "outputs": [],
   "source": [
    "plt.plot(MRT_EOS[1]/Msun, MRT_EOS[2] ,'g-', lw=2,label =\"MS1\")\n",
    "plt.ylim([0,3000])\n",
    "plt.xlim([0.8,3])\n",
    "plt.show()"
   ]
  },
  {
   "cell_type": "code",
   "execution_count": null,
   "id": "2c3401d5-41f3-4459-8b36-3f85096ebd62",
   "metadata": {},
   "outputs": [],
   "source": [
    "print(rho1/g_cm_3)\n",
    "print(len(rho1/g_cm_3))\n",
    "print(len(P1/dyn_cm_2))\n",
    "print(len(cs2_plot))"
   ]
  },
  {
   "cell_type": "code",
   "execution_count": null,
   "id": "3ed0f90f-1d0a-4b31-bd5f-59df8478bdfb",
   "metadata": {},
   "outputs": [],
   "source": [
    "# column_1 = np.ones(1278)  # Placeholder for rho1\n",
    "# column_2 = np.ones(1278)  # Placeholder for P1\n",
    "# column_3 = np.ones(194)  # Placeholder for cs2_plot\n",
    "\n",
    "column_1 = np.ones(1283)  # Placeholder for rho1\n",
    "column_2 = np.ones(1283)  # Placeholder for P1\n",
    "column_3 = np.ones(199)  # Placeholder for cs2_plot\n",
    "\n",
    "\n",
    "# Verify lengths\n",
    "print(\"Length of rho1/g_cm_3:\", len(column_1))\n",
    "print(\"Length of P1/dyn_cm_2:\", len(column_2))\n",
    "print(\"Length of cs2_plot:\", len(column_3))\n",
    "\n",
    "\n",
    "# Pad cs2_plot to length 1185 with np.nan for the first 1085 elements\n",
    "cs2_padded = np.full(1283, np.nan)  # Create array of length 1185 filled with NaN\n",
    "cs2_padded[-199:] = cs2_plot  # Assign last 100 elements from cs2_plot\n",
    "\n",
    "\n",
    "# Create EOS1 by stacking the arrays\n",
    "EOS1 = np.column_stack((rho1/g_cm_3, P1/dyn_cm_2, cs2_padded))\n",
    "\n",
    "\n",
    "\n",
    "# Save EOS1 to a file\n",
    "np.savetxt(\"SPEED OF SOUND EOS/EOS_199.txt\", EOS1, header=\"Density(g/cm^3) Pressure(dyn/cm^2) cs2\", fmt=\"%.6e\")\n",
    "\n",
    "\n",
    "#print(\"EOS3 saved to EOS1_data.txt\")"
   ]
  },
  {
   "cell_type": "code",
   "execution_count": null,
   "id": "2f34c0cb-ffdf-4899-b026-4eeb6c076eee",
   "metadata": {},
   "outputs": [],
   "source": [
    "EOS_194 = np.loadtxt(\"SPEED OF SOUND EOS/EOS_198.txt\")\n",
    "plt.plot(EOS_194[:,0]/(1.7827e12), EOS_194[:,2])\n",
    "plt.xscale(\"log\")\n",
    "plt.xlim([1e2,2e4])\n",
    "#plt.ylim([0,1])\n",
    "plt.show()"
   ]
  },
  {
   "cell_type": "code",
   "execution_count": null,
   "id": "9c134964-a1e4-4a11-b198-a6b2485662c9",
   "metadata": {},
   "outputs": [],
   "source": [
    "import numpy as np\n",
    "\n",
    "# pQCD parameters\n",
    "c1 = 0.9008\n",
    "d1 = 0.5034\n",
    "d2 = 1.452\n",
    "nu1 = 0.3553\n",
    "nu2 = 0.9101\n",
    "\n",
    "def p_QCD(mu_GeV, X):\n",
    "    \"\"\"\n",
    "    mu_GeV: chemical potential in GeV\n",
    "    X: scale parameter\n",
    "    Returns pressure in GeV^4\n",
    "    \"\"\"\n",
    "    prefactor = mu_GeV**4 / (108 * np.pi**2)\n",
    "    bracket = c1 - (d1 * X**(-nu1)) / (mu_GeV - d2 * X**(-nu2))\n",
    "    return prefactor * bracket\n",
    "\n",
    "# Set target mu and X range\n",
    "mu_target_GeV = 2.6\n",
    "X_values = np.linspace(1, 4, 100)\n",
    "\n",
    "# Compute pQCD pressure range in GeV^4\n",
    "p_values = np.array([p_QCD(mu_target_GeV, X) for X in X_values])\n",
    "p_min = np.min(p_values)  # in GeV^4\n",
    "p_max = np.max(p_values)  # in GeV^4\n",
    "\n",
    "# Convert pQCD pressure range to dyn/cm^2\n",
    "conversion_factor = 1.3014e5\n",
    "p_min_dyncm2 = p_min * conversion_factor\n",
    "p_max_dyncm2 = p_max * conversion_factor\n",
    "\n",
    "# Verify each EOS\n",
    "for i in range(1, 181):  # Loop from 1 to 180\n",
    "    try:\n",
    "        EOS_data = np.loadtxt(f\"SPEED OF SOUND EOS/EOS_{i}.txt\")\n",
    "        P_at_2600 = EOS_data[:, 1][-1] /(1.6022e33) # Pressure in dyn/cm^2\n",
    "        if p_min_dyncm2 <= P_at_2600 <= p_max_dyncm2:\n",
    "            print(f\"EOS_{i} is consistent with pQCD at mu = 2600 MeV\")\n",
    "        else:\n",
    "            print(f\"NaN\")\n",
    "    except FileNotFoundError:\n",
    "        continue  # Skip missing files silently"
   ]
  },
  {
   "cell_type": "code",
   "execution_count": null,
   "id": "01a0fa07-d958-4f53-9d07-adb672efa6c6",
   "metadata": {},
   "outputs": [],
   "source": [
    "import pandas as pd\n",
    "import matplotlib.pyplot as plt\n",
    "\n",
    "web_data_boundary = pd.read_csv(\"data boundary 1.csv\")\n",
    "web_data_whole = pd.read_csv(\"data whole.csv\")\n",
    "EOS = np.loadtxt(\"SPEED OF SOUND EOS/EOS_198.txt\")\n",
    "# Adjust column names based on your CSV structure\n",
    "energy_density_boundary = web_data_boundary.iloc[:, 0].to_numpy()  # First column: energy density (MeV/fm³)\n",
    "Pressure_boundary = web_data_boundary.iloc[:, 1].to_numpy()        # Second column: pressure (MeV/fm³)\n",
    "\n",
    "\n",
    "energy_density_whole = web_data_whole.iloc[:, 0].to_numpy()  # First column: energy density (MeV/fm³)\n",
    "Pressure_whole = web_data_whole.iloc[:, 1].to_numpy()      \n",
    "\n",
    "\n",
    "energy_EOS = EOS[:,0]/(1.7827e12)\n",
    "Pressure_EOS = EOS[:,1]/(1.6022e33)\n",
    "\n",
    "# Plotting\n",
    "plt.plot(energy_density_boundary, Pressure_boundary, color = \"grey\", label = \"constrained\")\n",
    "plt.plot(energy_density_whole,Pressure_whole, color = \"red\",label = \"web plot\")\n",
    "plt.plot(energy_EOS, Pressure_EOS, color = \"black\", label = \"whole data\")\n",
    "plt.xlabel('Density (MeV/fm³)')\n",
    "plt.ylabel('Pressure (MeV/fm³)')\n",
    "plt.title('Pressure vs Density')\n",
    "plt.xscale(\"log\")\n",
    "plt.yscale(\"log\")\n",
    "plt.xlim([10**2,4e4])\n",
    "plt.ylim([10**0,10**4])\n",
    "plt.grid(True)\n",
    "plt.legend()\n",
    "plt.show()"
   ]
  },
  {
   "cell_type": "code",
   "execution_count": null,
   "id": "619f0705-f065-4705-87ae-8c8abb4e1448",
   "metadata": {},
   "outputs": [],
   "source": [
    "import numpy as np\n",
    "\n",
    "# pQCD parameters\n",
    "c1 = 0.9008\n",
    "d1 = 0.5034\n",
    "d2 = 1.452\n",
    "nu1 = 0.3553\n",
    "nu2 = 0.9101\n",
    "\n",
    "def p_QCD(mu_GeV, X):\n",
    "    \"\"\"\n",
    "    mu_GeV: chemical potential in GeV\n",
    "    X: scale parameter\n",
    "    Returns pressure in GeV^4\n",
    "    \"\"\"\n",
    "    prefactor = mu_GeV**4 / (108 * np.pi**2)\n",
    "    bracket = c1 - (d1 * X**(-nu1)) / (mu_GeV - d2 * X**(-nu2))\n",
    "    return prefactor * bracket\n",
    "\n",
    "# Set target mu and X range\n",
    "mu_target_GeV = 2.6\n",
    "X_values = np.linspace(1, 4, 100)\n",
    "\n",
    "# Compute pQCD pressure range in GeV^4\n",
    "p_values = np.array([p_QCD(mu_target_GeV, X) for X in X_values])\n",
    "p_min = np.min(p_values)  # in GeV^4\n",
    "p_max = np.max(p_values)  # in GeV^4\n",
    "\n",
    "# Convert pQCD pressure range to dyn/cm^2\n",
    "conversion_factor = 1.3014e5\n",
    "p_min_dyncm2 = p_min * conversion_factor\n",
    "p_max_dyncm2 = p_max * conversion_factor\n",
    "\n",
    "# Initialize lists to store consistent EOS data\n",
    "consistent_eos_data = []\n",
    "consistent_eos_labels = []\n",
    "\n",
    "# Verify each EOS\n",
    "for i in range(1, 181):  # Loop from 1 to 180\n",
    "    try:\n",
    "        EOS_data = np.loadtxt(f\"SPEED OF SOUND EOS/EOS_{i}.txt\")\n",
    "        P_at_2600 = EOS_data[:, 1][-1] /(1.6022e33) # Pressure in dyn/cm^2\n",
    "        if p_min_dyncm2 <= P_at_2600 <= p_max_dyncm2:\n",
    "            #print(f\"EOS_{i} is consistent with pQCD at mu = 2600 MeV\")\n",
    "            energy_density_2 = EOS_data[:, 0]/ 1.7827e12\n",
    "            pressure_2 = EOS_data[:, 1] / 1.6022e33\n",
    "            consistent_eos_data.append((energy_density_2, pressure_2))\n",
    "            consistent_eos_labels.append(f\"EOS_{i}\")\n",
    "            \n",
    "        #else:\n",
    "            #print(f\"NaN\")\n",
    "    except FileNotFoundError:\n",
    "        continue  # Skip missing files silently\n",
    "\n",
    "# Plot consistent EOS\n",
    "plt.figure()\n",
    "\n",
    "plt.plot(energy_density_boundary, Pressure_boundary, color = \"grey\", label = \"constrained\")\n",
    "plt.plot(energy_density_whole,Pressure_whole, color = \"red\", label=\"web plot\" )\n",
    "# for ed, p, label in zip(consistent_eos_data, consistent_eos_data,consistent_eos_labels):\n",
    "#     plt.plot(ed[0], p[1],color =\"orange\")  # Plot energy density vs pressure\n",
    "\n",
    "# for ed, p in consistent_eos_data:\n",
    "#     plt.plot(ed, p, color=\"orange\", label=\"pQCD-consistent EOSs\" if ed is consistent_eos_data[0][0] else None)\n",
    "\n",
    "for i, (ed, p) in enumerate(consistent_eos_data):\n",
    "    plt.plot(ed, p, color=\"orange\", label=\"pQCD-consistent EOSs\" if i == 0 else None)\n",
    "    \n",
    "plt.xlabel('Density (MeV/fm³)')\n",
    "plt.ylabel('Pressure (MeV/fm³)')\n",
    "plt.title('Pressure vs Density for pQCD-Consistent EOS at mu = 2600 MeV')\n",
    "plt.xscale(\"log\")\n",
    "plt.yscale(\"log\")\n",
    "plt.xlim([1e2, 4e4])\n",
    "plt.ylim([1e0, 1e4])\n",
    "plt.grid(True)\n",
    "plt.legend()\n",
    "plt.savefig(\"EOS PLOT.jpg\",dpi=800)\n",
    "plt.show()"
   ]
  },
  {
   "cell_type": "code",
   "execution_count": null,
   "id": "3001b2d0-a468-416a-bbc2-00b629ad7d33",
   "metadata": {},
   "outputs": [],
   "source": [
    "# import numpy as np\n",
    "# import pandas as pd\n",
    "# import matplotlib.pyplot as plt\n",
    "\n",
    "# # pQCD parameters\n",
    "# c1 = 0.9008\n",
    "# d1 = 0.5034\n",
    "# d2 = 1.452\n",
    "# nu1 = 0.3553\n",
    "# nu2 = 0.9101\n",
    "\n",
    "# def p_QCD(mu_GeV, X):\n",
    "#     \"\"\"\n",
    "#     mu_GeV: chemical potential in GeV\n",
    "#     X: scale parameter\n",
    "#     Returns pressure in GeV^4\n",
    "#     \"\"\"\n",
    "#     prefactor = mu_GeV**4 / (108 * np.pi**2)\n",
    "#     bracket = c1 - (d1 * X**(-nu1)) / (mu_GeV - d2 * X**(-nu2))\n",
    "#     return prefactor * bracket\n",
    "\n",
    "# # Set target mu and X range\n",
    "# mu_target_GeV = 2.6\n",
    "# X_values = np.linspace(1, 4, 100)\n",
    "\n",
    "# # Compute pQCD pressure range in GeV^4\n",
    "# p_values = np.array([p_QCD(mu_target_GeV, X) for X in X_values])\n",
    "# p_min = np.min(p_values)  # in GeV^4\n",
    "# p_max = np.max(p_values)  # in GeV^4\n",
    "\n",
    "# # Convert pQCD pressure range to MeV/fm^3 (1 GeV^4 = 10^12 MeV/fm^3)\n",
    "# p_min_MeV_fm3 = p_min * 1.3014e5\n",
    "# p_max_MeV_fm3 = p_max * 1.3014e5\n",
    "\n",
    "# # Initialize lists to store consistent EOS data\n",
    "# consistent_eos_data = []\n",
    "# consistent_eos_labels = []\n",
    "\n",
    "# # Verify each EOS and collect consistent ones\n",
    "# for i in range(1, 181):  # Loop from 1 to 180\n",
    "#     try:\n",
    "#         EOS_data = np.loadtxt(f\"SPEED OF SOUND EOS/EOS_{i}.txt\")\n",
    "#         P_at_2600 = EOS_data[:, 1][-1] / 1.6022e33  # Convert pressure to MeV/fm^3\n",
    "#         if p_min_MeV_fm3 <= P_at_2600 <= p_max_MeV_fm3:\n",
    "#             print(f\"EOS_{i} is consistent with pQCD at mu = 2600 MeV\")\n",
    "#             # Convert energy density (gm/cm^3 to MeV/fm^3) and pressure (dyn/cm^2 to MeV/fm^3)\n",
    "#             energy_density = EOS_data[:, 0] / 1.7827e12\n",
    "#             pressure = EOS_data[:, 1] / 1.6022e33\n",
    "#             consistent_eos_data.append((energy_density, pressure))\n",
    "#             consistent_eos_labels.append(f\"EOS_{i}\")\n",
    "#         else:\n",
    "#             print(f\"NaN\")\n",
    "#     except FileNotFoundError:\n",
    "#         continue  # Skip missing files (e.g., EOS_4.txt, EOS_77.txt)\n",
    "\n",
    "# # Load web data\n",
    "# try:\n",
    "#     web_data = pd.read_csv(\"Web data.csv\")\n",
    "#     energy_density_web = web_data.iloc[:, 0].to_numpy()  # Energy density in MeV/fm^3\n",
    "#     pressure_web = web_data.iloc[:, 1].to_numpy()        # Pressure in MeV/fm^3\n",
    "# except FileNotFoundError:\n",
    "#     print(\"Web data.csv not found in the current directory\")\n",
    "#     energy_density_web = np.array([])\n",
    "#     pressure_web = np.array([])\n",
    "\n",
    "# # Plot all data on a single figure\n",
    "# plt.figure(figsize=(10, 6))\n",
    "# # Plot consistent EOS\n",
    "# for ed, p, label in zip(consistent_eos_data, consistent_eos_data, consistent_eos_labels):\n",
    "#     plt.plot(ed[0], p[1],color = \"red\", alpha=0.7)  # Plot EOS data with slight transparency\n",
    "# # Plot web data\n",
    "# if len(energy_density_web) > 0:\n",
    "#     plt.plot(energy_density_web, pressure_web, label=\"Web Data\", color=\"orange\", linewidth=2, linestyle=\"-\")\n",
    "# plt.xlabel('Density (MeV/fm³)')\n",
    "# plt.ylabel('Pressure (MeV/fm³)')\n",
    "# plt.title('Pressure vs Density for pQCD-Consistent EOS and Web Data at mu = 2600 MeV')\n",
    "# plt.xscale(\"log\")\n",
    "# plt.yscale(\"log\")\n",
    "# plt.xlim([1e2, 2e4])\n",
    "# plt.ylim([1e0, 1e4])\n",
    "# plt.grid(True)\n",
    "# plt.legend()\n",
    "# plt.show()"
   ]
  },
  {
   "cell_type": "code",
   "execution_count": null,
   "id": "f3c3208d-8f5f-4626-80f9-571d22d0933a",
   "metadata": {},
   "outputs": [],
   "source": []
  }
 ],
 "metadata": {
  "kernelspec": {
   "display_name": "Python 3 (ipykernel)",
   "language": "python",
   "name": "python3"
  },
  "language_info": {
   "codemirror_mode": {
    "name": "ipython",
    "version": 3
   },
   "file_extension": ".py",
   "mimetype": "text/x-python",
   "name": "python",
   "nbconvert_exporter": "python",
   "pygments_lexer": "ipython3",
   "version": "3.12.4"
  }
 },
 "nbformat": 4,
 "nbformat_minor": 5
}

{
 "cells": [
  {
   "cell_type": "code",
   "execution_count": 1,
   "id": "f564083c-144f-45d9-a14b-32ed524c4c5c",
   "metadata": {},
   "outputs": [],
   "source": [
    "import numpy as np\n",
    "\n",
    "def compute_EOS(rhos, gamma, rho_t_start, P_t_start):\n",
    "    \"\"\"\n",
    "    Calculate the pressure of a neutron star using a single polytropic equation of state (EOS).\n",
    "\n",
    "    This function computes the pressure (`pres`) as a function of density (`rho`) using a single polytropic\n",
    "    relation P = k * rho^gamma for rho > rho_t_start, where gamma is sampled uniformly from (1.77, 3.23).\n",
    "\n",
    "    Parameters\n",
    "    ----------\n",
    "    rhos : array-like\n",
    "        An array of density values (in cgs units) at which to calculate the pressure.\n",
    "    \n",
    "    theta : array-like, length 1\n",
    "        A list or tuple containing a single polytropic index `gamma` (float) sampled uniformly \n",
    "        from the range (1.77, 3.23).\n",
    "    \n",
    "    rho_t_start : float, optional\n",
    "        Density threshold for the polytropic EOS (in cgs units, default: 4.3721e11 g/cm^3).\n",
    "    \n",
    "    P_t_start : float, optional\n",
    "        Pressure at the density threshold (in cgs units, default: 7.7582e29 dyn/cm^2).\n",
    "\n",
    "    Returns\n",
    "    -------\n",
    "    pres : ndarray\n",
    "        An array of pressure values (in cgs units) corresponding to the input density values.\n",
    "    \"\"\"\n",
    "    # Extract the single gamma value\n",
    "    #gamma = theta[0]\n",
    "    \n",
    "    # Calculate the polytropic constant k\n",
    "    k = P_t_start / (rho_t_start ** gamma)\n",
    "    \n",
    "    # Compute pressure using the polytropic EOS: P = k * rho^gamma for rho > rho_t_start\n",
    "    pres = np.zeros_like(rhos)\n",
    "    cond = rhos > rho_t_start\n",
    "    pres[cond] = k * (rhos[cond] ** gamma)\n",
    "    \n",
    "    return pres"
   ]
  },
  {
   "cell_type": "code",
   "execution_count": 3,
   "id": "e27a180b-4112-4fe3-99f5-f10d71bc9551",
   "metadata": {},
   "outputs": [],
   "source": [
    "import EOSgenerators.crust_EOS as crust\n",
    "import EOSgenerators.RMF_EOS as RMF\n",
    "import EOSgenerators.Polytrope_EOS as Polytrope\n",
    "import EOSgenerators.Strangeon_EOS as Strangeon\n",
    "import TOVsolver.main as main\n",
    "import matplotlib.pyplot as plt\n",
    "import numpy as np\n",
    "import math\n",
    "from TOVsolver.unit import g_cm_3,dyn_cm_2,km,Msun,MeV,fm\n",
    "#from TOVsolver.maximum_central_density import maximum_central_density"
   ]
  },
  {
   "cell_type": "code",
   "execution_count": 5,
   "id": "1fe8c7d0-fceb-4e33-aaa9-93e49981adc4",
   "metadata": {},
   "outputs": [],
   "source": [
    "data_k = np.loadtxt(\"data_k\")\n",
    "pressure = data_k[:,0]*dyn_cm_2\n",
    "density = data_k[:,1]*g_cm_3"
   ]
  },
  {
   "cell_type": "code",
   "execution_count": 7,
   "id": "2841dc65-9b72-4064-b350-05cfbf834e53",
   "metadata": {},
   "outputs": [],
   "source": [
    "gamma=  np.random.uniform(1.77,3.23,1)"
   ]
  },
  {
   "cell_type": "code",
   "execution_count": 9,
   "id": "41ca294c-4716-4e62-ab49-21d2db93bcba",
   "metadata": {},
   "outputs": [
    {
     "name": "stdout",
     "output_type": "stream",
     "text": [
      "[2.15015668]\n"
     ]
    }
   ],
   "source": [
    "print(gamma)"
   ]
  },
  {
   "cell_type": "code",
   "execution_count": 11,
   "id": "d9f4db5f-13b0-4cef-b49b-5d798f9d702a",
   "metadata": {},
   "outputs": [],
   "source": [
    "eps_set = np.logspace(14.13,14.467,100,base=10)*g_cm_3\n",
    "pres_out =compute_EOS(eps_set,gamma,density[-1], pressure[-1])"
   ]
  },
  {
   "cell_type": "code",
   "execution_count": 13,
   "id": "a15b4d6e-7954-40d6-8b89-1ac700ada97e",
   "metadata": {},
   "outputs": [],
   "source": [
    "eps_total = np.hstack((density,eps_set))\n",
    "pres_total = np.hstack((pressure, pres_out))"
   ]
  },
  {
   "cell_type": "code",
   "execution_count": 15,
   "id": "ab92a49b-34f0-410b-a76d-7a29b8eb8ff8",
   "metadata": {},
   "outputs": [
    {
     "name": "stdout",
     "output_type": "stream",
     "text": [
      "[1.03170000e+04 1.04710000e+05 1.04570000e+06 ... 2.88530627e+14\n",
      " 2.90801043e+14 2.93089325e+14]\n"
     ]
    }
   ],
   "source": [
    "print(eps_total/g_cm_3)"
   ]
  },
  {
   "cell_type": "code",
   "execution_count": 17,
   "id": "6ffe8161-ef56-48df-9672-b198bfc88904",
   "metadata": {},
   "outputs": [
    {
     "name": "stdout",
     "output_type": "stream",
     "text": [
      "[9.53930000e+18 5.33790000e+20 2.32410000e+22 ... 3.24063005e+33\n",
      " 3.29570762e+33 3.35172127e+33]\n"
     ]
    }
   ],
   "source": [
    "print(pres_total/dyn_cm_2)"
   ]
  },
  {
   "cell_type": "code",
   "execution_count": 19,
   "id": "7c4b76d5-9bc4-4270-b121-58b95d5ab1e6",
   "metadata": {},
   "outputs": [],
   "source": [
    "data_polytropic = np.column_stack((pres_out/dyn_cm_2, eps_set/g_cm_3))\n",
    "np.savetxt(\"data_polytropic_4\", data_polytropic,  fmt=\"%.6e\")"
   ]
  },
  {
   "cell_type": "code",
   "execution_count": null,
   "id": "ba9ec01e-ef33-4df7-9c1b-cf5a23dadba6",
   "metadata": {},
   "outputs": [],
   "source": []
  }
 ],
 "metadata": {
  "kernelspec": {
   "display_name": "Python 3 (ipykernel)",
   "language": "python",
   "name": "python3"
  },
  "language_info": {
   "codemirror_mode": {
    "name": "ipython",
    "version": 3
   },
   "file_extension": ".py",
   "mimetype": "text/x-python",
   "name": "python",
   "nbconvert_exporter": "python",
   "pygments_lexer": "ipython3",
   "version": "3.12.4"
  }
 },
 "nbformat": 4,
 "nbformat_minor": 5
}

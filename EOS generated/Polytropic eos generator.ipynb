{
 "cells": [
  {
   "cell_type": "code",
   "execution_count": 5,
   "id": "b6ecee85-5438-445c-9ca5-d8381556f0cd",
   "metadata": {},
   "outputs": [
    {
     "name": "stdout",
     "output_type": "stream",
     "text": [
      "Generated EOS 1/500\n",
      "Generated EOS 51/500\n",
      "Generated EOS 101/500\n",
      "Generated EOS 151/500\n",
      "Generated EOS 201/500\n",
      "Generated EOS 251/500\n",
      "Generated EOS 301/500\n",
      "Generated EOS 351/500\n",
      "Generated EOS 401/500\n",
      "Generated EOS 451/500\n",
      "Generated 500 polytropic EOSs and saved them in C:\\Users\\User\\Compact Object Python Package\\EOS generated\\polytropic eoss\n"
     ]
    }
   ],
   "source": [
    "import os\n",
    "import numpy as np\n",
    "import EOSgenerators.crust_EOS as crust\n",
    "import EOSgenerators.RMF_EOS as RMF\n",
    "import EOSgenerators.Polytrope_EOS as Polytrope\n",
    "import EOSgenerators.Strangeon_EOS as Strangeon\n",
    "import TOVsolver.main as main\n",
    "import matplotlib.pyplot as plt\n",
    "import math\n",
    "from TOVsolver.unit import g_cm_3, dyn_cm_2, km, Msun, MeV, fm\n",
    "\n",
    "# Load base data from \"data_k\"\n",
    "data_k = np.loadtxt(\"data_k\")\n",
    "pressure = data_k[:, 0] * dyn_cm_2  # Pressure in dyn/cm^2\n",
    "density = data_k[:, 1] * g_cm_3     # Energy density in g/cm^3\n",
    "\n",
    "# Define the number of EOSs to generate\n",
    "N = 500\n",
    "\n",
    "# Generate 500 random gamma values between 1.77 and 3.23\n",
    "gammas = np.random.uniform(1.77, 3.23, N)\n",
    "rho_ts = np.array([])\n",
    "# Set up the output folder\n",
    "folder_path = r\"C:\\Users\\User\\Compact Object Python Package\\EOS generated\\polytropic eoss\"\n",
    "if not os.path.exists(folder_path):\n",
    "    os.makedirs(folder_path)\n",
    "\n",
    "# Define the energy density set for the polytropic part\n",
    "eps_set = np.logspace(14.135, 14.467, 100, base=10) * g_cm_3\n",
    "\n",
    "# Generate and save 500 EOSs\n",
    "for i, gamma in enumerate(gammas):\n",
    "    # Set the polytropic parameter theta (single polytrope, so just [gamma])\n",
    "    #theta = [gamma]\n",
    "    theta = np.append(gamma, rho_ts)\n",
    "    # Compute the polytropic EOS for the high-density part\n",
    "    pres_out = Polytrope.compute_EOS(eps_set, theta, density[-1], pressure[-1])\n",
    "    \n",
    "    # Combine low-density (data_k) and high-density (polytropic) parts\n",
    "    eps_total = np.hstack((density, eps_set))\n",
    "    pres_total = np.hstack((pressure, pres_out))\n",
    "    \n",
    "    # Prepare data for saving: energy density (g/cm^3) and pressure (dyn/cm^2)\n",
    "    data_total = np.column_stack((eps_set / g_cm_3, pres_out / dyn_cm_2))\n",
    "    \n",
    "    # Define the output file name with a zero-padded index (e.g., polytropic_EOS_000.txt)\n",
    "    file_name = os.path.join(folder_path, f\"polytropic_EOS_{i:03d}.txt\")\n",
    "    \n",
    "    # Save the EOS data with a header\n",
    "    np.savetxt(file_name, data_total, fmt=\"%.6e\", header=\"epsilon [g/cm^3]   P [dyn/cm^2]\")\n",
    "    \n",
    "    # Print progress every 50 EOSs\n",
    "    if i % 50 == 0:\n",
    "        print(f\"Generated EOS {i+1}/{N}\")\n",
    "\n",
    "# Save the gamma values to a separate file for reference\n",
    "gamma_data = np.column_stack((np.arange(N), gammas))\n",
    "np.savetxt(os.path.join(folder_path, \"gamma_values.txt\"), gamma_data, fmt=\"%d %.6f\", header=\"index gamma\")\n",
    "\n",
    "print(f\"Generated {N} polytropic EOSs and saved them in {folder_path}\")"
   ]
  },
  {
   "cell_type": "code",
   "execution_count": null,
   "id": "00a04c54-cc1c-40c0-a53b-c0d2661a3e34",
   "metadata": {},
   "outputs": [],
   "source": []
  }
 ],
 "metadata": {
  "kernelspec": {
   "display_name": "Python 3 (ipykernel)",
   "language": "python",
   "name": "python3"
  },
  "language_info": {
   "codemirror_mode": {
    "name": "ipython",
    "version": 3
   },
   "file_extension": ".py",
   "mimetype": "text/x-python",
   "name": "python",
   "nbconvert_exporter": "python",
   "pygments_lexer": "ipython3",
   "version": "3.12.4"
  }
 },
 "nbformat": 4,
 "nbformat_minor": 5
}

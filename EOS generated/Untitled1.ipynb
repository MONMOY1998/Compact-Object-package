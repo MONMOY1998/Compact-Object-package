{
 "cells": [
  {
   "cell_type": "code",
   "execution_count": 13,
   "id": "56dd8a48-fa48-4240-aa73-36a570e74827",
   "metadata": {},
   "outputs": [
    {
     "name": "stdout",
     "output_type": "stream",
     "text": [
      "EoS rejected by pQCD constraint\n"
     ]
    },
    {
     "name": "stderr",
     "output_type": "stream",
     "text": [
      "C:\\Users\\User\\AppData\\Local\\Temp\\ipykernel_8464\\3502399212.py:51: DeprecationWarning: 'scipy.integrate.cumtrapz' is deprecated in favour of 'scipy.integrate.cumulative_trapezoid' and will be removed in SciPy 1.14.0\n",
      "  log_n = np.log(n1) + cumtrapz(integrand_n, mu_grid, initial=0)\n",
      "C:\\Users\\User\\AppData\\Local\\Temp\\ipykernel_8464\\3502399212.py:55: DeprecationWarning: 'scipy.integrate.cumtrapz' is deprecated in favour of 'scipy.integrate.cumulative_trapezoid' and will be removed in SciPy 1.14.0\n",
      "  p_grid = p1 + cumtrapz(n_grid, mu_grid, initial=0)\n"
     ]
    }
   ],
   "source": [
    "import numpy as np\n",
    "from scipy.interpolate import interp1d\n",
    "from scipy.integrate import cumtrapz\n",
    "\n",
    "# Constants\n",
    "n0 = 0.16  # fm^{-3}\n",
    "n1 = 1.1 * n0  # fm^{-3}\n",
    "mu1 = 939.0  # MeV\n",
    "p1 = 2.08  # MeV/fm^3\n",
    "Gamma =  3.113855 # Example polytropic index (sampled from [1.77, 3.23])\n",
    "cs1_sq = Gamma - 1  # c_{s,1}^2 at matching point\n",
    "\n",
    "# Parameters for pQCD\n",
    "c1 = 0.9008\n",
    "d1 = 0.5034\n",
    "d2 = 1.452\n",
    "nu1 = 0.3553\n",
    "nu2 = 0.9101\n",
    "\n",
    "# Generate random parameters for sound speed\n",
    "np.random.seed(42)  # For reproducibility\n",
    "N_segments = 7\n",
    "cs_max_sq = np.random.uniform(0, 1)\n",
    "\n",
    "# Sample chemical potential breakpoints (mu_i) and sound speed squared (cs_sq_i)\n",
    "mu_nodes = np.concatenate([\n",
    "    [mu1],\n",
    "    np.sort(np.random.uniform(mu1, 2600, N_segments - 1)),\n",
    "    [2600.0]\n",
    "])\n",
    "cs_sq_nodes = np.concatenate([\n",
    "    [cs1_sq],\n",
    "    np.random.uniform(0, cs_max_sq, N_segments)\n",
    "])\n",
    "\n",
    "# Create a fine grid in mu for integration\n",
    "mu_grid = np.linspace(mu1, 2600, 1000)\n",
    "\n",
    "# Piecewise linear c_s^2(mu)\n",
    "cs_sq_func = interp1d(\n",
    "    mu_nodes, cs_sq_nodes, kind='linear', \n",
    "    bounds_error=False, fill_value=\"extrapolate\"\n",
    ")\n",
    "cs_sq_grid = cs_sq_func(mu_grid)\n",
    "\n",
    "# Avoid division by zero and ensure cs_sq > 0\n",
    "cs_sq_grid = np.clip(cs_sq_grid, 1e-5, 1.0)\n",
    "\n",
    "# Compute n(mu): d(ln n)/dmu = 1/(mu * c_s^2)\n",
    "integrand_n = 1.0 / (mu_grid * cs_sq_grid)\n",
    "log_n = np.log(n1) + cumtrapz(integrand_n, mu_grid, initial=0)\n",
    "n_grid = np.exp(log_n)\n",
    "\n",
    "# Compute p(mu): dp/dmu = n\n",
    "p_grid = p1 + cumtrapz(n_grid, mu_grid, initial=0)\n",
    "\n",
    "# Compute energy density e(mu) = mu * n - p\n",
    "e_grid = mu_grid * n_grid - p_grid\n",
    "\n",
    "# pQCD constraint at mu = 2600 MeV\n",
    "X = np.random.uniform(1, 4)\n",
    "mu_pQCD = 2600.0  # MeV\n",
    "mu_pQCD_GeV = mu_pQCD / 1000.0  # Convert to GeV\n",
    "p_pQCD = (mu_pQCD**4 / (108 * np.pi**2)) * (\n",
    "    c1 - d1 * X**(-nu1) / (mu_pQCD_GeV - d2 * X**(-nu2))\n",
    ")\n",
    "\n",
    "# Check consistency (e.g., within 20%)\n",
    "p_actual = p_grid[-1]\n",
    "if np.abs(p_actual - p_pQCD) / p_pQCD > 0.1:\n",
    "    print(\"EoS rejected by pQCD constraint\")\n",
    "else:\n",
    "    print(\"EoS accepted\")\n",
    "\n",
    "# Output for n in (1.1n0, 40n0] -> n <= 40*n0 = 6.4 fm^{-3}\n",
    "mask = (n_grid > n1) & (n_grid <= 40 * n0)\n",
    "output_mu = mu_grid[mask]\n",
    "output_n = n_grid[mask]\n",
    "output_p = p_grid[mask]\n",
    "output_e = e_grid[mask]\n",
    "output_cs_sq = cs_sq_grid[mask]"
   ]
  },
  {
   "cell_type": "code",
   "execution_count": null,
   "id": "f7e2244b-94ca-47f9-97f3-286a8fe61a62",
   "metadata": {},
   "outputs": [],
   "source": []
  }
 ],
 "metadata": {
  "kernelspec": {
   "display_name": "Python 3 (ipykernel)",
   "language": "python",
   "name": "python3"
  },
  "language_info": {
   "codemirror_mode": {
    "name": "ipython",
    "version": 3
   },
   "file_extension": ".py",
   "mimetype": "text/x-python",
   "name": "python",
   "nbconvert_exporter": "python",
   "pygments_lexer": "ipython3",
   "version": "3.12.4"
  }
 },
 "nbformat": 4,
 "nbformat_minor": 5
}

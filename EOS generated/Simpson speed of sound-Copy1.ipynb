{
 "cells": [
  {
   "cell_type": "code",
   "execution_count": null,
   "id": "a524421a-98cc-4aea-94d3-34a624762808",
   "metadata": {},
   "outputs": [],
   "source": [
    "import numpy as np\n",
    "import matplotlib.pyplot as plt\n",
    "from scipy.interpolate import interp1d\n",
    "Gamma_indices = np.loadtxt(\"polytropic eoss/gamma_values.txt\")\n",
    "Gamma = Gamma_indices[:,1]\n",
    "\n",
    "n_0 = 0.16\n",
    "n_1 = 1.1*n_0\n",
    "P_1 = 0.3848 * ((2.2)**Gamma[203])\n",
    "epsilon_1 = 165.3652 - (  (0.84656/(Gamma[203] - 1)) * (1 - (2.2 ** (Gamma[203] - 1))) )\n",
    "mu_1 = (epsilon_1 + P_1)/n_1\n",
    "\n",
    "#cs2_1 = 0.2200979082\n",
    "cs2_1 = Gamma[203]*P_1/(epsilon_1 + P_1)\n",
    "cs2_N = 0.31"
   ]
  },
  {
   "cell_type": "code",
   "execution_count": null,
   "id": "266fa072-76d8-43b5-a7eb-56f31dfdc8b0",
   "metadata": {},
   "outputs": [],
   "source": [
    "print(Gamma[203])\n",
    "print(P_1)\n",
    "print(epsilon_1)\n",
    "print(cs2_1)\n",
    "print(mu_1)"
   ]
  },
  {
   "cell_type": "code",
   "execution_count": null,
   "id": "27cbb6e8-3edc-425c-9222-c4918d86dcee",
   "metadata": {},
   "outputs": [],
   "source": [
    "def generate_points(N, mu_1, mu_N1=2600):\n",
    "    \"\"\"\n",
    "    Generate random mu_points and cs2_points for piecewise linear c_s^2(mu).\n",
    "    \n",
    "    Parameters:\n",
    "    N (int): Number of segments (e.g., 3, 4, 5, 7).\n",
    "    mu_1 (float): Starting mu value in MeV.\n",
    "    mu_N1 (float): Ending mu value in MeV.\n",
    "    \n",
    "    Returns:\n",
    "    mu_points (list): List of mu values in increasing order.\n",
    "    cs2_points (list): List of c_s^2 values corresponding to mu_points.\n",
    "    \"\"\"\n",
    "   \n",
    "    c_s_max2 = np.random.uniform(0,1)\n",
    "    print(c_s_max2)\n",
    "    \n",
    "    print(c_s_max2)\n",
    "    if N > 1:\n",
    "        intermediate_mus = np.random.uniform(mu_1, mu_N1, N-1)\n",
    "        intermediate_mus.sort()\n",
    "    else:\n",
    "        intermediate_mus = []\n",
    "    mu_points = [mu_1] + list(intermediate_mus) + [mu_N1]\n",
    "\n",
    "    \n",
    "\n",
    "    # intermediate_cs2 = np.random.uniform(cs2_1,c_s_max2,N)\n",
    "    \n",
    "    \n",
    "    # cs2_points = [cs2_1] + list(intermediate_cs2)\n",
    "    \n",
    "    if N > 1:\n",
    "         intermediate_cs2 = np.random.uniform(0, c_s_max2, N-1)\n",
    "    #intermediate_cs2.sort()    \n",
    "    else:\n",
    "         intermediate_cs2 = []\n",
    "    cs2_points = [cs2_1] + list(intermediate_cs2) +[cs2_N]\n",
    "    \n",
    "    return mu_points, cs2_points"
   ]
  },
  {
   "cell_type": "code",
   "execution_count": null,
   "id": "3aa56480-dadc-4a05-8a04-cbd1c70fe211",
   "metadata": {},
   "outputs": [],
   "source": [
    "# Generate piecewise linear c_s²(μ) parameters\n",
    "N = 7  # Number of segments, can be 3, 4, 5, or 7\n",
    "mu_points, cs2_points = generate_points(N, mu_1, mu_N1=2600)\n"
   ]
  },
  {
   "cell_type": "code",
   "execution_count": null,
   "id": "a15720c4-43a0-45f0-8b99-00ed9903ea68",
   "metadata": {},
   "outputs": [],
   "source": [
    "print(cs2_points)\n",
    "print(mu_points)"
   ]
  },
  {
   "cell_type": "code",
   "execution_count": null,
   "id": "dcdbb8b4-df14-434a-b982-74e4beb5716c",
   "metadata": {},
   "outputs": [],
   "source": [
    "# #Define c_s²(μ) with linear interpolation\n",
    "# def c_s2(mu):\n",
    "    \n",
    "#     for i in range(len(mu_points)):\n",
    "#         if mu_points[i] <= mu <= mu_points[i + 1]:\n",
    "#             return (cs2_points[i] * (mu_points[i + 1] - mu) + cs2_points[i + 1] * (mu - mu_points[i])) / (mu_points[i + 1] - mu_points[i])\n",
    "    "
   ]
  },
  {
   "cell_type": "code",
   "execution_count": null,
   "id": "652267a5-bd71-454c-9f51-80e1a7a34428",
   "metadata": {},
   "outputs": [],
   "source": [
    "def c_s2(mu):\n",
    "    \"\"\"Piecewise linear interpolation of c_s^2(μ)\"\"\"\n",
    "    return np.interp(mu, mu_points, cs2_points)"
   ]
  },
  {
   "cell_type": "code",
   "execution_count": null,
   "id": "161d6b3e-6c64-49ae-acc2-bb1330906546",
   "metadata": {},
   "outputs": [],
   "source": [
    "print(c_s2(1600))"
   ]
  },
  {
   "cell_type": "code",
   "execution_count": null,
   "id": "e4fd6ed9-fe69-4512-b802-a3dba1114c18",
   "metadata": {},
   "outputs": [],
   "source": [
    "# Simpson's 1/3 rule\n",
    "def simpson_integrate(f, a, b, n=200):\n",
    "    if n % 2 != 0:\n",
    "        n += 1  # make even\n",
    "    h = (b - a) / n\n",
    "    x = np.linspace(a, b, n + 1)\n",
    "    y = np.array([f(xi) for xi in x])\n",
    "    return (h / 3) * (y[0] + 4 * np.sum(y[1:-1:2]) + 2 * np.sum(y[2:-2:2]) + y[-1])\n"
   ]
  },
  {
   "cell_type": "code",
   "execution_count": null,
   "id": "fba72980-4e25-4211-852f-5e13b0d4aece",
   "metadata": {},
   "outputs": [],
   "source": [
    "# Eq. (2) integrand\n",
    "def integrand_eq2(mu_prime):\n",
    "    cs2 = c_s2(mu_prime)\n",
    "    if cs2 <= 1e-8:\n",
    "        raise ValueError(\"c_s^2 too small or zero at μ = {}\".format(mu_prime))\n",
    "    return 1.0 / (mu_prime * cs2)\n",
    "\n",
    "# n(μ)\n",
    "def n_mu(mu):\n",
    "    if mu <= mu_1:\n",
    "        return n_1\n",
    "    integral = simpson_integrate(integrand_eq2, mu_1, mu)\n",
    "    return n_1 * np.exp(integral)\n"
   ]
  },
  {
   "cell_type": "code",
   "execution_count": null,
   "id": "a6d276a9-8ab3-4238-a8b8-b78fafec1118",
   "metadata": {},
   "outputs": [],
   "source": [
    "# Eq. (3) integrand\n",
    "def integrand_eq3(mu_prime):\n",
    "    return n_mu(mu_prime)\n",
    "\n",
    "# P(μ)\n",
    "def P_mu(mu):\n",
    "    if mu <= mu_1:\n",
    "        return P_1\n",
    "    integral = simpson_integrate(integrand_eq3, mu_1, mu)\n",
    "    return P_1 + integral"
   ]
  },
  {
   "cell_type": "code",
   "execution_count": null,
   "id": "0ab1ee03-bd5b-40a7-a19c-ddb4588375b7",
   "metadata": {},
   "outputs": [],
   "source": [
    "# ε1 from thermodynamic relation (μ1 * n1 - P1)\n",
    "#epsilon_1 = mu_1 * n_1 - P_1\n",
    "\n",
    "# Eq. (4) integrand\n",
    "def integrand_eq4(mu_prime):\n",
    "    cs2 = c_s2(mu_prime)\n",
    "    if cs2 <= 1e-8:\n",
    "        raise ValueError(f\"c_s^2 too small or zero at μ = {mu_prime}\")\n",
    "    return n_mu(mu_prime) / cs2\n",
    "\n",
    "# ε(μ)\n",
    "def epsilon_mu(mu):\n",
    "    if mu < mu_1:\n",
    "        raise ValueError(\"mu must be >= mu_1\")\n",
    "    if abs(mu - mu_1) < 1e-12:  # handle floating point equality\n",
    "        return epsilon_1\n",
    "    integral = simpson_integrate(integrand_eq4, mu_1, mu)\n",
    "    return epsilon_1 + integral\n",
    "\n",
    "# Example usage:\n",
    "#mu_test = 1.3  # GeV\n",
    "#print(f\"ε({mu_test} GeV) = {epsilon_mu(mu_test):.6f} GeV/fm^3\")\n"
   ]
  },
  {
   "cell_type": "code",
   "execution_count": null,
   "id": "0fc58d52-2769-4099-aea8-4ed67c5a1658",
   "metadata": {},
   "outputs": [],
   "source": [
    "\n",
    "mu_grid = np.linspace(mu_1, 2600, 200)  # Higher resolution"
   ]
  },
  {
   "cell_type": "code",
   "execution_count": null,
   "id": "97af9f6d-b92a-40ce-b567-cd15434e19be",
   "metadata": {},
   "outputs": [],
   "source": [
    "print(mu_grid)"
   ]
  },
  {
   "cell_type": "code",
   "execution_count": null,
   "id": "874f538a-2616-45ee-8012-742f709c6c42",
   "metadata": {},
   "outputs": [],
   "source": [
    "# Compute grids\n",
    "cs2_grid = np.array([c_s2(mu) for mu in mu_grid])\n",
    "n_grid = np.array([n_mu(mu) for mu in mu_grid])\n",
    "P_grid = np.array([P_mu(mu) for mu in mu_grid])\n",
    "\n",
    "epsilon_grid = np.array([epsilon_mu(mu) for mu in mu_grid])\n"
   ]
  },
  {
   "cell_type": "code",
   "execution_count": null,
   "id": "e6657793-cb6e-45e2-b465-8f990381cae2",
   "metadata": {},
   "outputs": [],
   "source": [
    "print(n_grid)"
   ]
  },
  {
   "cell_type": "code",
   "execution_count": null,
   "id": "c8b53d5c-6885-46fe-a1bc-8e41dea968ec",
   "metadata": {},
   "outputs": [],
   "source": [
    "print(P_grid)"
   ]
  },
  {
   "cell_type": "code",
   "execution_count": null,
   "id": "84340a08-a46e-4cb3-87dd-e4cd7b0ec934",
   "metadata": {},
   "outputs": [],
   "source": [
    "print(P_mu(2600))\n",
    "print(c_s2(2600))\n",
    "print(epsilon_mu(2600))\n",
    "print(n_mu(2600)/n_0)\n",
    "print(P_grid[-1])"
   ]
  },
  {
   "cell_type": "code",
   "execution_count": null,
   "id": "0e0f5674-4f34-4546-a6c1-8691af2f5b9e",
   "metadata": {},
   "outputs": [],
   "source": [
    "# Convert n to n/n_0\n",
    "n_over_n0 = n_grid / n_0\n",
    "print(n_over_n0)"
   ]
  },
  {
   "cell_type": "code",
   "execution_count": null,
   "id": "5f99e452-5a38-4af3-8407-dfdb75f7055f",
   "metadata": {},
   "outputs": [],
   "source": [
    "print(mu_grid)"
   ]
  },
  {
   "cell_type": "code",
   "execution_count": null,
   "id": "969dcc9e-65a2-4b15-b15f-2cd5ef885c2e",
   "metadata": {},
   "outputs": [],
   "source": [
    "print(P_grid * 1.6022e33)"
   ]
  },
  {
   "cell_type": "code",
   "execution_count": null,
   "id": "a860986e-05da-4242-ae2c-fc0ae77c1e26",
   "metadata": {},
   "outputs": [],
   "source": [
    "print(cs2_grid)"
   ]
  },
  {
   "cell_type": "code",
   "execution_count": null,
   "id": "6a001b39-74a0-4f95-b418-5cce192ee9cb",
   "metadata": {},
   "outputs": [],
   "source": []
  },
  {
   "cell_type": "code",
   "execution_count": null,
   "id": "6850acda-63f6-4ac1-a5d4-18f259ae27b3",
   "metadata": {},
   "outputs": [],
   "source": [
    "print(epsilon_grid*(1.7827e12))"
   ]
  },
  {
   "cell_type": "code",
   "execution_count": null,
   "id": "e2f73502-1272-4f4d-a9a0-8b96936e7c5c",
   "metadata": {},
   "outputs": [],
   "source": [
    "# Filter for the desired range: 1.1 n_0 to 40 n_0\n",
    "mask = (n_over_n0 > 1.1) & (n_over_n0 <= 40)\n",
    "n_plot = n_over_n0[mask]\n",
    "P_plot = P_grid[mask]\n",
    "cs2_plot = cs2_grid[mask]\n",
    "epsilon_plot = epsilon_grid[mask]\n",
    "mu_plot = mu_grid[mask]"
   ]
  },
  {
   "cell_type": "code",
   "execution_count": null,
   "id": "9565c042-e95b-4db2-9a8e-242b8f9764da",
   "metadata": {},
   "outputs": [],
   "source": [
    "print(P_plot[-1])\n",
    "print(epsilon_plot[-1])\n",
    "print(n_plot[-1])\n",
    "print(mu_plot[-1])\n",
    "print(cs2_plot[-1])"
   ]
  },
  {
   "cell_type": "code",
   "execution_count": null,
   "id": "31421327-2772-4913-9514-95c825ef0265",
   "metadata": {},
   "outputs": [],
   "source": [
    "# Parameters for pQCD\n",
    "c1 = 0.9008\n",
    "d1 = 0.5034\n",
    "d2 = 1.452\n",
    "nu1 = 0.3553\n",
    "nu2 = 0.9101\n",
    "\n",
    "def p_QCD(mu_GeV, X):\n",
    "    \"\"\"\n",
    "    mu_GeV: mu in GeV\n",
    "    X: scale parameter\n",
    "    Returns pressure in GeV^4\n",
    "    \"\"\"\n",
    "    prefactor = mu_GeV**4 / (108 * np.pi**2)\n",
    "    bracket = c1 - (d1 * X**(-nu1)) / (mu_GeV/1.0 - d2 * X**(-nu2))\n",
    "    return prefactor * bracket\n",
    "\n",
    "# X values to scan\n",
    "X_values = np.linspace(1, 4, 100)\n",
    "\n",
    "mu_target_GeV = 2.6\n",
    "\n",
    "# pQCD pressures over X\n",
    "p_values = [p_QCD(mu_target_GeV, X) for X in X_values]\n",
    "\n",
    "p_min,p_max = min(p_values), max(p_values)\n",
    "\n",
    "P_at_2600 = P_mu(2600)\n",
    "\n",
    "is_valid = (p_min *(1.3014e5)<=P_at_2600<=p_max * (1.3014e5))\n",
    "\n",
    "if is_valid:\n",
    "    print(\"EOS is consistent with pQCD at mu = 2600 MeV\")\n",
    "else:\n",
    "    print(\"Not consistent with pQCD\")\n",
    "\n",
    "\n",
    "\n",
    "\n",
    "\n",
    "print(p_min * 1.3014e5)\n",
    "print(p_max * 1.3014e5)\n",
    "print(P_at_2600)\n",
    "print(X_values)\n",
    "print(p_values)"
   ]
  },
  {
   "cell_type": "code",
   "execution_count": null,
   "id": "35b1130e-5db7-43c8-a666-d5d90ef75d8e",
   "metadata": {},
   "outputs": [],
   "source": [
    "print(epsilon_plot*(1.7827e12))"
   ]
  },
  {
   "cell_type": "code",
   "execution_count": null,
   "id": "78d02003-06da-45a2-ad61-9f0260cfaba0",
   "metadata": {},
   "outputs": [],
   "source": [
    "print(cs2_plot)"
   ]
  },
  {
   "cell_type": "code",
   "execution_count": null,
   "id": "fc5fe9e8-6b4b-4786-9572-f85319c14467",
   "metadata": {},
   "outputs": [],
   "source": [
    "print(np.max(cs2_plot))"
   ]
  },
  {
   "cell_type": "code",
   "execution_count": null,
   "id": "9f2907d7-869d-4b19-898e-9b211f32e221",
   "metadata": {},
   "outputs": [],
   "source": [
    "p = P_plot * 1.6022e33\n",
    "epsilon = epsilon_plot * 1.7827e12"
   ]
  },
  {
   "cell_type": "code",
   "execution_count": null,
   "id": "f5e41d03-5974-4f11-a463-eb28b9e2bd5b",
   "metadata": {},
   "outputs": [],
   "source": [
    "result_array = np.column_stack((p, epsilon, cs2_plot))"
   ]
  },
  {
   "cell_type": "code",
   "execution_count": null,
   "id": "18a8ce12-0409-49bd-a796-12a85513a320",
   "metadata": {},
   "outputs": [],
   "source": [
    "data_BPS = np.loadtxt(\"data_k\")\n",
    "pres_BPS = data_BPS[:,0]\n",
    "rho_BPS = data_BPS[:,1]"
   ]
  },
  {
   "cell_type": "code",
   "execution_count": null,
   "id": "00784cb2-4d2e-4524-a952-e99e4d99b621",
   "metadata": {},
   "outputs": [],
   "source": [
    "data_polytropic_grok = np.loadtxt(\"polytropic eoss/polytropic_EOS_203.txt\")\n",
    "pres_polytropic = data_polytropic_grok[:,1]\n",
    "rho_polytropic = data_polytropic_grok[:,0]"
   ]
  },
  {
   "cell_type": "code",
   "execution_count": null,
   "id": "1fbe9198-a8be-4b5c-b161-40d188b52439",
   "metadata": {},
   "outputs": [],
   "source": [
    "#print(data_polytropic_grok)"
   ]
  },
  {
   "cell_type": "code",
   "execution_count": null,
   "id": "772c0787-c3c4-4cbd-9545-219eaa631bfe",
   "metadata": {},
   "outputs": [],
   "source": [
    "from TOVsolver.unit import g_cm_3, dyn_cm_2, km, Msun, MeV, fm"
   ]
  },
  {
   "cell_type": "code",
   "execution_count": null,
   "id": "250417c5-4394-4eab-97e4-ed867e572f2f",
   "metadata": {},
   "outputs": [],
   "source": [
    "pres_total = np.hstack((pres_BPS,pres_polytropic,result_array[:,0]))* dyn_cm_2\n",
    "eps_total = np.hstack((rho_BPS,rho_polytropic,result_array[:,1]))*g_cm_3\n",
    "#Last_attempt = np.column_stack((pres_total,eps_total))\n",
    "#np.savetxt(\"data_new_1\", Last_attempt,  fmt=\"%.6e\")"
   ]
  },
  {
   "cell_type": "code",
   "execution_count": null,
   "id": "d27b326a-be3e-4440-b237-e66a4c5b50ad",
   "metadata": {},
   "outputs": [],
   "source": [
    "print(pres_total)\n",
    "print(eps_total)\n",
    "import numpy as np\n",
    "\n",
    "# Load data\n",
    "#data_new = np.loadtxt(\"data_new_1\")\n",
    "#P1 = data_new[:,0] * dyn_cm_2\n",
    "#rho1 = data_new[:,1] * g_cm_3\n",
    "\n",
    "P1 = pres_total\n",
    "rho1 = eps_total\n",
    "\n",
    "# Check for duplicates in rho1\n",
    "if len(rho1) != len(np.unique(rho1)):\n",
    "    print(\"Duplicate values found in rho1 (density):\")\n",
    "    unique, counts = np.unique(rho1, return_counts=True)\n",
    "    duplicates = unique[counts > 1]\n",
    "    print(f\"Duplicate density values: {duplicates}\")\n",
    "else:\n",
    "    print(\"No duplicates in rho1\")\n",
    "\n",
    "# Check for duplicates in P1\n",
    "if len(P1) != len(np.unique(P1)):\n",
    "    print(\"Duplicate values found in P1 (pressure):\")\n",
    "    unique, counts = np.unique(P1, return_counts=True)\n",
    "    duplicates = unique[counts > 1]\n",
    "    print(f\"Duplicate pressure values: {duplicates}\")\n",
    "else:\n",
    "    print(\"No duplicates in P1\")"
   ]
  },
  {
   "cell_type": "code",
   "execution_count": null,
   "id": "2ceca2c1-f150-4726-85e0-57f974f802d6",
   "metadata": {},
   "outputs": [],
   "source": [
    "# Remove duplicates while keeping the first occurrence\n",
    "unique_indices = np.unique(rho1, return_index=True)[1]\n",
    "unique_indices = np.sort(unique_indices)  # Ensure order is preserved\n",
    "rho1_new = rho1[unique_indices]\n",
    "P1_new = P1[unique_indices]\n",
    "\n",
    "print(f\"After removing duplicates, rho1 shape: {rho1.shape}, P1 shape: {P1.shape}\")"
   ]
  },
  {
   "cell_type": "code",
   "execution_count": null,
   "id": "fa0527d2-0f7e-4735-8319-92703e76a359",
   "metadata": {},
   "outputs": [],
   "source": [
    "import EOSgenerators.crust_EOS as crust\n",
    "import EOSgenerators.RMF_EOS as RMF\n",
    "import EOSgenerators.Polytrope_EOS as Polytrope\n",
    "import EOSgenerators.Strangeon_EOS as Strangeon\n",
    "import TOVsolver.main as main\n",
    "import matplotlib.pyplot as plt\n",
    "import numpy as np\n",
    "import math\n",
    "from TOVsolver.unit import g_cm_3, dyn_cm_2, km, Msun, MeV, fm"
   ]
  },
  {
   "cell_type": "code",
   "execution_count": null,
   "id": "ecf8bbaf-abd3-447c-83f3-a8da6bef34e4",
   "metadata": {},
   "outputs": [],
   "source": [
    "MR_EOS = main.OutputMR(\"\",rho1_new,P1_new).T\n",
    "MRT_EOS = main.OutputMRT(\"\",rho1_new,P1_new).T"
   ]
  },
  {
   "cell_type": "code",
   "execution_count": null,
   "id": "869f902c-2104-4728-b3a7-7022884e5887",
   "metadata": {},
   "outputs": [],
   "source": [
    "plt.plot(MR_EOS[1]/km,MR_EOS[0]/Msun)\n",
    "plt.show()\n",
    "print(np.max(MR_EOS[0]/Msun))"
   ]
  },
  {
   "cell_type": "code",
   "execution_count": null,
   "id": "fc64290d-35ce-4cb6-82a9-dc170e7b317a",
   "metadata": {},
   "outputs": [],
   "source": [
    "MR_EOS[0]/Msun"
   ]
  },
  {
   "cell_type": "code",
   "execution_count": null,
   "id": "a4b77297-9637-48a1-b927-f554ca98e8b3",
   "metadata": {},
   "outputs": [],
   "source": [
    "# Plotting\n",
    "plt.plot( rho1_new/(g_cm_3*(1.7827e12)), P1_new/(dyn_cm_2*(1.6022e33)))\n",
    "plt.xlabel('Density (MeV/fm³)')\n",
    "plt.ylabel('Pressure (MeV/fm³)')\n",
    "plt.title('Pressure vs Density')\n",
    "plt.xscale(\"log\")\n",
    "plt.yscale(\"log\")\n",
    "plt.xlim([10**2,10**4])\n",
    "plt.ylim([10**0,10**4])\n",
    "plt.grid(True)\n",
    "#plt.legend()\n",
    "plt.show()"
   ]
  },
  {
   "cell_type": "code",
   "execution_count": null,
   "id": "dfc87a73-4e8b-4174-804f-ce41835ae878",
   "metadata": {},
   "outputs": [],
   "source": [
    "plt.plot(MRT_EOS[1]/Msun, MRT_EOS[2] ,'g-', lw=2,label =\"MS1\")\n",
    "plt.ylim([0,3000])\n",
    "plt.xlim([0.8,3])\n",
    "plt.show()"
   ]
  },
  {
   "cell_type": "code",
   "execution_count": null,
   "id": "2c3401d5-41f3-4459-8b36-3f85096ebd62",
   "metadata": {},
   "outputs": [],
   "source": [
    "print(rho1/g_cm_3)\n",
    "print(len(rho1/g_cm_3))\n",
    "print(len(P1/dyn_cm_2))\n",
    "print(len(cs2_plot))"
   ]
  },
  {
   "cell_type": "code",
   "execution_count": null,
   "id": "3ed0f90f-1d0a-4b31-bd5f-59df8478bdfb",
   "metadata": {},
   "outputs": [],
   "source": [
    "# column_1 = np.ones(1278)  # Placeholder for rho1\n",
    "# column_2 = np.ones(1278)  # Placeholder for P1\n",
    "# column_3 = np.ones(194)  # Placeholder for cs2_plot\n",
    "\n",
    "column_1 = np.ones(1283)  # Placeholder for rho1\n",
    "column_2 = np.ones(1283)  # Placeholder for P1\n",
    "column_3 = np.ones(199)  # Placeholder for cs2_plot\n",
    "\n",
    "\n",
    "# Verify lengths\n",
    "print(\"Length of rho1/g_cm_3:\", len(column_1))\n",
    "print(\"Length of P1/dyn_cm_2:\", len(column_2))\n",
    "print(\"Length of cs2_plot:\", len(column_3))\n",
    "\n",
    "\n",
    "# Pad cs2_plot to length 1185 with np.nan for the first 1085 elements\n",
    "cs2_padded = np.full(1283, np.nan)  # Create array of length 1185 filled with NaN\n",
    "cs2_padded[-199:] = cs2_plot  # Assign last 100 elements from cs2_plot\n",
    "\n",
    "\n",
    "# Create EOS1 by stacking the arrays\n",
    "EOS1 = np.column_stack((rho1/g_cm_3, P1/dyn_cm_2, cs2_padded))\n",
    "\n",
    "\n",
    "\n",
    "# Save EOS1 to a file\n",
    "np.savetxt(\"SPEED OF SOUND EOS/EOS_203.txt\", EOS1, header=\"Density(g/cm^3) Pressure(dyn/cm^2) cs2\", fmt=\"%.6e\")\n",
    "\n",
    "\n",
    "#print(\"EOS3 saved to EOS1_data.txt\")"
   ]
  },
  {
   "cell_type": "code",
   "execution_count": null,
   "id": "2f34c0cb-ffdf-4899-b026-4eeb6c076eee",
   "metadata": {},
   "outputs": [],
   "source": [
    "EOS_194 = np.loadtxt(\"SPEED OF SOUND EOS/EOS_203.txt\")\n",
    "plt.plot(EOS_194[:,0]/(1.7827e12), EOS_194[:,2])\n",
    "plt.xscale(\"log\")\n",
    "plt.xlim([1e2,2e4])\n",
    "#plt.ylim([0,1])\n",
    "plt.show()"
   ]
  },
  {
   "cell_type": "code",
   "execution_count": null,
   "id": "9c134964-a1e4-4a11-b198-a6b2485662c9",
   "metadata": {},
   "outputs": [],
   "source": [
    "import numpy as np\n",
    "\n",
    "# pQCD parameters\n",
    "c1 = 0.9008\n",
    "d1 = 0.5034\n",
    "d2 = 1.452\n",
    "nu1 = 0.3553\n",
    "nu2 = 0.9101\n",
    "\n",
    "def p_QCD(mu_GeV, X):\n",
    "    \"\"\"\n",
    "    mu_GeV: chemical potential in GeV\n",
    "    X: scale parameter\n",
    "    Returns pressure in GeV^4\n",
    "    \"\"\"\n",
    "    prefactor = mu_GeV**4 / (108 * np.pi**2)\n",
    "    bracket = c1 - (d1 * X**(-nu1)) / (mu_GeV - d2 * X**(-nu2))\n",
    "    return prefactor * bracket\n",
    "\n",
    "# Set target mu and X range\n",
    "mu_target_GeV = 2.6\n",
    "X_values = np.linspace(1, 4, 100)\n",
    "\n",
    "# Compute pQCD pressure range in GeV^4\n",
    "p_values = np.array([p_QCD(mu_target_GeV, X) for X in X_values])\n",
    "p_min = np.min(p_values)  # in GeV^4\n",
    "p_max = np.max(p_values)  # in GeV^4\n",
    "\n",
    "# Convert pQCD pressure range to dyn/cm^2\n",
    "conversion_factor = 1.3014e5\n",
    "p_min_dyncm2 = p_min * conversion_factor\n",
    "p_max_dyncm2 = p_max * conversion_factor\n",
    "\n",
    "# Verify each EOS\n",
    "for i in range(1, 181):  # Loop from 1 to 180\n",
    "    try:\n",
    "        EOS_data = np.loadtxt(f\"SPEED OF SOUND EOS/EOS_{i}.txt\")\n",
    "        P_at_2600 = EOS_data[:, 1][-1] /(1.6022e33) # Pressure in dyn/cm^2\n",
    "        if p_min_dyncm2 <= P_at_2600 <= p_max_dyncm2:\n",
    "            print(f\"EOS_{i} is consistent with pQCD at mu = 2600 MeV\")\n",
    "        else:\n",
    "            print(f\"NaN\")\n",
    "    except FileNotFoundError:\n",
    "        continue  # Skip missing files silently"
   ]
  },
  {
   "cell_type": "code",
   "execution_count": null,
   "id": "01a0fa07-d958-4f53-9d07-adb672efa6c6",
   "metadata": {},
   "outputs": [],
   "source": [
    "import pandas as pd\n",
    "import matplotlib.pyplot as plt\n",
    "\n",
    "web_data_boundary = pd.read_csv(\"data boundary 1.csv\")\n",
    "web_data_whole = pd.read_csv(\"data whole.csv\")\n",
    "EOS = np.loadtxt(\"SPEED OF SOUND EOS/EOS_203.txt\")\n",
    "# Adjust column names based on your CSV structure\n",
    "energy_density_boundary = web_data_boundary.iloc[:, 0].to_numpy()  # First column: energy density (MeV/fm³)\n",
    "Pressure_boundary = web_data_boundary.iloc[:, 1].to_numpy()        # Second column: pressure (MeV/fm³)\n",
    "\n",
    "\n",
    "energy_density_whole = web_data_whole.iloc[:, 0].to_numpy()  # First column: energy density (MeV/fm³)\n",
    "Pressure_whole = web_data_whole.iloc[:, 1].to_numpy()      \n",
    "\n",
    "\n",
    "energy_EOS = EOS[:,0]/(1.7827e12)\n",
    "Pressure_EOS = EOS[:,1]/(1.6022e33)\n",
    "\n",
    "# Plotting\n",
    "plt.plot(energy_density_boundary, Pressure_boundary, color = \"grey\", label = \"constrained\")\n",
    "plt.plot(energy_density_whole,Pressure_whole, color = \"red\",label = \"web plot\")\n",
    "plt.plot(energy_EOS, Pressure_EOS, color = \"black\", label = \"whole data\")\n",
    "plt.xlabel('Density (MeV/fm³)')\n",
    "plt.ylabel('Pressure (MeV/fm³)')\n",
    "plt.title('Pressure vs Density')\n",
    "plt.xscale(\"log\")\n",
    "plt.yscale(\"log\")\n",
    "plt.xlim([10**2,4e4])\n",
    "plt.ylim([10**0,10**4])\n",
    "plt.grid(True)\n",
    "plt.legend()\n",
    "plt.show()"
   ]
  },
  {
   "cell_type": "code",
   "execution_count": null,
   "id": "619f0705-f065-4705-87ae-8c8abb4e1448",
   "metadata": {},
   "outputs": [],
   "source": [
    "import numpy as np\n",
    "\n",
    "# pQCD parameters\n",
    "c1 = 0.9008\n",
    "d1 = 0.5034\n",
    "d2 = 1.452\n",
    "nu1 = 0.3553\n",
    "nu2 = 0.9101\n",
    "\n",
    "def p_QCD(mu_GeV, X):\n",
    "    \"\"\"\n",
    "    mu_GeV: chemical potential in GeV\n",
    "    X: scale parameter\n",
    "    Returns pressure in GeV^4\n",
    "    \"\"\"\n",
    "    prefactor = mu_GeV**4 / (108 * np.pi**2)\n",
    "    bracket = c1 - (d1 * X**(-nu1)) / (mu_GeV - d2 * X**(-nu2))\n",
    "    return prefactor * bracket\n",
    "\n",
    "# Set target mu and X range\n",
    "mu_target_GeV = 2.6\n",
    "X_values = np.linspace(1, 4, 100)\n",
    "\n",
    "# Compute pQCD pressure range in GeV^4\n",
    "p_values = np.array([p_QCD(mu_target_GeV, X) for X in X_values])\n",
    "p_min = np.min(p_values)  # in GeV^4\n",
    "p_max = np.max(p_values)  # in GeV^4\n",
    "\n",
    "# Convert pQCD pressure range to dyn/cm^2\n",
    "conversion_factor = 1.3014e5\n",
    "p_min_dyncm2 = p_min * conversion_factor\n",
    "p_max_dyncm2 = p_max * conversion_factor\n",
    "\n",
    "# Initialize lists to store consistent EOS data\n",
    "consistent_eos_data = []\n",
    "consistent_eos_labels = []\n",
    "\n",
    "# Verify each EOS\n",
    "for i in range(1, 181):  # Loop from 1 to 180\n",
    "    try:\n",
    "        EOS_data = np.loadtxt(f\"SPEED OF SOUND EOS/EOS_{i}.txt\")\n",
    "        P_at_2600 = EOS_data[:, 1][-1] /(1.6022e33) # Pressure in dyn/cm^2\n",
    "        if p_min_dyncm2 <= P_at_2600 <= p_max_dyncm2:\n",
    "            #print(f\"EOS_{i} is consistent with pQCD at mu = 2600 MeV\")\n",
    "            energy_density_2 = EOS_data[:, 0]/ 1.7827e12\n",
    "            pressure_2 = EOS_data[:, 1] / 1.6022e33\n",
    "            consistent_eos_data.append((energy_density_2, pressure_2))\n",
    "            consistent_eos_labels.append(f\"EOS_{i}\")\n",
    "            \n",
    "        #else:\n",
    "            #print(f\"NaN\")\n",
    "    except FileNotFoundError:\n",
    "        continue  # Skip missing files silently\n",
    "\n",
    "# Plot consistent EOS\n",
    "plt.figure()\n",
    "\n",
    "plt.plot(energy_density_boundary, Pressure_boundary, color = \"grey\", label = \"constrained\")\n",
    "plt.plot(energy_density_whole,Pressure_whole, color = \"red\", label=\"web plot\" )\n",
    "# for ed, p, label in zip(consistent_eos_data, consistent_eos_data,consistent_eos_labels):\n",
    "#     plt.plot(ed[0], p[1],color =\"orange\")  # Plot energy density vs pressure\n",
    "\n",
    "# for ed, p in consistent_eos_data:\n",
    "#     plt.plot(ed, p, color=\"orange\", label=\"pQCD-consistent EOSs\" if ed is consistent_eos_data[0][0] else None)\n",
    "\n",
    "for i, (ed, p) in enumerate(consistent_eos_data):\n",
    "    plt.plot(ed, p, color=\"orange\", label=\"pQCD-consistent EOSs\" if i == 0 else None)\n",
    "    \n",
    "plt.xlabel('Density (MeV/fm³)')\n",
    "plt.ylabel('Pressure (MeV/fm³)')\n",
    "plt.title('Pressure vs Density for pQCD-Consistent EOS at mu = 2600 MeV')\n",
    "plt.xscale(\"log\")\n",
    "plt.yscale(\"log\")\n",
    "plt.xlim([1e2, 4e4])\n",
    "plt.ylim([1e0, 1e4])\n",
    "plt.grid(True)\n",
    "plt.legend()\n",
    "plt.savefig(\"EOS PLOT.jpg\",dpi=800)\n",
    "plt.show()"
   ]
  },
  {
   "cell_type": "code",
   "execution_count": null,
   "id": "3001b2d0-a468-416a-bbc2-00b629ad7d33",
   "metadata": {},
   "outputs": [],
   "source": [
    "# import numpy as np\n",
    "# import pandas as pd\n",
    "# import matplotlib.pyplot as plt\n",
    "\n",
    "# # pQCD parameters\n",
    "# c1 = 0.9008\n",
    "# d1 = 0.5034\n",
    "# d2 = 1.452\n",
    "# nu1 = 0.3553\n",
    "# nu2 = 0.9101\n",
    "\n",
    "# def p_QCD(mu_GeV, X):\n",
    "#     \"\"\"\n",
    "#     mu_GeV: chemical potential in GeV\n",
    "#     X: scale parameter\n",
    "#     Returns pressure in GeV^4\n",
    "#     \"\"\"\n",
    "#     prefactor = mu_GeV**4 / (108 * np.pi**2)\n",
    "#     bracket = c1 - (d1 * X**(-nu1)) / (mu_GeV - d2 * X**(-nu2))\n",
    "#     return prefactor * bracket\n",
    "\n",
    "# # Set target mu and X range\n",
    "# mu_target_GeV = 2.6\n",
    "# X_values = np.linspace(1, 4, 100)\n",
    "\n",
    "# # Compute pQCD pressure range in GeV^4\n",
    "# p_values = np.array([p_QCD(mu_target_GeV, X) for X in X_values])\n",
    "# p_min = np.min(p_values)  # in GeV^4\n",
    "# p_max = np.max(p_values)  # in GeV^4\n",
    "\n",
    "# # Convert pQCD pressure range to MeV/fm^3 (1 GeV^4 = 10^12 MeV/fm^3)\n",
    "# p_min_MeV_fm3 = p_min * 1.3014e5\n",
    "# p_max_MeV_fm3 = p_max * 1.3014e5\n",
    "\n",
    "# # Initialize lists to store consistent EOS data\n",
    "# consistent_eos_data = []\n",
    "# consistent_eos_labels = []\n",
    "\n",
    "# # Verify each EOS and collect consistent ones\n",
    "# for i in range(1, 181):  # Loop from 1 to 180\n",
    "#     try:\n",
    "#         EOS_data = np.loadtxt(f\"SPEED OF SOUND EOS/EOS_{i}.txt\")\n",
    "#         P_at_2600 = EOS_data[:, 1][-1] / 1.6022e33  # Convert pressure to MeV/fm^3\n",
    "#         if p_min_MeV_fm3 <= P_at_2600 <= p_max_MeV_fm3:\n",
    "#             print(f\"EOS_{i} is consistent with pQCD at mu = 2600 MeV\")\n",
    "#             # Convert energy density (gm/cm^3 to MeV/fm^3) and pressure (dyn/cm^2 to MeV/fm^3)\n",
    "#             energy_density = EOS_data[:, 0] / 1.7827e12\n",
    "#             pressure = EOS_data[:, 1] / 1.6022e33\n",
    "#             consistent_eos_data.append((energy_density, pressure))\n",
    "#             consistent_eos_labels.append(f\"EOS_{i}\")\n",
    "#         else:\n",
    "#             print(f\"NaN\")\n",
    "#     except FileNotFoundError:\n",
    "#         continue  # Skip missing files (e.g., EOS_4.txt, EOS_77.txt)\n",
    "\n",
    "# # Load web data\n",
    "# try:\n",
    "#     web_data = pd.read_csv(\"Web data.csv\")\n",
    "#     energy_density_web = web_data.iloc[:, 0].to_numpy()  # Energy density in MeV/fm^3\n",
    "#     pressure_web = web_data.iloc[:, 1].to_numpy()        # Pressure in MeV/fm^3\n",
    "# except FileNotFoundError:\n",
    "#     print(\"Web data.csv not found in the current directory\")\n",
    "#     energy_density_web = np.array([])\n",
    "#     pressure_web = np.array([])\n",
    "\n",
    "# # Plot all data on a single figure\n",
    "# plt.figure(figsize=(10, 6))\n",
    "# # Plot consistent EOS\n",
    "# for ed, p, label in zip(consistent_eos_data, consistent_eos_data, consistent_eos_labels):\n",
    "#     plt.plot(ed[0], p[1],color = \"red\", alpha=0.7)  # Plot EOS data with slight transparency\n",
    "# # Plot web data\n",
    "# if len(energy_density_web) > 0:\n",
    "#     plt.plot(energy_density_web, pressure_web, label=\"Web Data\", color=\"orange\", linewidth=2, linestyle=\"-\")\n",
    "# plt.xlabel('Density (MeV/fm³)')\n",
    "# plt.ylabel('Pressure (MeV/fm³)')\n",
    "# plt.title('Pressure vs Density for pQCD-Consistent EOS and Web Data at mu = 2600 MeV')\n",
    "# plt.xscale(\"log\")\n",
    "# plt.yscale(\"log\")\n",
    "# plt.xlim([1e2, 2e4])\n",
    "# plt.ylim([1e0, 1e4])\n",
    "# plt.grid(True)\n",
    "# plt.legend()\n",
    "# plt.show()"
   ]
  },
  {
   "cell_type": "code",
   "execution_count": null,
   "id": "f3c3208d-8f5f-4626-80f9-571d22d0933a",
   "metadata": {},
   "outputs": [],
   "source": []
  }
 ],
 "metadata": {
  "kernelspec": {
   "display_name": "Python 3 (ipykernel)",
   "language": "python",
   "name": "python3"
  },
  "language_info": {
   "codemirror_mode": {
    "name": "ipython",
    "version": 3
   },
   "file_extension": ".py",
   "mimetype": "text/x-python",
   "name": "python",
   "nbconvert_exporter": "python",
   "pygments_lexer": "ipython3",
   "version": "3.12.4"
  }
 },
 "nbformat": 4,
 "nbformat_minor": 5
}
